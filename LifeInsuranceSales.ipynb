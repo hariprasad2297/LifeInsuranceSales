{
 "cells": [
  {
   "cell_type": "markdown",
   "metadata": {},
   "source": [
    "**Problem Statement: Life Insurance Data**"
   ]
  },
  {
   "cell_type": "markdown",
   "metadata": {},
   "source": [
    "**The dataset belongs to a leading life insurance company. The company wants to predict the bonus for its agents so that it may design appropriate engagement activity for their high performing agents and upskill programs for low performing agents.**"
   ]
  },
  {
   "cell_type": "code",
   "execution_count": 1,
   "metadata": {},
   "outputs": [],
   "source": [
    "import numpy as np\n",
    "import pandas as pd\n",
    "import seaborn as sns\n",
    "import matplotlib.pyplot as plt"
   ]
  },
  {
   "cell_type": "code",
   "execution_count": 2,
   "metadata": {},
   "outputs": [],
   "source": [
    "df=pd.read_excel('Sales.xlsx',sheet_name='Sales')"
   ]
  },
  {
   "cell_type": "code",
   "execution_count": 3,
   "metadata": {},
   "outputs": [
    {
     "data": {
      "text/html": [
       "<div>\n",
       "<style scoped>\n",
       "    .dataframe tbody tr th:only-of-type {\n",
       "        vertical-align: middle;\n",
       "    }\n",
       "\n",
       "    .dataframe tbody tr th {\n",
       "        vertical-align: top;\n",
       "    }\n",
       "\n",
       "    .dataframe thead th {\n",
       "        text-align: right;\n",
       "    }\n",
       "</style>\n",
       "<table border=\"1\" class=\"dataframe\">\n",
       "  <thead>\n",
       "    <tr style=\"text-align: right;\">\n",
       "      <th></th>\n",
       "      <th>0</th>\n",
       "      <th>1</th>\n",
       "      <th>2</th>\n",
       "      <th>3</th>\n",
       "      <th>4</th>\n",
       "    </tr>\n",
       "  </thead>\n",
       "  <tbody>\n",
       "    <tr>\n",
       "      <th>CustID</th>\n",
       "      <td>7000000</td>\n",
       "      <td>7000001</td>\n",
       "      <td>7000002</td>\n",
       "      <td>7000003</td>\n",
       "      <td>7000004</td>\n",
       "    </tr>\n",
       "    <tr>\n",
       "      <th>AgentBonus</th>\n",
       "      <td>4409</td>\n",
       "      <td>2214</td>\n",
       "      <td>4273</td>\n",
       "      <td>1791</td>\n",
       "      <td>2955</td>\n",
       "    </tr>\n",
       "    <tr>\n",
       "      <th>Age</th>\n",
       "      <td>22.0</td>\n",
       "      <td>11.0</td>\n",
       "      <td>26.0</td>\n",
       "      <td>11.0</td>\n",
       "      <td>6.0</td>\n",
       "    </tr>\n",
       "    <tr>\n",
       "      <th>CustTenure</th>\n",
       "      <td>4.0</td>\n",
       "      <td>2.0</td>\n",
       "      <td>4.0</td>\n",
       "      <td>NaN</td>\n",
       "      <td>NaN</td>\n",
       "    </tr>\n",
       "    <tr>\n",
       "      <th>Channel</th>\n",
       "      <td>Agent</td>\n",
       "      <td>Third Party Partner</td>\n",
       "      <td>Agent</td>\n",
       "      <td>Third Party Partner</td>\n",
       "      <td>Agent</td>\n",
       "    </tr>\n",
       "    <tr>\n",
       "      <th>Occupation</th>\n",
       "      <td>Salaried</td>\n",
       "      <td>Salaried</td>\n",
       "      <td>Free Lancer</td>\n",
       "      <td>Salaried</td>\n",
       "      <td>Small Business</td>\n",
       "    </tr>\n",
       "    <tr>\n",
       "      <th>EducationField</th>\n",
       "      <td>Graduate</td>\n",
       "      <td>Graduate</td>\n",
       "      <td>Post Graduate</td>\n",
       "      <td>Graduate</td>\n",
       "      <td>UG</td>\n",
       "    </tr>\n",
       "    <tr>\n",
       "      <th>Gender</th>\n",
       "      <td>Female</td>\n",
       "      <td>Male</td>\n",
       "      <td>Male</td>\n",
       "      <td>Fe male</td>\n",
       "      <td>Male</td>\n",
       "    </tr>\n",
       "    <tr>\n",
       "      <th>ExistingProdType</th>\n",
       "      <td>3</td>\n",
       "      <td>4</td>\n",
       "      <td>4</td>\n",
       "      <td>3</td>\n",
       "      <td>3</td>\n",
       "    </tr>\n",
       "    <tr>\n",
       "      <th>Designation</th>\n",
       "      <td>Manager</td>\n",
       "      <td>Manager</td>\n",
       "      <td>Exe</td>\n",
       "      <td>Executive</td>\n",
       "      <td>Executive</td>\n",
       "    </tr>\n",
       "    <tr>\n",
       "      <th>NumberOfPolicy</th>\n",
       "      <td>2.0</td>\n",
       "      <td>4.0</td>\n",
       "      <td>3.0</td>\n",
       "      <td>3.0</td>\n",
       "      <td>4.0</td>\n",
       "    </tr>\n",
       "    <tr>\n",
       "      <th>MaritalStatus</th>\n",
       "      <td>Single</td>\n",
       "      <td>Divorced</td>\n",
       "      <td>Unmarried</td>\n",
       "      <td>Divorced</td>\n",
       "      <td>Divorced</td>\n",
       "    </tr>\n",
       "    <tr>\n",
       "      <th>MonthlyIncome</th>\n",
       "      <td>20993.0</td>\n",
       "      <td>20130.0</td>\n",
       "      <td>17090.0</td>\n",
       "      <td>17909.0</td>\n",
       "      <td>18468.0</td>\n",
       "    </tr>\n",
       "    <tr>\n",
       "      <th>Complaint</th>\n",
       "      <td>1</td>\n",
       "      <td>0</td>\n",
       "      <td>1</td>\n",
       "      <td>1</td>\n",
       "      <td>0</td>\n",
       "    </tr>\n",
       "    <tr>\n",
       "      <th>ExistingPolicyTenure</th>\n",
       "      <td>2.0</td>\n",
       "      <td>3.0</td>\n",
       "      <td>2.0</td>\n",
       "      <td>2.0</td>\n",
       "      <td>4.0</td>\n",
       "    </tr>\n",
       "    <tr>\n",
       "      <th>SumAssured</th>\n",
       "      <td>806761.0</td>\n",
       "      <td>294502.0</td>\n",
       "      <td>NaN</td>\n",
       "      <td>268635.0</td>\n",
       "      <td>366405.0</td>\n",
       "    </tr>\n",
       "    <tr>\n",
       "      <th>Zone</th>\n",
       "      <td>North</td>\n",
       "      <td>North</td>\n",
       "      <td>North</td>\n",
       "      <td>West</td>\n",
       "      <td>West</td>\n",
       "    </tr>\n",
       "    <tr>\n",
       "      <th>PaymentMethod</th>\n",
       "      <td>Half Yearly</td>\n",
       "      <td>Yearly</td>\n",
       "      <td>Yearly</td>\n",
       "      <td>Half Yearly</td>\n",
       "      <td>Half Yearly</td>\n",
       "    </tr>\n",
       "    <tr>\n",
       "      <th>LastMonthCalls</th>\n",
       "      <td>5</td>\n",
       "      <td>7</td>\n",
       "      <td>0</td>\n",
       "      <td>0</td>\n",
       "      <td>2</td>\n",
       "    </tr>\n",
       "    <tr>\n",
       "      <th>CustCareScore</th>\n",
       "      <td>2.0</td>\n",
       "      <td>3.0</td>\n",
       "      <td>3.0</td>\n",
       "      <td>5.0</td>\n",
       "      <td>5.0</td>\n",
       "    </tr>\n",
       "  </tbody>\n",
       "</table>\n",
       "</div>"
      ],
      "text/plain": [
       "                                0                    1              2  \\\n",
       "CustID                    7000000              7000001        7000002   \n",
       "AgentBonus                   4409                 2214           4273   \n",
       "Age                          22.0                 11.0           26.0   \n",
       "CustTenure                    4.0                  2.0            4.0   \n",
       "Channel                     Agent  Third Party Partner          Agent   \n",
       "Occupation               Salaried             Salaried    Free Lancer   \n",
       "EducationField           Graduate             Graduate  Post Graduate   \n",
       "Gender                     Female                 Male           Male   \n",
       "ExistingProdType                3                    4              4   \n",
       "Designation               Manager              Manager            Exe   \n",
       "NumberOfPolicy                2.0                  4.0            3.0   \n",
       "MaritalStatus              Single             Divorced      Unmarried   \n",
       "MonthlyIncome             20993.0              20130.0        17090.0   \n",
       "Complaint                       1                    0              1   \n",
       "ExistingPolicyTenure          2.0                  3.0            2.0   \n",
       "SumAssured               806761.0             294502.0            NaN   \n",
       "Zone                        North                North          North   \n",
       "PaymentMethod         Half Yearly               Yearly         Yearly   \n",
       "LastMonthCalls                  5                    7              0   \n",
       "CustCareScore                 2.0                  3.0            3.0   \n",
       "\n",
       "                                        3               4  \n",
       "CustID                            7000003         7000004  \n",
       "AgentBonus                           1791            2955  \n",
       "Age                                  11.0             6.0  \n",
       "CustTenure                            NaN             NaN  \n",
       "Channel               Third Party Partner           Agent  \n",
       "Occupation                       Salaried  Small Business  \n",
       "EducationField                   Graduate              UG  \n",
       "Gender                            Fe male            Male  \n",
       "ExistingProdType                        3               3  \n",
       "Designation                     Executive       Executive  \n",
       "NumberOfPolicy                        3.0             4.0  \n",
       "MaritalStatus                    Divorced        Divorced  \n",
       "MonthlyIncome                     17909.0         18468.0  \n",
       "Complaint                               1               0  \n",
       "ExistingPolicyTenure                  2.0             4.0  \n",
       "SumAssured                       268635.0        366405.0  \n",
       "Zone                                 West            West  \n",
       "PaymentMethod                 Half Yearly     Half Yearly  \n",
       "LastMonthCalls                          0               2  \n",
       "CustCareScore                         5.0             5.0  "
      ]
     },
     "execution_count": 3,
     "metadata": {},
     "output_type": "execute_result"
    }
   ],
   "source": [
    "df.head().T\n",
    "#Null values can be seen in CustTenure,In Gender column Female is written differently in different places.\n",
    "#Same is with the Designation column where Executive is written differently as Exe in different places."
   ]
  },
  {
   "cell_type": "code",
   "execution_count": 4,
   "metadata": {},
   "outputs": [
    {
     "name": "stdout",
     "output_type": "stream",
     "text": [
      "<class 'pandas.core.frame.DataFrame'>\n",
      "RangeIndex: 4520 entries, 0 to 4519\n",
      "Data columns (total 20 columns):\n",
      " #   Column                Non-Null Count  Dtype  \n",
      "---  ------                --------------  -----  \n",
      " 0   CustID                4520 non-null   int64  \n",
      " 1   AgentBonus            4520 non-null   int64  \n",
      " 2   Age                   4251 non-null   float64\n",
      " 3   CustTenure            4294 non-null   float64\n",
      " 4   Channel               4520 non-null   object \n",
      " 5   Occupation            4520 non-null   object \n",
      " 6   EducationField        4520 non-null   object \n",
      " 7   Gender                4520 non-null   object \n",
      " 8   ExistingProdType      4520 non-null   int64  \n",
      " 9   Designation           4520 non-null   object \n",
      " 10  NumberOfPolicy        4475 non-null   float64\n",
      " 11  MaritalStatus         4520 non-null   object \n",
      " 12  MonthlyIncome         4284 non-null   float64\n",
      " 13  Complaint             4520 non-null   int64  \n",
      " 14  ExistingPolicyTenure  4336 non-null   float64\n",
      " 15  SumAssured            4366 non-null   float64\n",
      " 16  Zone                  4520 non-null   object \n",
      " 17  PaymentMethod         4520 non-null   object \n",
      " 18  LastMonthCalls        4520 non-null   int64  \n",
      " 19  CustCareScore         4468 non-null   float64\n",
      "dtypes: float64(7), int64(5), object(8)\n",
      "memory usage: 706.4+ KB\n"
     ]
    }
   ],
   "source": [
    "df.info()"
   ]
  },
  {
   "cell_type": "code",
   "execution_count": 5,
   "metadata": {},
   "outputs": [
    {
     "data": {
      "text/plain": [
       "(4520, 20)"
      ]
     },
     "execution_count": 5,
     "metadata": {},
     "output_type": "execute_result"
    }
   ],
   "source": [
    "df.shape"
   ]
  },
  {
   "cell_type": "code",
   "execution_count": 6,
   "metadata": {},
   "outputs": [
    {
     "data": {
      "text/html": [
       "<div>\n",
       "<style scoped>\n",
       "    .dataframe tbody tr th:only-of-type {\n",
       "        vertical-align: middle;\n",
       "    }\n",
       "\n",
       "    .dataframe tbody tr th {\n",
       "        vertical-align: top;\n",
       "    }\n",
       "\n",
       "    .dataframe thead th {\n",
       "        text-align: right;\n",
       "    }\n",
       "</style>\n",
       "<table border=\"1\" class=\"dataframe\">\n",
       "  <thead>\n",
       "    <tr style=\"text-align: right;\">\n",
       "      <th></th>\n",
       "      <th>count</th>\n",
       "      <th>mean</th>\n",
       "      <th>std</th>\n",
       "      <th>min</th>\n",
       "      <th>25%</th>\n",
       "      <th>50%</th>\n",
       "      <th>75%</th>\n",
       "      <th>max</th>\n",
       "    </tr>\n",
       "  </thead>\n",
       "  <tbody>\n",
       "    <tr>\n",
       "      <th>CustID</th>\n",
       "      <td>4520.0</td>\n",
       "      <td>7.002260e+06</td>\n",
       "      <td>1304.955938</td>\n",
       "      <td>7000000.0</td>\n",
       "      <td>7001129.75</td>\n",
       "      <td>7002259.5</td>\n",
       "      <td>7003389.25</td>\n",
       "      <td>7004519.0</td>\n",
       "    </tr>\n",
       "    <tr>\n",
       "      <th>AgentBonus</th>\n",
       "      <td>4520.0</td>\n",
       "      <td>4.077838e+03</td>\n",
       "      <td>1403.321711</td>\n",
       "      <td>1605.0</td>\n",
       "      <td>3027.75</td>\n",
       "      <td>3911.5</td>\n",
       "      <td>4867.25</td>\n",
       "      <td>9608.0</td>\n",
       "    </tr>\n",
       "    <tr>\n",
       "      <th>Age</th>\n",
       "      <td>4251.0</td>\n",
       "      <td>1.449471e+01</td>\n",
       "      <td>9.037629</td>\n",
       "      <td>2.0</td>\n",
       "      <td>7.00</td>\n",
       "      <td>13.0</td>\n",
       "      <td>20.00</td>\n",
       "      <td>58.0</td>\n",
       "    </tr>\n",
       "    <tr>\n",
       "      <th>CustTenure</th>\n",
       "      <td>4294.0</td>\n",
       "      <td>1.446903e+01</td>\n",
       "      <td>8.963671</td>\n",
       "      <td>2.0</td>\n",
       "      <td>7.00</td>\n",
       "      <td>13.0</td>\n",
       "      <td>20.00</td>\n",
       "      <td>57.0</td>\n",
       "    </tr>\n",
       "    <tr>\n",
       "      <th>ExistingProdType</th>\n",
       "      <td>4520.0</td>\n",
       "      <td>3.688938e+00</td>\n",
       "      <td>1.015769</td>\n",
       "      <td>1.0</td>\n",
       "      <td>3.00</td>\n",
       "      <td>4.0</td>\n",
       "      <td>4.00</td>\n",
       "      <td>6.0</td>\n",
       "    </tr>\n",
       "    <tr>\n",
       "      <th>NumberOfPolicy</th>\n",
       "      <td>4475.0</td>\n",
       "      <td>3.565363e+00</td>\n",
       "      <td>1.455926</td>\n",
       "      <td>1.0</td>\n",
       "      <td>2.00</td>\n",
       "      <td>4.0</td>\n",
       "      <td>5.00</td>\n",
       "      <td>6.0</td>\n",
       "    </tr>\n",
       "    <tr>\n",
       "      <th>MonthlyIncome</th>\n",
       "      <td>4284.0</td>\n",
       "      <td>2.289031e+04</td>\n",
       "      <td>4885.600757</td>\n",
       "      <td>16009.0</td>\n",
       "      <td>19683.50</td>\n",
       "      <td>21606.0</td>\n",
       "      <td>24725.00</td>\n",
       "      <td>38456.0</td>\n",
       "    </tr>\n",
       "    <tr>\n",
       "      <th>Complaint</th>\n",
       "      <td>4520.0</td>\n",
       "      <td>2.871681e-01</td>\n",
       "      <td>0.452491</td>\n",
       "      <td>0.0</td>\n",
       "      <td>0.00</td>\n",
       "      <td>0.0</td>\n",
       "      <td>1.00</td>\n",
       "      <td>1.0</td>\n",
       "    </tr>\n",
       "    <tr>\n",
       "      <th>ExistingPolicyTenure</th>\n",
       "      <td>4336.0</td>\n",
       "      <td>4.130074e+00</td>\n",
       "      <td>3.346386</td>\n",
       "      <td>1.0</td>\n",
       "      <td>2.00</td>\n",
       "      <td>3.0</td>\n",
       "      <td>6.00</td>\n",
       "      <td>25.0</td>\n",
       "    </tr>\n",
       "    <tr>\n",
       "      <th>SumAssured</th>\n",
       "      <td>4366.0</td>\n",
       "      <td>6.199997e+05</td>\n",
       "      <td>246234.822140</td>\n",
       "      <td>168536.0</td>\n",
       "      <td>439443.25</td>\n",
       "      <td>578976.5</td>\n",
       "      <td>758236.00</td>\n",
       "      <td>1838496.0</td>\n",
       "    </tr>\n",
       "    <tr>\n",
       "      <th>LastMonthCalls</th>\n",
       "      <td>4520.0</td>\n",
       "      <td>4.626991e+00</td>\n",
       "      <td>3.620132</td>\n",
       "      <td>0.0</td>\n",
       "      <td>2.00</td>\n",
       "      <td>3.0</td>\n",
       "      <td>8.00</td>\n",
       "      <td>18.0</td>\n",
       "    </tr>\n",
       "    <tr>\n",
       "      <th>CustCareScore</th>\n",
       "      <td>4468.0</td>\n",
       "      <td>3.067592e+00</td>\n",
       "      <td>1.382968</td>\n",
       "      <td>1.0</td>\n",
       "      <td>2.00</td>\n",
       "      <td>3.0</td>\n",
       "      <td>4.00</td>\n",
       "      <td>5.0</td>\n",
       "    </tr>\n",
       "  </tbody>\n",
       "</table>\n",
       "</div>"
      ],
      "text/plain": [
       "                       count          mean            std        min  \\\n",
       "CustID                4520.0  7.002260e+06    1304.955938  7000000.0   \n",
       "AgentBonus            4520.0  4.077838e+03    1403.321711     1605.0   \n",
       "Age                   4251.0  1.449471e+01       9.037629        2.0   \n",
       "CustTenure            4294.0  1.446903e+01       8.963671        2.0   \n",
       "ExistingProdType      4520.0  3.688938e+00       1.015769        1.0   \n",
       "NumberOfPolicy        4475.0  3.565363e+00       1.455926        1.0   \n",
       "MonthlyIncome         4284.0  2.289031e+04    4885.600757    16009.0   \n",
       "Complaint             4520.0  2.871681e-01       0.452491        0.0   \n",
       "ExistingPolicyTenure  4336.0  4.130074e+00       3.346386        1.0   \n",
       "SumAssured            4366.0  6.199997e+05  246234.822140   168536.0   \n",
       "LastMonthCalls        4520.0  4.626991e+00       3.620132        0.0   \n",
       "CustCareScore         4468.0  3.067592e+00       1.382968        1.0   \n",
       "\n",
       "                             25%        50%         75%        max  \n",
       "CustID                7001129.75  7002259.5  7003389.25  7004519.0  \n",
       "AgentBonus               3027.75     3911.5     4867.25     9608.0  \n",
       "Age                         7.00       13.0       20.00       58.0  \n",
       "CustTenure                  7.00       13.0       20.00       57.0  \n",
       "ExistingProdType            3.00        4.0        4.00        6.0  \n",
       "NumberOfPolicy              2.00        4.0        5.00        6.0  \n",
       "MonthlyIncome           19683.50    21606.0    24725.00    38456.0  \n",
       "Complaint                   0.00        0.0        1.00        1.0  \n",
       "ExistingPolicyTenure        2.00        3.0        6.00       25.0  \n",
       "SumAssured             439443.25   578976.5   758236.00  1838496.0  \n",
       "LastMonthCalls              2.00        3.0        8.00       18.0  \n",
       "CustCareScore               2.00        3.0        4.00        5.0  "
      ]
     },
     "execution_count": 6,
     "metadata": {},
     "output_type": "execute_result"
    }
   ],
   "source": [
    "df.describe().T"
   ]
  },
  {
   "cell_type": "code",
   "execution_count": 7,
   "metadata": {},
   "outputs": [
    {
     "data": {
      "text/plain": [
       "CustID                    0\n",
       "AgentBonus                0\n",
       "Age                     269\n",
       "CustTenure              226\n",
       "Channel                   0\n",
       "Occupation                0\n",
       "EducationField            0\n",
       "Gender                    0\n",
       "ExistingProdType          0\n",
       "Designation               0\n",
       "NumberOfPolicy           45\n",
       "MaritalStatus             0\n",
       "MonthlyIncome           236\n",
       "Complaint                 0\n",
       "ExistingPolicyTenure    184\n",
       "SumAssured              154\n",
       "Zone                      0\n",
       "PaymentMethod             0\n",
       "LastMonthCalls            0\n",
       "CustCareScore            52\n",
       "dtype: int64"
      ]
     },
     "execution_count": 7,
     "metadata": {},
     "output_type": "execute_result"
    }
   ],
   "source": [
    "df.isnull().sum()"
   ]
  },
  {
   "cell_type": "code",
   "execution_count": 8,
   "metadata": {},
   "outputs": [],
   "source": [
    "df_num = df.select_dtypes(['float64','int64'])\n",
    "df_cat = df.select_dtypes(['object'])"
   ]
  },
  {
   "cell_type": "code",
   "execution_count": 9,
   "metadata": {},
   "outputs": [
    {
     "name": "stdout",
     "output_type": "stream",
     "text": [
      "<class 'pandas.core.frame.DataFrame'>\n",
      "RangeIndex: 4520 entries, 0 to 4519\n",
      "Data columns (total 12 columns):\n",
      " #   Column                Non-Null Count  Dtype  \n",
      "---  ------                --------------  -----  \n",
      " 0   CustID                4520 non-null   int64  \n",
      " 1   AgentBonus            4520 non-null   int64  \n",
      " 2   Age                   4251 non-null   float64\n",
      " 3   CustTenure            4294 non-null   float64\n",
      " 4   ExistingProdType      4520 non-null   int64  \n",
      " 5   NumberOfPolicy        4475 non-null   float64\n",
      " 6   MonthlyIncome         4284 non-null   float64\n",
      " 7   Complaint             4520 non-null   int64  \n",
      " 8   ExistingPolicyTenure  4336 non-null   float64\n",
      " 9   SumAssured            4366 non-null   float64\n",
      " 10  LastMonthCalls        4520 non-null   int64  \n",
      " 11  CustCareScore         4468 non-null   float64\n",
      "dtypes: float64(7), int64(5)\n",
      "memory usage: 423.9 KB\n"
     ]
    }
   ],
   "source": [
    "df_num.info()"
   ]
  },
  {
   "cell_type": "code",
   "execution_count": 10,
   "metadata": {},
   "outputs": [
    {
     "name": "stdout",
     "output_type": "stream",
     "text": [
      "<class 'pandas.core.frame.DataFrame'>\n",
      "RangeIndex: 4520 entries, 0 to 4519\n",
      "Data columns (total 8 columns):\n",
      " #   Column          Non-Null Count  Dtype \n",
      "---  ------          --------------  ----- \n",
      " 0   Channel         4520 non-null   object\n",
      " 1   Occupation      4520 non-null   object\n",
      " 2   EducationField  4520 non-null   object\n",
      " 3   Gender          4520 non-null   object\n",
      " 4   Designation     4520 non-null   object\n",
      " 5   MaritalStatus   4520 non-null   object\n",
      " 6   Zone            4520 non-null   object\n",
      " 7   PaymentMethod   4520 non-null   object\n",
      "dtypes: object(8)\n",
      "memory usage: 282.6+ KB\n"
     ]
    }
   ],
   "source": [
    "df_cat.info()"
   ]
  },
  {
   "cell_type": "code",
   "execution_count": 11,
   "metadata": {},
   "outputs": [],
   "source": [
    "from sklearn.impute import SimpleImputer\n",
    "imputer = SimpleImputer(missing_values= np.nan, strategy='median')"
   ]
  },
  {
   "cell_type": "code",
   "execution_count": 12,
   "metadata": {},
   "outputs": [],
   "source": [
    "imr = imputer.fit(df_num)\n",
    "df_num = pd.DataFrame(imr.transform(df_num), columns=df_num.columns)"
   ]
  },
  {
   "cell_type": "code",
   "execution_count": 13,
   "metadata": {},
   "outputs": [
    {
     "data": {
      "text/plain": [
       "CustID                  0\n",
       "AgentBonus              0\n",
       "Age                     0\n",
       "CustTenure              0\n",
       "ExistingProdType        0\n",
       "NumberOfPolicy          0\n",
       "MonthlyIncome           0\n",
       "Complaint               0\n",
       "ExistingPolicyTenure    0\n",
       "SumAssured              0\n",
       "LastMonthCalls          0\n",
       "CustCareScore           0\n",
       "dtype: int64"
      ]
     },
     "execution_count": 13,
     "metadata": {},
     "output_type": "execute_result"
    }
   ],
   "source": [
    "df_num.isnull().sum()"
   ]
  },
  {
   "cell_type": "code",
   "execution_count": 14,
   "metadata": {},
   "outputs": [],
   "source": [
    "df_new = pd.concat([df_num, df_cat], axis=1, join='inner')"
   ]
  },
  {
   "cell_type": "code",
   "execution_count": 15,
   "metadata": {},
   "outputs": [
    {
     "data": {
      "text/plain": [
       "CustID                  0\n",
       "AgentBonus              0\n",
       "Age                     0\n",
       "CustTenure              0\n",
       "ExistingProdType        0\n",
       "NumberOfPolicy          0\n",
       "MonthlyIncome           0\n",
       "Complaint               0\n",
       "ExistingPolicyTenure    0\n",
       "SumAssured              0\n",
       "LastMonthCalls          0\n",
       "CustCareScore           0\n",
       "Channel                 0\n",
       "Occupation              0\n",
       "EducationField          0\n",
       "Gender                  0\n",
       "Designation             0\n",
       "MaritalStatus           0\n",
       "Zone                    0\n",
       "PaymentMethod           0\n",
       "dtype: int64"
      ]
     },
     "execution_count": 15,
     "metadata": {},
     "output_type": "execute_result"
    }
   ],
   "source": [
    "df_new.isnull().sum()"
   ]
  },
  {
   "cell_type": "code",
   "execution_count": 16,
   "metadata": {},
   "outputs": [
    {
     "name": "stdout",
     "output_type": "stream",
     "text": [
      "<class 'pandas.core.frame.DataFrame'>\n",
      "RangeIndex: 4520 entries, 0 to 4519\n",
      "Data columns (total 20 columns):\n",
      " #   Column                Non-Null Count  Dtype  \n",
      "---  ------                --------------  -----  \n",
      " 0   CustID                4520 non-null   float64\n",
      " 1   AgentBonus            4520 non-null   float64\n",
      " 2   Age                   4520 non-null   float64\n",
      " 3   CustTenure            4520 non-null   float64\n",
      " 4   ExistingProdType      4520 non-null   float64\n",
      " 5   NumberOfPolicy        4520 non-null   float64\n",
      " 6   MonthlyIncome         4520 non-null   float64\n",
      " 7   Complaint             4520 non-null   float64\n",
      " 8   ExistingPolicyTenure  4520 non-null   float64\n",
      " 9   SumAssured            4520 non-null   float64\n",
      " 10  LastMonthCalls        4520 non-null   float64\n",
      " 11  CustCareScore         4520 non-null   float64\n",
      " 12  Channel               4520 non-null   object \n",
      " 13  Occupation            4520 non-null   object \n",
      " 14  EducationField        4520 non-null   object \n",
      " 15  Gender                4520 non-null   object \n",
      " 16  Designation           4520 non-null   object \n",
      " 17  MaritalStatus         4520 non-null   object \n",
      " 18  Zone                  4520 non-null   object \n",
      " 19  PaymentMethod         4520 non-null   object \n",
      "dtypes: float64(12), object(8)\n",
      "memory usage: 706.4+ KB\n"
     ]
    }
   ],
   "source": [
    "df_new.info()"
   ]
  },
  {
   "cell_type": "code",
   "execution_count": 17,
   "metadata": {},
   "outputs": [
    {
     "data": {
      "text/plain": [
       "False"
      ]
     },
     "execution_count": 17,
     "metadata": {},
     "output_type": "execute_result"
    }
   ],
   "source": [
    "df_new.duplicated().values.any()"
   ]
  },
  {
   "cell_type": "markdown",
   "metadata": {},
   "source": [
    "**Categorical Columns are Channel,Occupation,Educational Field,Gender,Existing Prod Type,Designation,Number of Policy,Marital Status,Complaint,Zone,Payment Method and CustCareScore.**"
   ]
  },
  {
   "cell_type": "code",
   "execution_count": 18,
   "metadata": {},
   "outputs": [
    {
     "name": "stdout",
     "output_type": "stream",
     "text": [
      "1. Categories in Column Channel is ['Agent' 'Third Party Partner' 'Online']\n",
      "2. Categories in Column Occupation is ['Salaried' 'Free Lancer' 'Small Business' 'Laarge Business'\n",
      " 'Large Business']\n",
      "3. Categories in Column Educational Field is ['Graduate' 'Post Graduate' 'UG' 'Under Graduate' 'Engineer' 'Diploma'\n",
      " 'MBA']\n",
      "4. Categories in Column Gender is ['Female' 'Male' 'Fe male']\n",
      "5. Categories in Column Existing Prod Type is [3. 4. 2. 5. 1. 6.]\n",
      "6. Categories in Column Designation is ['Manager' 'Exe' 'Executive' 'VP' 'AVP' 'Senior Manager']\n",
      "7. Categories in Column Number Of Policy is [2. 4. 3. 5. 1. 6.]\n",
      "8. Categories in Column Marital Status  is ['Single' 'Divorced' 'Unmarried' 'Married']\n",
      "9. Categories in Column Complaint is [1. 0.]\n",
      "10. Categories in Column Zone is ['North' 'West' 'East' 'South']\n",
      "11. Categories in Column Payment Method is ['Half Yearly' 'Yearly' 'Quarterly' 'Monthly']\n",
      "12. Categories in Column Cust Care Score is [2. 3. 5. 4. 1.]\n"
     ]
    }
   ],
   "source": [
    "print('1. Categories in Column Channel is',df_new['Channel'].unique())\n",
    "print('2. Categories in Column Occupation is',df_new['Occupation'].unique())\n",
    "print('3. Categories in Column Educational Field is',df_new['EducationField'].unique())\n",
    "print('4. Categories in Column Gender is',df_new['Gender'].unique())\n",
    "print('5. Categories in Column Existing Prod Type is',df_new['ExistingProdType'].unique())\n",
    "print('6. Categories in Column Designation is',df_new['Designation'].unique())\n",
    "print('7. Categories in Column Number Of Policy is',df_new['NumberOfPolicy'].unique())\n",
    "print('8. Categories in Column Marital Status  is',df_new['MaritalStatus'].unique())\n",
    "print('9. Categories in Column Complaint is',df_new['Complaint'].unique())\n",
    "print('10. Categories in Column Zone is',df_new['Zone'].unique())\n",
    "print('11. Categories in Column Payment Method is',df_new['PaymentMethod'].unique())\n",
    "print('12. Categories in Column Cust Care Score is',df_new['CustCareScore'].unique())"
   ]
  },
  {
   "cell_type": "code",
   "execution_count": 19,
   "metadata": {},
   "outputs": [],
   "source": [
    "#Columns Occupation,Educational Field,Gender,Designation,Marital Status needs correction."
   ]
  },
  {
   "cell_type": "code",
   "execution_count": 20,
   "metadata": {},
   "outputs": [],
   "source": [
    "df_new['Occupation']=np.where(df_new['Occupation'] =='Laarge Business', \"Large Business\", df_new['Occupation'])\n",
    "df_new['EducationField']=np.where(df_new['EducationField'] =='UG', \"Under Graduate\", df_new['EducationField'])\n",
    "df_new['Gender']=np.where(df_new['Gender'] =='Fe male', \"Female\", df_new['Gender'])\n",
    "df_new['Designation']=np.where(df_new['Designation'] =='Exe', \"Executive\", df_new['Designation'])\n",
    "df_new['MaritalStatus']=np.where(df_new['MaritalStatus'] =='Single', \"Unmarried\", df_new['MaritalStatus'])"
   ]
  },
  {
   "cell_type": "code",
   "execution_count": 21,
   "metadata": {},
   "outputs": [
    {
     "name": "stdout",
     "output_type": "stream",
     "text": [
      "1. Categories in Column Channel is ['Agent' 'Third Party Partner' 'Online']\n",
      "2. Categories in Column Occupation is ['Salaried' 'Free Lancer' 'Small Business' 'Large Business']\n",
      "3. Categories in Column Educational Field is ['Graduate' 'Post Graduate' 'Under Graduate' 'Engineer' 'Diploma' 'MBA']\n",
      "4. Categories in Column Gender is ['Female' 'Male']\n",
      "5. Categories in Column Existing Prod Type is [3. 4. 2. 5. 1. 6.]\n",
      "6. Categories in Column Designation is ['Manager' 'Executive' 'VP' 'AVP' 'Senior Manager']\n",
      "7. Categories in Column Number Of Policy is [2. 4. 3. 5. 1. 6.]\n",
      "8. Categories in Column Marital Status  is ['Unmarried' 'Divorced' 'Married']\n",
      "9. Categories in Column Complaint is [1. 0.]\n",
      "10. Categories in Column Zone is ['North' 'West' 'East' 'South']\n",
      "11. Categories in Column Payment Method is ['Half Yearly' 'Yearly' 'Quarterly' 'Monthly']\n",
      "12. Categories in Column Cust Care Score is [2. 3. 5. 4. 1.]\n"
     ]
    }
   ],
   "source": [
    "print('1. Categories in Column Channel is',df_new['Channel'].unique())\n",
    "print('2. Categories in Column Occupation is',df_new['Occupation'].unique())\n",
    "print('3. Categories in Column Educational Field is',df_new['EducationField'].unique())\n",
    "print('4. Categories in Column Gender is',df_new['Gender'].unique())\n",
    "print('5. Categories in Column Existing Prod Type is',df_new['ExistingProdType'].unique())\n",
    "print('6. Categories in Column Designation is',df_new['Designation'].unique())\n",
    "print('7. Categories in Column Number Of Policy is',df_new['NumberOfPolicy'].unique())\n",
    "print('8. Categories in Column Marital Status  is',df_new['MaritalStatus'].unique())\n",
    "print('9. Categories in Column Complaint is',df_new['Complaint'].unique())\n",
    "print('10. Categories in Column Zone is',df_new['Zone'].unique())\n",
    "print('11. Categories in Column Payment Method is',df_new['PaymentMethod'].unique())\n",
    "print('12. Categories in Column Cust Care Score is',df_new['CustCareScore'].unique())"
   ]
  },
  {
   "cell_type": "code",
   "execution_count": 22,
   "metadata": {},
   "outputs": [
    {
     "data": {
      "text/plain": [
       "(4520, 20)"
      ]
     },
     "execution_count": 22,
     "metadata": {},
     "output_type": "execute_result"
    }
   ],
   "source": [
    "df_new.shape"
   ]
  },
  {
   "cell_type": "code",
   "execution_count": 23,
   "metadata": {},
   "outputs": [
    {
     "data": {
      "text/plain": [
       "(array([ 1,  2,  3,  4,  5,  6,  7,  8,  9, 10, 11, 12]),\n",
       " [Text(1, 0, 'CustID'),\n",
       "  Text(2, 0, 'AgentBonus'),\n",
       "  Text(3, 0, 'Age'),\n",
       "  Text(4, 0, 'CustTenure'),\n",
       "  Text(5, 0, 'ExistingProdType'),\n",
       "  Text(6, 0, 'NumberOfPolicy'),\n",
       "  Text(7, 0, 'MonthlyIncome'),\n",
       "  Text(8, 0, 'Complaint'),\n",
       "  Text(9, 0, 'ExistingPolicyTenure'),\n",
       "  Text(10, 0, 'SumAssured'),\n",
       "  Text(11, 0, 'LastMonthCalls'),\n",
       "  Text(12, 0, 'CustCareScore')])"
      ]
     },
     "execution_count": 23,
     "metadata": {},
     "output_type": "execute_result"
    },
    {
     "data": {
      "image/png": "[encoded data removed]",
      "text/plain": [
       "<Figure size 1500x1000 with 1 Axes>"
      ]
     },
     "metadata": {},
     "output_type": "display_data"
    }
   ],
   "source": [
    "plt.figure(figsize=(15,10))\n",
    "df_new.boxplot()\n",
    "plt.xticks(rotation=90)"
   ]
  },
  {
   "cell_type": "code",
   "execution_count": 24,
   "metadata": {},
   "outputs": [],
   "source": [
    "## Using Zscore for scaling/standardisation\n",
    "from scipy.stats import zscore"
   ]
  },
  {
   "cell_type": "code",
   "execution_count": 25,
   "metadata": {},
   "outputs": [
    {
     "name": "stdout",
     "output_type": "stream",
     "text": [
      "['Channel', 'Occupation', 'EducationField', 'Gender', 'Designation', 'MaritalStatus', 'Zone', 'PaymentMethod']\n",
      "['CustID', 'AgentBonus', 'Age', 'CustTenure', 'ExistingProdType', 'NumberOfPolicy', 'MonthlyIncome', 'Complaint', 'ExistingPolicyTenure', 'SumAssured', 'LastMonthCalls', 'CustCareScore']\n"
     ]
    }
   ],
   "source": [
    "cat=[]\n",
    "num=[]\n",
    "for i in df_new.columns:\n",
    "    if df[i].dtype==\"object\":\n",
    "        cat.append(i)\n",
    "    else:\n",
    "        num.append(i)\n",
    "print(cat) \n",
    "print(num)"
   ]
  },
  {
   "cell_type": "code",
   "execution_count": 26,
   "metadata": {},
   "outputs": [],
   "source": [
    "from scipy.stats import zscore\n",
    "df_scaled=df_new[num].apply(zscore)"
   ]
  },
  {
   "cell_type": "code",
   "execution_count": 27,
   "metadata": {},
   "outputs": [
    {
     "data": {
      "text/html": [
       "<div>\n",
       "<style scoped>\n",
       "    .dataframe tbody tr th:only-of-type {\n",
       "        vertical-align: middle;\n",
       "    }\n",
       "\n",
       "    .dataframe tbody tr th {\n",
       "        vertical-align: top;\n",
       "    }\n",
       "\n",
       "    .dataframe thead th {\n",
       "        text-align: right;\n",
       "    }\n",
       "</style>\n",
       "<table border=\"1\" class=\"dataframe\">\n",
       "  <thead>\n",
       "    <tr style=\"text-align: right;\">\n",
       "      <th></th>\n",
       "      <th>0</th>\n",
       "      <th>1</th>\n",
       "      <th>2</th>\n",
       "      <th>3</th>\n",
       "      <th>4</th>\n",
       "    </tr>\n",
       "  </thead>\n",
       "  <tbody>\n",
       "    <tr>\n",
       "      <th>CustID</th>\n",
       "      <td>-1.731668</td>\n",
       "      <td>-1.730901</td>\n",
       "      <td>-1.730135</td>\n",
       "      <td>-1.729368</td>\n",
       "      <td>-1.728602</td>\n",
       "    </tr>\n",
       "    <tr>\n",
       "      <th>AgentBonus</th>\n",
       "      <td>0.236010</td>\n",
       "      <td>-1.328309</td>\n",
       "      <td>0.139087</td>\n",
       "      <td>-1.629770</td>\n",
       "      <td>-0.800217</td>\n",
       "    </tr>\n",
       "    <tr>\n",
       "      <th>Age</th>\n",
       "      <td>0.865868</td>\n",
       "      <td>-0.388311</td>\n",
       "      <td>1.321933</td>\n",
       "      <td>-0.388311</td>\n",
       "      <td>-0.958393</td>\n",
       "    </tr>\n",
       "    <tr>\n",
       "      <th>CustTenure</th>\n",
       "      <td>-1.189214</td>\n",
       "      <td>-1.418006</td>\n",
       "      <td>-1.189214</td>\n",
       "      <td>-0.159648</td>\n",
       "      <td>-0.159648</td>\n",
       "    </tr>\n",
       "    <tr>\n",
       "      <th>ExistingProdType</th>\n",
       "      <td>-0.678318</td>\n",
       "      <td>0.306267</td>\n",
       "      <td>0.306267</td>\n",
       "      <td>-0.678318</td>\n",
       "      <td>-0.678318</td>\n",
       "    </tr>\n",
       "    <tr>\n",
       "      <th>NumberOfPolicy</th>\n",
       "      <td>-1.083186</td>\n",
       "      <td>0.296941</td>\n",
       "      <td>-0.393123</td>\n",
       "      <td>-0.393123</td>\n",
       "      <td>0.296941</td>\n",
       "    </tr>\n",
       "    <tr>\n",
       "      <th>MonthlyIncome</th>\n",
       "      <td>-0.384155</td>\n",
       "      <td>-0.565291</td>\n",
       "      <td>-1.203361</td>\n",
       "      <td>-1.031460</td>\n",
       "      <td>-0.914131</td>\n",
       "    </tr>\n",
       "    <tr>\n",
       "      <th>Complaint</th>\n",
       "      <td>1.575525</td>\n",
       "      <td>-0.634709</td>\n",
       "      <td>1.575525</td>\n",
       "      <td>1.575525</td>\n",
       "      <td>-0.634709</td>\n",
       "    </tr>\n",
       "    <tr>\n",
       "      <th>ExistingPolicyTenure</th>\n",
       "      <td>-0.634461</td>\n",
       "      <td>-0.330028</td>\n",
       "      <td>-0.634461</td>\n",
       "      <td>-0.634461</td>\n",
       "      <td>-0.025594</td>\n",
       "    </tr>\n",
       "    <tr>\n",
       "      <th>SumAssured</th>\n",
       "      <td>0.777226</td>\n",
       "      <td>-1.338756</td>\n",
       "      <td>-0.163681</td>\n",
       "      <td>-1.445604</td>\n",
       "      <td>-1.041747</td>\n",
       "    </tr>\n",
       "    <tr>\n",
       "      <th>LastMonthCalls</th>\n",
       "      <td>0.103049</td>\n",
       "      <td>0.655576</td>\n",
       "      <td>-1.278269</td>\n",
       "      <td>-1.278269</td>\n",
       "      <td>-0.725742</td>\n",
       "    </tr>\n",
       "    <tr>\n",
       "      <th>CustCareScore</th>\n",
       "      <td>-0.775947</td>\n",
       "      <td>-0.048597</td>\n",
       "      <td>-0.048597</td>\n",
       "      <td>1.406102</td>\n",
       "      <td>1.406102</td>\n",
       "    </tr>\n",
       "  </tbody>\n",
       "</table>\n",
       "</div>"
      ],
      "text/plain": [
       "                             0         1         2         3         4\n",
       "CustID               -1.731668 -1.730901 -1.730135 -1.729368 -1.728602\n",
       "AgentBonus            0.236010 -1.328309  0.139087 -1.629770 -0.800217\n",
       "Age                   0.865868 -0.388311  1.321933 -0.388311 -0.958393\n",
       "CustTenure           -1.189214 -1.418006 -1.189214 -0.159648 -0.159648\n",
       "ExistingProdType     -0.678318  0.306267  0.306267 -0.678318 -0.678318\n",
       "NumberOfPolicy       -1.083186  0.296941 -0.393123 -0.393123  0.296941\n",
       "MonthlyIncome        -0.384155 -0.565291 -1.203361 -1.031460 -0.914131\n",
       "Complaint             1.575525 -0.634709  1.575525  1.575525 -0.634709\n",
       "ExistingPolicyTenure -0.634461 -0.330028 -0.634461 -0.634461 -0.025594\n",
       "SumAssured            0.777226 -1.338756 -0.163681 -1.445604 -1.041747\n",
       "LastMonthCalls        0.103049  0.655576 -1.278269 -1.278269 -0.725742\n",
       "CustCareScore        -0.775947 -0.048597 -0.048597  1.406102  1.406102"
      ]
     },
     "execution_count": 27,
     "metadata": {},
     "output_type": "execute_result"
    }
   ],
   "source": [
    "df_scaled.head().T"
   ]
  },
  {
   "cell_type": "code",
   "execution_count": 28,
   "metadata": {},
   "outputs": [
    {
     "data": {
      "text/plain": [
       "(array([ 1,  2,  3,  4,  5,  6,  7,  8,  9, 10, 11, 12]),\n",
       " [Text(1, 0, 'CustID'),\n",
       "  Text(2, 0, 'AgentBonus'),\n",
       "  Text(3, 0, 'Age'),\n",
       "  Text(4, 0, 'CustTenure'),\n",
       "  Text(5, 0, 'ExistingProdType'),\n",
       "  Text(6, 0, 'NumberOfPolicy'),\n",
       "  Text(7, 0, 'MonthlyIncome'),\n",
       "  Text(8, 0, 'Complaint'),\n",
       "  Text(9, 0, 'ExistingPolicyTenure'),\n",
       "  Text(10, 0, 'SumAssured'),\n",
       "  Text(11, 0, 'LastMonthCalls'),\n",
       "  Text(12, 0, 'CustCareScore')])"
      ]
     },
     "execution_count": 28,
     "metadata": {},
     "output_type": "execute_result"
    },
    {
     "data": {
      "image/png": "[encoded data removed]",
      "text/plain": [
       "<Figure size 1500x700 with 1 Axes>"
      ]
     },
     "metadata": {},
     "output_type": "display_data"
    }
   ],
   "source": [
    "plt.figure(figsize=(15,7))\n",
    "df_scaled.boxplot()\n",
    "plt.xticks(rotation=90)"
   ]
  },
  {
   "cell_type": "code",
   "execution_count": 29,
   "metadata": {},
   "outputs": [],
   "source": [
    "def remove_outlier(col):\n",
    "    Q1,Q3= col.quantile([0.25,0.75])\n",
    "    IQR=Q3-Q1\n",
    "    lower_range= Q1-(1.5 * IQR)\n",
    "    upper_range= Q3+(1.5 * IQR)\n",
    "    return lower_range, upper_range"
   ]
  },
  {
   "cell_type": "code",
   "execution_count": 30,
   "metadata": {},
   "outputs": [],
   "source": [
    "for i in df_scaled.columns:\n",
    "    lr, ur = remove_outlier(df_scaled[i])\n",
    "    df_scaled[i] = np.where(df_scaled[i]>ur,ur,df_scaled[i])\n",
    "    df_scaled[i] = np.where(df_scaled[i]<lr,lr,df_scaled[i])"
   ]
  },
  {
   "cell_type": "code",
   "execution_count": 31,
   "metadata": {
    "scrolled": false
   },
   "outputs": [
    {
     "data": {
      "text/plain": [
       "(array([ 1,  2,  3,  4,  5,  6,  7,  8,  9, 10, 11, 12]),\n",
       " [Text(1, 0, 'CustID'),\n",
       "  Text(2, 0, 'AgentBonus'),\n",
       "  Text(3, 0, 'Age'),\n",
       "  Text(4, 0, 'CustTenure'),\n",
       "  Text(5, 0, 'ExistingProdType'),\n",
       "  Text(6, 0, 'NumberOfPolicy'),\n",
       "  Text(7, 0, 'MonthlyIncome'),\n",
       "  Text(8, 0, 'Complaint'),\n",
       "  Text(9, 0, 'ExistingPolicyTenure'),\n",
       "  Text(10, 0, 'SumAssured'),\n",
       "  Text(11, 0, 'LastMonthCalls'),\n",
       "  Text(12, 0, 'CustCareScore')])"
      ]
     },
     "execution_count": 31,
     "metadata": {},
     "output_type": "execute_result"
    },
    {
     "data": {
      "image/png": "[encoded data removed]",
      "text/plain": [
       "<Figure size 1500x700 with 1 Axes>"
      ]
     },
     "metadata": {},
     "output_type": "display_data"
    }
   ],
   "source": [
    "plt.figure(figsize=(15,7))\n",
    "df_scaled.boxplot()\n",
    "plt.xticks(rotation=90)"
   ]
  },
  {
   "cell_type": "code",
   "execution_count": 32,
   "metadata": {},
   "outputs": [],
   "source": [
    "#plt.figure(figsize=(10,7))\n",
    "#sns.pairplot(df_scaled)"
   ]
  },
  {
   "cell_type": "code",
   "execution_count": 33,
   "metadata": {},
   "outputs": [
    {
     "data": {
      "text/plain": [
       "<Axes: >"
      ]
     },
     "execution_count": 33,
     "metadata": {},
     "output_type": "execute_result"
    },
    {
     "data": {
      "image/png": "[encoded data removed]",
      "text/plain": [
       "<Figure size 1800x1000 with 2 Axes>"
      ]
     },
     "metadata": {},
     "output_type": "display_data"
    }
   ],
   "source": [
    "plt.figure(figsize=(18,10))\n",
    "sns.heatmap(df_scaled.corr(), annot=True, fmt='0.2f')"
   ]
  },
  {
   "cell_type": "code",
   "execution_count": 34,
   "metadata": {},
   "outputs": [
    {
     "name": "stdout",
     "output_type": "stream",
     "text": [
      "skeness of data frame is CustID                  1.006412e-16\n",
      "AgentBonus              6.300682e-01\n",
      "Age                     7.176793e-01\n",
      "CustTenure              6.925499e-01\n",
      "ExistingProdType       -3.037944e-01\n",
      "NumberOfPolicy         -1.081606e-01\n",
      "MonthlyIncome           8.418956e-01\n",
      "Complaint               9.411289e-01\n",
      "ExistingPolicyTenure    8.226030e-01\n",
      "SumAssured              6.702065e-01\n",
      "LastMonthCalls          7.909360e-01\n",
      "CustCareScore          -1.381202e-01\n",
      "dtype: float64\n",
      "kurtosis of data frame is  CustID                 -1.200000\n",
      "AgentBonus             -0.034675\n",
      "Age                    -0.168247\n",
      "CustTenure             -0.195246\n",
      "ExistingProdType       -0.186574\n",
      "NumberOfPolicy         -0.873539\n",
      "MonthlyIncome           0.099471\n",
      "Complaint              -1.114770\n",
      "ExistingPolicyTenure   -0.486630\n",
      "SumAssured             -0.008944\n",
      "LastMonthCalls          0.071132\n",
      "CustCareScore          -1.103857\n",
      "dtype: float64\n"
     ]
    }
   ],
   "source": [
    "print(\"skeness of data frame is\",df_scaled.skew())\n",
    "print(\"kurtosis of data frame is \", df_scaled.kurtosis())"
   ]
  },
  {
   "cell_type": "code",
   "execution_count": 35,
   "metadata": {},
   "outputs": [
    {
     "name": "stdout",
     "output_type": "stream",
     "text": [
      "CustID                 -0.566023\n",
      "AgentBonus              0.243583\n",
      "Age                     0.039725\n",
      "CustTenure              0.087018\n",
      "ExistingProdType        0.930280\n",
      "NumberOfPolicy          0.268238\n",
      "MonthlyIncome           0.061176\n",
      "Complaint               0.000000\n",
      "ExistingPolicyTenure   -0.143640\n",
      "SumAssured              0.137974\n",
      "LastMonthCalls          0.018464\n",
      "CustCareScore          -0.078080\n",
      "dtype: float64\n"
     ]
    },
    {
     "name": "stderr",
     "output_type": "stream",
     "text": [
      "C:\\Users\\HP\\anaconda3\\Lib\\site-packages\\pandas\\core\\internals\\blocks.py:351: RuntimeWarning: invalid value encountered in sqrt\n",
      "  result = func(self.values, **kwargs)\n"
     ]
    }
   ],
   "source": [
    "print(np.sqrt(df_scaled).skew())"
   ]
  },
  {
   "cell_type": "code",
   "execution_count": 36,
   "metadata": {},
   "outputs": [
    {
     "data": {
      "text/html": [
       "<div>\n",
       "<style scoped>\n",
       "    .dataframe tbody tr th:only-of-type {\n",
       "        vertical-align: middle;\n",
       "    }\n",
       "\n",
       "    .dataframe tbody tr th {\n",
       "        vertical-align: top;\n",
       "    }\n",
       "\n",
       "    .dataframe thead th {\n",
       "        text-align: right;\n",
       "    }\n",
       "</style>\n",
       "<table border=\"1\" class=\"dataframe\">\n",
       "  <thead>\n",
       "    <tr style=\"text-align: right;\">\n",
       "      <th></th>\n",
       "      <th>Channel</th>\n",
       "      <th>Occupation</th>\n",
       "      <th>EducationField</th>\n",
       "      <th>Gender</th>\n",
       "      <th>Designation</th>\n",
       "      <th>MaritalStatus</th>\n",
       "      <th>Zone</th>\n",
       "      <th>PaymentMethod</th>\n",
       "    </tr>\n",
       "  </thead>\n",
       "  <tbody>\n",
       "    <tr>\n",
       "      <th>0</th>\n",
       "      <td>Agent</td>\n",
       "      <td>Salaried</td>\n",
       "      <td>Graduate</td>\n",
       "      <td>Female</td>\n",
       "      <td>Manager</td>\n",
       "      <td>Unmarried</td>\n",
       "      <td>North</td>\n",
       "      <td>Half Yearly</td>\n",
       "    </tr>\n",
       "    <tr>\n",
       "      <th>1</th>\n",
       "      <td>Third Party Partner</td>\n",
       "      <td>Salaried</td>\n",
       "      <td>Graduate</td>\n",
       "      <td>Male</td>\n",
       "      <td>Manager</td>\n",
       "      <td>Divorced</td>\n",
       "      <td>North</td>\n",
       "      <td>Yearly</td>\n",
       "    </tr>\n",
       "    <tr>\n",
       "      <th>2</th>\n",
       "      <td>Agent</td>\n",
       "      <td>Free Lancer</td>\n",
       "      <td>Post Graduate</td>\n",
       "      <td>Male</td>\n",
       "      <td>Executive</td>\n",
       "      <td>Unmarried</td>\n",
       "      <td>North</td>\n",
       "      <td>Yearly</td>\n",
       "    </tr>\n",
       "    <tr>\n",
       "      <th>3</th>\n",
       "      <td>Third Party Partner</td>\n",
       "      <td>Salaried</td>\n",
       "      <td>Graduate</td>\n",
       "      <td>Female</td>\n",
       "      <td>Executive</td>\n",
       "      <td>Divorced</td>\n",
       "      <td>West</td>\n",
       "      <td>Half Yearly</td>\n",
       "    </tr>\n",
       "    <tr>\n",
       "      <th>4</th>\n",
       "      <td>Agent</td>\n",
       "      <td>Small Business</td>\n",
       "      <td>Under Graduate</td>\n",
       "      <td>Male</td>\n",
       "      <td>Executive</td>\n",
       "      <td>Divorced</td>\n",
       "      <td>West</td>\n",
       "      <td>Half Yearly</td>\n",
       "    </tr>\n",
       "    <tr>\n",
       "      <th>...</th>\n",
       "      <td>...</td>\n",
       "      <td>...</td>\n",
       "      <td>...</td>\n",
       "      <td>...</td>\n",
       "      <td>...</td>\n",
       "      <td>...</td>\n",
       "      <td>...</td>\n",
       "      <td>...</td>\n",
       "    </tr>\n",
       "    <tr>\n",
       "      <th>4515</th>\n",
       "      <td>Agent</td>\n",
       "      <td>Small Business</td>\n",
       "      <td>Graduate</td>\n",
       "      <td>Male</td>\n",
       "      <td>Senior Manager</td>\n",
       "      <td>Unmarried</td>\n",
       "      <td>West</td>\n",
       "      <td>Yearly</td>\n",
       "    </tr>\n",
       "    <tr>\n",
       "      <th>4516</th>\n",
       "      <td>Agent</td>\n",
       "      <td>Salaried</td>\n",
       "      <td>Under Graduate</td>\n",
       "      <td>Female</td>\n",
       "      <td>Executive</td>\n",
       "      <td>Married</td>\n",
       "      <td>North</td>\n",
       "      <td>Yearly</td>\n",
       "    </tr>\n",
       "    <tr>\n",
       "      <th>4517</th>\n",
       "      <td>Agent</td>\n",
       "      <td>Salaried</td>\n",
       "      <td>Engineer</td>\n",
       "      <td>Female</td>\n",
       "      <td>AVP</td>\n",
       "      <td>Unmarried</td>\n",
       "      <td>North</td>\n",
       "      <td>Half Yearly</td>\n",
       "    </tr>\n",
       "    <tr>\n",
       "      <th>4518</th>\n",
       "      <td>Online</td>\n",
       "      <td>Small Business</td>\n",
       "      <td>Graduate</td>\n",
       "      <td>Female</td>\n",
       "      <td>Executive</td>\n",
       "      <td>Unmarried</td>\n",
       "      <td>West</td>\n",
       "      <td>Half Yearly</td>\n",
       "    </tr>\n",
       "    <tr>\n",
       "      <th>4519</th>\n",
       "      <td>Agent</td>\n",
       "      <td>Salaried</td>\n",
       "      <td>Under Graduate</td>\n",
       "      <td>Female</td>\n",
       "      <td>Manager</td>\n",
       "      <td>Married</td>\n",
       "      <td>North</td>\n",
       "      <td>Half Yearly</td>\n",
       "    </tr>\n",
       "  </tbody>\n",
       "</table>\n",
       "<p>4520 rows × 8 columns</p>\n",
       "</div>"
      ],
      "text/plain": [
       "                  Channel      Occupation  EducationField  Gender  \\\n",
       "0                   Agent        Salaried        Graduate  Female   \n",
       "1     Third Party Partner        Salaried        Graduate    Male   \n",
       "2                   Agent     Free Lancer   Post Graduate    Male   \n",
       "3     Third Party Partner        Salaried        Graduate  Female   \n",
       "4                   Agent  Small Business  Under Graduate    Male   \n",
       "...                   ...             ...             ...     ...   \n",
       "4515                Agent  Small Business        Graduate    Male   \n",
       "4516                Agent        Salaried  Under Graduate  Female   \n",
       "4517                Agent        Salaried        Engineer  Female   \n",
       "4518               Online  Small Business        Graduate  Female   \n",
       "4519                Agent        Salaried  Under Graduate  Female   \n",
       "\n",
       "         Designation MaritalStatus   Zone PaymentMethod  \n",
       "0            Manager     Unmarried  North   Half Yearly  \n",
       "1            Manager      Divorced  North        Yearly  \n",
       "2          Executive     Unmarried  North        Yearly  \n",
       "3          Executive      Divorced   West   Half Yearly  \n",
       "4          Executive      Divorced   West   Half Yearly  \n",
       "...              ...           ...    ...           ...  \n",
       "4515  Senior Manager     Unmarried   West        Yearly  \n",
       "4516       Executive       Married  North        Yearly  \n",
       "4517             AVP     Unmarried  North   Half Yearly  \n",
       "4518       Executive     Unmarried   West   Half Yearly  \n",
       "4519         Manager       Married  North   Half Yearly  \n",
       "\n",
       "[4520 rows x 8 columns]"
      ]
     },
     "execution_count": 36,
     "metadata": {},
     "output_type": "execute_result"
    }
   ],
   "source": [
    "df_new[cat]"
   ]
  },
  {
   "cell_type": "code",
   "execution_count": 37,
   "metadata": {},
   "outputs": [],
   "source": [
    "df_new1 =pd.get_dummies(df_new,drop_first=True)"
   ]
  },
  {
   "cell_type": "code",
   "execution_count": 38,
   "metadata": {},
   "outputs": [
    {
     "data": {
      "text/html": [
       "<div>\n",
       "<style scoped>\n",
       "    .dataframe tbody tr th:only-of-type {\n",
       "        vertical-align: middle;\n",
       "    }\n",
       "\n",
       "    .dataframe tbody tr th {\n",
       "        vertical-align: top;\n",
       "    }\n",
       "\n",
       "    .dataframe thead th {\n",
       "        text-align: right;\n",
       "    }\n",
       "</style>\n",
       "<table border=\"1\" class=\"dataframe\">\n",
       "  <thead>\n",
       "    <tr style=\"text-align: right;\">\n",
       "      <th></th>\n",
       "      <th>0</th>\n",
       "      <th>1</th>\n",
       "      <th>2</th>\n",
       "      <th>3</th>\n",
       "      <th>4</th>\n",
       "      <th>5</th>\n",
       "      <th>6</th>\n",
       "      <th>7</th>\n",
       "      <th>8</th>\n",
       "      <th>9</th>\n",
       "    </tr>\n",
       "  </thead>\n",
       "  <tbody>\n",
       "    <tr>\n",
       "      <th>CustID</th>\n",
       "      <td>7000000.0</td>\n",
       "      <td>7000001.0</td>\n",
       "      <td>7000002.0</td>\n",
       "      <td>7000003.0</td>\n",
       "      <td>7000004.0</td>\n",
       "      <td>7000005.0</td>\n",
       "      <td>7000006.0</td>\n",
       "      <td>7000007.0</td>\n",
       "      <td>7000008.0</td>\n",
       "      <td>7000009.0</td>\n",
       "    </tr>\n",
       "    <tr>\n",
       "      <th>AgentBonus</th>\n",
       "      <td>4409.0</td>\n",
       "      <td>2214.0</td>\n",
       "      <td>4273.0</td>\n",
       "      <td>1791.0</td>\n",
       "      <td>2955.0</td>\n",
       "      <td>3252.0</td>\n",
       "      <td>3850.0</td>\n",
       "      <td>2073.0</td>\n",
       "      <td>2719.0</td>\n",
       "      <td>3247.0</td>\n",
       "    </tr>\n",
       "    <tr>\n",
       "      <th>Age</th>\n",
       "      <td>22.0</td>\n",
       "      <td>11.0</td>\n",
       "      <td>26.0</td>\n",
       "      <td>11.0</td>\n",
       "      <td>6.0</td>\n",
       "      <td>7.0</td>\n",
       "      <td>12.0</td>\n",
       "      <td>6.0</td>\n",
       "      <td>8.0</td>\n",
       "      <td>6.0</td>\n",
       "    </tr>\n",
       "    <tr>\n",
       "      <th>CustTenure</th>\n",
       "      <td>4.0</td>\n",
       "      <td>2.0</td>\n",
       "      <td>4.0</td>\n",
       "      <td>13.0</td>\n",
       "      <td>13.0</td>\n",
       "      <td>13.0</td>\n",
       "      <td>23.0</td>\n",
       "      <td>4.0</td>\n",
       "      <td>11.0</td>\n",
       "      <td>3.0</td>\n",
       "    </tr>\n",
       "    <tr>\n",
       "      <th>ExistingProdType</th>\n",
       "      <td>3.0</td>\n",
       "      <td>4.0</td>\n",
       "      <td>4.0</td>\n",
       "      <td>3.0</td>\n",
       "      <td>3.0</td>\n",
       "      <td>3.0</td>\n",
       "      <td>4.0</td>\n",
       "      <td>3.0</td>\n",
       "      <td>4.0</td>\n",
       "      <td>2.0</td>\n",
       "    </tr>\n",
       "    <tr>\n",
       "      <th>NumberOfPolicy</th>\n",
       "      <td>2.0</td>\n",
       "      <td>4.0</td>\n",
       "      <td>3.0</td>\n",
       "      <td>3.0</td>\n",
       "      <td>4.0</td>\n",
       "      <td>2.0</td>\n",
       "      <td>3.0</td>\n",
       "      <td>4.0</td>\n",
       "      <td>3.0</td>\n",
       "      <td>2.0</td>\n",
       "    </tr>\n",
       "    <tr>\n",
       "      <th>MonthlyIncome</th>\n",
       "      <td>20993.0</td>\n",
       "      <td>20130.0</td>\n",
       "      <td>17090.0</td>\n",
       "      <td>17909.0</td>\n",
       "      <td>18468.0</td>\n",
       "      <td>18068.0</td>\n",
       "      <td>34999.0</td>\n",
       "      <td>17279.0</td>\n",
       "      <td>20916.0</td>\n",
       "      <td>17089.0</td>\n",
       "    </tr>\n",
       "    <tr>\n",
       "      <th>Complaint</th>\n",
       "      <td>1.0</td>\n",
       "      <td>0.0</td>\n",
       "      <td>1.0</td>\n",
       "      <td>1.0</td>\n",
       "      <td>0.0</td>\n",
       "      <td>0.0</td>\n",
       "      <td>0.0</td>\n",
       "      <td>0.0</td>\n",
       "      <td>1.0</td>\n",
       "      <td>0.0</td>\n",
       "    </tr>\n",
       "    <tr>\n",
       "      <th>ExistingPolicyTenure</th>\n",
       "      <td>2.0</td>\n",
       "      <td>3.0</td>\n",
       "      <td>2.0</td>\n",
       "      <td>2.0</td>\n",
       "      <td>4.0</td>\n",
       "      <td>2.0</td>\n",
       "      <td>2.0</td>\n",
       "      <td>2.0</td>\n",
       "      <td>1.0</td>\n",
       "      <td>1.0</td>\n",
       "    </tr>\n",
       "    <tr>\n",
       "      <th>SumAssured</th>\n",
       "      <td>806761.0</td>\n",
       "      <td>294502.0</td>\n",
       "      <td>578976.5</td>\n",
       "      <td>268635.0</td>\n",
       "      <td>366405.0</td>\n",
       "      <td>487836.0</td>\n",
       "      <td>392689.0</td>\n",
       "      <td>369079.0</td>\n",
       "      <td>405143.0</td>\n",
       "      <td>578976.5</td>\n",
       "    </tr>\n",
       "    <tr>\n",
       "      <th>LastMonthCalls</th>\n",
       "      <td>5.0</td>\n",
       "      <td>7.0</td>\n",
       "      <td>0.0</td>\n",
       "      <td>0.0</td>\n",
       "      <td>2.0</td>\n",
       "      <td>6.0</td>\n",
       "      <td>9.0</td>\n",
       "      <td>3.0</td>\n",
       "      <td>1.0</td>\n",
       "      <td>2.0</td>\n",
       "    </tr>\n",
       "    <tr>\n",
       "      <th>CustCareScore</th>\n",
       "      <td>2.0</td>\n",
       "      <td>3.0</td>\n",
       "      <td>3.0</td>\n",
       "      <td>5.0</td>\n",
       "      <td>5.0</td>\n",
       "      <td>5.0</td>\n",
       "      <td>2.0</td>\n",
       "      <td>3.0</td>\n",
       "      <td>4.0</td>\n",
       "      <td>4.0</td>\n",
       "    </tr>\n",
       "    <tr>\n",
       "      <th>Channel_Online</th>\n",
       "      <td>0.0</td>\n",
       "      <td>0.0</td>\n",
       "      <td>0.0</td>\n",
       "      <td>0.0</td>\n",
       "      <td>0.0</td>\n",
       "      <td>0.0</td>\n",
       "      <td>0.0</td>\n",
       "      <td>0.0</td>\n",
       "      <td>0.0</td>\n",
       "      <td>1.0</td>\n",
       "    </tr>\n",
       "    <tr>\n",
       "      <th>Channel_Third Party Partner</th>\n",
       "      <td>0.0</td>\n",
       "      <td>1.0</td>\n",
       "      <td>0.0</td>\n",
       "      <td>1.0</td>\n",
       "      <td>0.0</td>\n",
       "      <td>1.0</td>\n",
       "      <td>0.0</td>\n",
       "      <td>0.0</td>\n",
       "      <td>0.0</td>\n",
       "      <td>0.0</td>\n",
       "    </tr>\n",
       "    <tr>\n",
       "      <th>Occupation_Large Business</th>\n",
       "      <td>0.0</td>\n",
       "      <td>0.0</td>\n",
       "      <td>0.0</td>\n",
       "      <td>0.0</td>\n",
       "      <td>0.0</td>\n",
       "      <td>0.0</td>\n",
       "      <td>0.0</td>\n",
       "      <td>0.0</td>\n",
       "      <td>0.0</td>\n",
       "      <td>0.0</td>\n",
       "    </tr>\n",
       "    <tr>\n",
       "      <th>Occupation_Salaried</th>\n",
       "      <td>1.0</td>\n",
       "      <td>1.0</td>\n",
       "      <td>0.0</td>\n",
       "      <td>1.0</td>\n",
       "      <td>0.0</td>\n",
       "      <td>1.0</td>\n",
       "      <td>1.0</td>\n",
       "      <td>0.0</td>\n",
       "      <td>1.0</td>\n",
       "      <td>0.0</td>\n",
       "    </tr>\n",
       "    <tr>\n",
       "      <th>Occupation_Small Business</th>\n",
       "      <td>0.0</td>\n",
       "      <td>0.0</td>\n",
       "      <td>0.0</td>\n",
       "      <td>0.0</td>\n",
       "      <td>1.0</td>\n",
       "      <td>0.0</td>\n",
       "      <td>0.0</td>\n",
       "      <td>1.0</td>\n",
       "      <td>0.0</td>\n",
       "      <td>1.0</td>\n",
       "    </tr>\n",
       "    <tr>\n",
       "      <th>EducationField_Engineer</th>\n",
       "      <td>0.0</td>\n",
       "      <td>0.0</td>\n",
       "      <td>0.0</td>\n",
       "      <td>0.0</td>\n",
       "      <td>0.0</td>\n",
       "      <td>0.0</td>\n",
       "      <td>0.0</td>\n",
       "      <td>0.0</td>\n",
       "      <td>0.0</td>\n",
       "      <td>0.0</td>\n",
       "    </tr>\n",
       "    <tr>\n",
       "      <th>EducationField_Graduate</th>\n",
       "      <td>1.0</td>\n",
       "      <td>1.0</td>\n",
       "      <td>0.0</td>\n",
       "      <td>1.0</td>\n",
       "      <td>0.0</td>\n",
       "      <td>1.0</td>\n",
       "      <td>1.0</td>\n",
       "      <td>0.0</td>\n",
       "      <td>1.0</td>\n",
       "      <td>0.0</td>\n",
       "    </tr>\n",
       "    <tr>\n",
       "      <th>EducationField_MBA</th>\n",
       "      <td>0.0</td>\n",
       "      <td>0.0</td>\n",
       "      <td>0.0</td>\n",
       "      <td>0.0</td>\n",
       "      <td>0.0</td>\n",
       "      <td>0.0</td>\n",
       "      <td>0.0</td>\n",
       "      <td>0.0</td>\n",
       "      <td>0.0</td>\n",
       "      <td>0.0</td>\n",
       "    </tr>\n",
       "    <tr>\n",
       "      <th>EducationField_Post Graduate</th>\n",
       "      <td>0.0</td>\n",
       "      <td>0.0</td>\n",
       "      <td>1.0</td>\n",
       "      <td>0.0</td>\n",
       "      <td>0.0</td>\n",
       "      <td>0.0</td>\n",
       "      <td>0.0</td>\n",
       "      <td>0.0</td>\n",
       "      <td>0.0</td>\n",
       "      <td>0.0</td>\n",
       "    </tr>\n",
       "    <tr>\n",
       "      <th>EducationField_Under Graduate</th>\n",
       "      <td>0.0</td>\n",
       "      <td>0.0</td>\n",
       "      <td>0.0</td>\n",
       "      <td>0.0</td>\n",
       "      <td>1.0</td>\n",
       "      <td>0.0</td>\n",
       "      <td>0.0</td>\n",
       "      <td>1.0</td>\n",
       "      <td>0.0</td>\n",
       "      <td>1.0</td>\n",
       "    </tr>\n",
       "    <tr>\n",
       "      <th>Gender_Male</th>\n",
       "      <td>0.0</td>\n",
       "      <td>1.0</td>\n",
       "      <td>1.0</td>\n",
       "      <td>0.0</td>\n",
       "      <td>1.0</td>\n",
       "      <td>1.0</td>\n",
       "      <td>1.0</td>\n",
       "      <td>0.0</td>\n",
       "      <td>1.0</td>\n",
       "      <td>1.0</td>\n",
       "    </tr>\n",
       "    <tr>\n",
       "      <th>Designation_Executive</th>\n",
       "      <td>0.0</td>\n",
       "      <td>0.0</td>\n",
       "      <td>1.0</td>\n",
       "      <td>1.0</td>\n",
       "      <td>1.0</td>\n",
       "      <td>1.0</td>\n",
       "      <td>0.0</td>\n",
       "      <td>1.0</td>\n",
       "      <td>0.0</td>\n",
       "      <td>1.0</td>\n",
       "    </tr>\n",
       "    <tr>\n",
       "      <th>Designation_Manager</th>\n",
       "      <td>1.0</td>\n",
       "      <td>1.0</td>\n",
       "      <td>0.0</td>\n",
       "      <td>0.0</td>\n",
       "      <td>0.0</td>\n",
       "      <td>0.0</td>\n",
       "      <td>0.0</td>\n",
       "      <td>0.0</td>\n",
       "      <td>1.0</td>\n",
       "      <td>0.0</td>\n",
       "    </tr>\n",
       "    <tr>\n",
       "      <th>Designation_Senior Manager</th>\n",
       "      <td>0.0</td>\n",
       "      <td>0.0</td>\n",
       "      <td>0.0</td>\n",
       "      <td>0.0</td>\n",
       "      <td>0.0</td>\n",
       "      <td>0.0</td>\n",
       "      <td>0.0</td>\n",
       "      <td>0.0</td>\n",
       "      <td>0.0</td>\n",
       "      <td>0.0</td>\n",
       "    </tr>\n",
       "    <tr>\n",
       "      <th>Designation_VP</th>\n",
       "      <td>0.0</td>\n",
       "      <td>0.0</td>\n",
       "      <td>0.0</td>\n",
       "      <td>0.0</td>\n",
       "      <td>0.0</td>\n",
       "      <td>0.0</td>\n",
       "      <td>1.0</td>\n",
       "      <td>0.0</td>\n",
       "      <td>0.0</td>\n",
       "      <td>0.0</td>\n",
       "    </tr>\n",
       "    <tr>\n",
       "      <th>MaritalStatus_Married</th>\n",
       "      <td>0.0</td>\n",
       "      <td>0.0</td>\n",
       "      <td>0.0</td>\n",
       "      <td>0.0</td>\n",
       "      <td>0.0</td>\n",
       "      <td>0.0</td>\n",
       "      <td>0.0</td>\n",
       "      <td>0.0</td>\n",
       "      <td>0.0</td>\n",
       "      <td>1.0</td>\n",
       "    </tr>\n",
       "    <tr>\n",
       "      <th>MaritalStatus_Unmarried</th>\n",
       "      <td>1.0</td>\n",
       "      <td>0.0</td>\n",
       "      <td>1.0</td>\n",
       "      <td>0.0</td>\n",
       "      <td>0.0</td>\n",
       "      <td>1.0</td>\n",
       "      <td>0.0</td>\n",
       "      <td>1.0</td>\n",
       "      <td>0.0</td>\n",
       "      <td>0.0</td>\n",
       "    </tr>\n",
       "    <tr>\n",
       "      <th>Zone_North</th>\n",
       "      <td>1.0</td>\n",
       "      <td>1.0</td>\n",
       "      <td>1.0</td>\n",
       "      <td>0.0</td>\n",
       "      <td>0.0</td>\n",
       "      <td>1.0</td>\n",
       "      <td>1.0</td>\n",
       "      <td>0.0</td>\n",
       "      <td>0.0</td>\n",
       "      <td>0.0</td>\n",
       "    </tr>\n",
       "    <tr>\n",
       "      <th>Zone_South</th>\n",
       "      <td>0.0</td>\n",
       "      <td>0.0</td>\n",
       "      <td>0.0</td>\n",
       "      <td>0.0</td>\n",
       "      <td>0.0</td>\n",
       "      <td>0.0</td>\n",
       "      <td>0.0</td>\n",
       "      <td>0.0</td>\n",
       "      <td>0.0</td>\n",
       "      <td>0.0</td>\n",
       "    </tr>\n",
       "    <tr>\n",
       "      <th>Zone_West</th>\n",
       "      <td>0.0</td>\n",
       "      <td>0.0</td>\n",
       "      <td>0.0</td>\n",
       "      <td>1.0</td>\n",
       "      <td>1.0</td>\n",
       "      <td>0.0</td>\n",
       "      <td>0.0</td>\n",
       "      <td>1.0</td>\n",
       "      <td>1.0</td>\n",
       "      <td>1.0</td>\n",
       "    </tr>\n",
       "    <tr>\n",
       "      <th>PaymentMethod_Monthly</th>\n",
       "      <td>0.0</td>\n",
       "      <td>0.0</td>\n",
       "      <td>0.0</td>\n",
       "      <td>0.0</td>\n",
       "      <td>0.0</td>\n",
       "      <td>0.0</td>\n",
       "      <td>0.0</td>\n",
       "      <td>0.0</td>\n",
       "      <td>0.0</td>\n",
       "      <td>0.0</td>\n",
       "    </tr>\n",
       "    <tr>\n",
       "      <th>PaymentMethod_Quarterly</th>\n",
       "      <td>0.0</td>\n",
       "      <td>0.0</td>\n",
       "      <td>0.0</td>\n",
       "      <td>0.0</td>\n",
       "      <td>0.0</td>\n",
       "      <td>0.0</td>\n",
       "      <td>0.0</td>\n",
       "      <td>0.0</td>\n",
       "      <td>0.0</td>\n",
       "      <td>1.0</td>\n",
       "    </tr>\n",
       "    <tr>\n",
       "      <th>PaymentMethod_Yearly</th>\n",
       "      <td>0.0</td>\n",
       "      <td>1.0</td>\n",
       "      <td>1.0</td>\n",
       "      <td>0.0</td>\n",
       "      <td>0.0</td>\n",
       "      <td>0.0</td>\n",
       "      <td>1.0</td>\n",
       "      <td>0.0</td>\n",
       "      <td>1.0</td>\n",
       "      <td>0.0</td>\n",
       "    </tr>\n",
       "  </tbody>\n",
       "</table>\n",
       "</div>"
      ],
      "text/plain": [
       "                                       0          1          2          3  \\\n",
       "CustID                         7000000.0  7000001.0  7000002.0  7000003.0   \n",
       "AgentBonus                        4409.0     2214.0     4273.0     1791.0   \n",
       "Age                                 22.0       11.0       26.0       11.0   \n",
       "CustTenure                           4.0        2.0        4.0       13.0   \n",
       "ExistingProdType                     3.0        4.0        4.0        3.0   \n",
       "NumberOfPolicy                       2.0        4.0        3.0        3.0   \n",
       "MonthlyIncome                    20993.0    20130.0    17090.0    17909.0   \n",
       "Complaint                            1.0        0.0        1.0        1.0   \n",
       "ExistingPolicyTenure                 2.0        3.0        2.0        2.0   \n",
       "SumAssured                      806761.0   294502.0   578976.5   268635.0   \n",
       "LastMonthCalls                       5.0        7.0        0.0        0.0   \n",
       "CustCareScore                        2.0        3.0        3.0        5.0   \n",
       "Channel_Online                       0.0        0.0        0.0        0.0   \n",
       "Channel_Third Party Partner          0.0        1.0        0.0        1.0   \n",
       "Occupation_Large Business            0.0        0.0        0.0        0.0   \n",
       "Occupation_Salaried                  1.0        1.0        0.0        1.0   \n",
       "Occupation_Small Business            0.0        0.0        0.0        0.0   \n",
       "EducationField_Engineer              0.0        0.0        0.0        0.0   \n",
       "EducationField_Graduate              1.0        1.0        0.0        1.0   \n",
       "EducationField_MBA                   0.0        0.0        0.0        0.0   \n",
       "EducationField_Post Graduate         0.0        0.0        1.0        0.0   \n",
       "EducationField_Under Graduate        0.0        0.0        0.0        0.0   \n",
       "Gender_Male                          0.0        1.0        1.0        0.0   \n",
       "Designation_Executive                0.0        0.0        1.0        1.0   \n",
       "Designation_Manager                  1.0        1.0        0.0        0.0   \n",
       "Designation_Senior Manager           0.0        0.0        0.0        0.0   \n",
       "Designation_VP                       0.0        0.0        0.0        0.0   \n",
       "MaritalStatus_Married                0.0        0.0        0.0        0.0   \n",
       "MaritalStatus_Unmarried              1.0        0.0        1.0        0.0   \n",
       "Zone_North                           1.0        1.0        1.0        0.0   \n",
       "Zone_South                           0.0        0.0        0.0        0.0   \n",
       "Zone_West                            0.0        0.0        0.0        1.0   \n",
       "PaymentMethod_Monthly                0.0        0.0        0.0        0.0   \n",
       "PaymentMethod_Quarterly              0.0        0.0        0.0        0.0   \n",
       "PaymentMethod_Yearly                 0.0        1.0        1.0        0.0   \n",
       "\n",
       "                                       4          5          6          7  \\\n",
       "CustID                         7000004.0  7000005.0  7000006.0  7000007.0   \n",
       "AgentBonus                        2955.0     3252.0     3850.0     2073.0   \n",
       "Age                                  6.0        7.0       12.0        6.0   \n",
       "CustTenure                          13.0       13.0       23.0        4.0   \n",
       "ExistingProdType                     3.0        3.0        4.0        3.0   \n",
       "NumberOfPolicy                       4.0        2.0        3.0        4.0   \n",
       "MonthlyIncome                    18468.0    18068.0    34999.0    17279.0   \n",
       "Complaint                            0.0        0.0        0.0        0.0   \n",
       "ExistingPolicyTenure                 4.0        2.0        2.0        2.0   \n",
       "SumAssured                      366405.0   487836.0   392689.0   369079.0   \n",
       "LastMonthCalls                       2.0        6.0        9.0        3.0   \n",
       "CustCareScore                        5.0        5.0        2.0        3.0   \n",
       "Channel_Online                       0.0        0.0        0.0        0.0   \n",
       "Channel_Third Party Partner          0.0        1.0        0.0        0.0   \n",
       "Occupation_Large Business            0.0        0.0        0.0        0.0   \n",
       "Occupation_Salaried                  0.0        1.0        1.0        0.0   \n",
       "Occupation_Small Business            1.0        0.0        0.0        1.0   \n",
       "EducationField_Engineer              0.0        0.0        0.0        0.0   \n",
       "EducationField_Graduate              0.0        1.0        1.0        0.0   \n",
       "EducationField_MBA                   0.0        0.0        0.0        0.0   \n",
       "EducationField_Post Graduate         0.0        0.0        0.0        0.0   \n",
       "EducationField_Under Graduate        1.0        0.0        0.0        1.0   \n",
       "Gender_Male                          1.0        1.0        1.0        0.0   \n",
       "Designation_Executive                1.0        1.0        0.0        1.0   \n",
       "Designation_Manager                  0.0        0.0        0.0        0.0   \n",
       "Designation_Senior Manager           0.0        0.0        0.0        0.0   \n",
       "Designation_VP                       0.0        0.0        1.0        0.0   \n",
       "MaritalStatus_Married                0.0        0.0        0.0        0.0   \n",
       "MaritalStatus_Unmarried              0.0        1.0        0.0        1.0   \n",
       "Zone_North                           0.0        1.0        1.0        0.0   \n",
       "Zone_South                           0.0        0.0        0.0        0.0   \n",
       "Zone_West                            1.0        0.0        0.0        1.0   \n",
       "PaymentMethod_Monthly                0.0        0.0        0.0        0.0   \n",
       "PaymentMethod_Quarterly              0.0        0.0        0.0        0.0   \n",
       "PaymentMethod_Yearly                 0.0        0.0        1.0        0.0   \n",
       "\n",
       "                                       8          9  \n",
       "CustID                         7000008.0  7000009.0  \n",
       "AgentBonus                        2719.0     3247.0  \n",
       "Age                                  8.0        6.0  \n",
       "CustTenure                          11.0        3.0  \n",
       "ExistingProdType                     4.0        2.0  \n",
       "NumberOfPolicy                       3.0        2.0  \n",
       "MonthlyIncome                    20916.0    17089.0  \n",
       "Complaint                            1.0        0.0  \n",
       "ExistingPolicyTenure                 1.0        1.0  \n",
       "SumAssured                      405143.0   578976.5  \n",
       "LastMonthCalls                       1.0        2.0  \n",
       "CustCareScore                        4.0        4.0  \n",
       "Channel_Online                       0.0        1.0  \n",
       "Channel_Third Party Partner          0.0        0.0  \n",
       "Occupation_Large Business            0.0        0.0  \n",
       "Occupation_Salaried                  1.0        0.0  \n",
       "Occupation_Small Business            0.0        1.0  \n",
       "EducationField_Engineer              0.0        0.0  \n",
       "EducationField_Graduate              1.0        0.0  \n",
       "EducationField_MBA                   0.0        0.0  \n",
       "EducationField_Post Graduate         0.0        0.0  \n",
       "EducationField_Under Graduate        0.0        1.0  \n",
       "Gender_Male                          1.0        1.0  \n",
       "Designation_Executive                0.0        1.0  \n",
       "Designation_Manager                  1.0        0.0  \n",
       "Designation_Senior Manager           0.0        0.0  \n",
       "Designation_VP                       0.0        0.0  \n",
       "MaritalStatus_Married                0.0        1.0  \n",
       "MaritalStatus_Unmarried              0.0        0.0  \n",
       "Zone_North                           0.0        0.0  \n",
       "Zone_South                           0.0        0.0  \n",
       "Zone_West                            1.0        1.0  \n",
       "PaymentMethod_Monthly                0.0        0.0  \n",
       "PaymentMethod_Quarterly              0.0        1.0  \n",
       "PaymentMethod_Yearly                 1.0        0.0  "
      ]
     },
     "execution_count": 38,
     "metadata": {},
     "output_type": "execute_result"
    }
   ],
   "source": [
    "df_new1.head(10).T"
   ]
  },
  {
   "cell_type": "code",
   "execution_count": 39,
   "metadata": {},
   "outputs": [
    {
     "data": {
      "text/plain": [
       "(4520, 35)"
      ]
     },
     "execution_count": 39,
     "metadata": {},
     "output_type": "execute_result"
    }
   ],
   "source": [
    "df_new1.shape"
   ]
  },
  {
   "cell_type": "code",
   "execution_count": 40,
   "metadata": {},
   "outputs": [],
   "source": [
    "#K Means Cluster"
   ]
  },
  {
   "cell_type": "code",
   "execution_count": 41,
   "metadata": {},
   "outputs": [],
   "source": [
    "from sklearn.cluster import KMeans "
   ]
  },
  {
   "cell_type": "code",
   "execution_count": 42,
   "metadata": {},
   "outputs": [],
   "source": [
    "k_means = KMeans(n_clusters = 2)"
   ]
  },
  {
   "cell_type": "code",
   "execution_count": 43,
   "metadata": {},
   "outputs": [
    {
     "name": "stderr",
     "output_type": "stream",
     "text": [
      "C:\\Users\\HP\\anaconda3\\Lib\\site-packages\\sklearn\\cluster\\_kmeans.py:1412: FutureWarning: The default value of `n_init` will change from 10 to 'auto' in 1.4. Set the value of `n_init` explicitly to suppress the warning\n",
      "  super()._check_params_vs_input(X, default_n_init=10)\n"
     ]
    },
    {
     "data": {
      "text/html": [
       "<style>#sk-container-id-1 {color: black;}#sk-container-id-1 pre{padding: 0;}#sk-container-id-1 div.sk-toggleable {background-color: white;}#sk-container-id-1 label.sk-toggleable__label {cursor: pointer;display: block;width: 100%;margin-bottom: 0;padding: 0.3em;box-sizing: border-box;text-align: center;}#sk-container-id-1 label.sk-toggleable__label-arrow:before {content: \"▸\";float: left;margin-right: 0.25em;color: #696969;}#sk-container-id-1 label.sk-toggleable__label-arrow:hover:before {color: black;}#sk-container-id-1 div.sk-estimator:hover label.sk-toggleable__label-arrow:before {color: black;}#sk-container-id-1 div.sk-toggleable__content {max-height: 0;max-width: 0;overflow: hidden;text-align: left;background-color: #f0f8ff;}#sk-container-id-1 div.sk-toggleable__content pre {margin: 0.2em;color: black;border-radius: 0.25em;background-color: #f0f8ff;}#sk-container-id-1 input.sk-toggleable__control:checked~div.sk-toggleable__content {max-height: 200px;max-width: 100%;overflow: auto;}#sk-container-id-1 input.sk-toggleable__control:checked~label.sk-toggleable__label-arrow:before {content: \"▾\";}#sk-container-id-1 div.sk-estimator input.sk-toggleable__control:checked~label.sk-toggleable__label {background-color: #d4ebff;}#sk-container-id-1 div.sk-label input.sk-toggleable__control:checked~label.sk-toggleable__label {background-color: #d4ebff;}#sk-container-id-1 input.sk-hidden--visually {border: 0;clip: rect(1px 1px 1px 1px);clip: rect(1px, 1px, 1px, 1px);height: 1px;margin: -1px;overflow: hidden;padding: 0;position: absolute;width: 1px;}#sk-container-id-1 div.sk-estimator {font-family: monospace;background-color: #f0f8ff;border: 1px dotted black;border-radius: 0.25em;box-sizing: border-box;margin-bottom: 0.5em;}#sk-container-id-1 div.sk-estimator:hover {background-color: #d4ebff;}#sk-container-id-1 div.sk-parallel-item::after {content: \"\";width: 100%;border-bottom: 1px solid gray;flex-grow: 1;}#sk-container-id-1 div.sk-label:hover label.sk-toggleable__label {background-color: #d4ebff;}#sk-container-id-1 div.sk-serial::before {content: \"\";position: absolute;border-left: 1px solid gray;box-sizing: border-box;top: 0;bottom: 0;left: 50%;z-index: 0;}#sk-container-id-1 div.sk-serial {display: flex;flex-direction: column;align-items: center;background-color: white;padding-right: 0.2em;padding-left: 0.2em;position: relative;}#sk-container-id-1 div.sk-item {position: relative;z-index: 1;}#sk-container-id-1 div.sk-parallel {display: flex;align-items: stretch;justify-content: center;background-color: white;position: relative;}#sk-container-id-1 div.sk-item::before, #sk-container-id-1 div.sk-parallel-item::before {content: \"\";position: absolute;border-left: 1px solid gray;box-sizing: border-box;top: 0;bottom: 0;left: 50%;z-index: -1;}#sk-container-id-1 div.sk-parallel-item {display: flex;flex-direction: column;z-index: 1;position: relative;background-color: white;}#sk-container-id-1 div.sk-parallel-item:first-child::after {align-self: flex-end;width: 50%;}#sk-container-id-1 div.sk-parallel-item:last-child::after {align-self: flex-start;width: 50%;}#sk-container-id-1 div.sk-parallel-item:only-child::after {width: 0;}#sk-container-id-1 div.sk-dashed-wrapped {border: 1px dashed gray;margin: 0 0.4em 0.5em 0.4em;box-sizing: border-box;padding-bottom: 0.4em;background-color: white;}#sk-container-id-1 div.sk-label label {font-family: monospace;font-weight: bold;display: inline-block;line-height: 1.2em;}#sk-container-id-1 div.sk-label-container {text-align: center;}#sk-container-id-1 div.sk-container {/* jupyter's `normalize.less` sets `[hidden] { display: none; }` but bootstrap.min.css set `[hidden] { display: none !important; }` so we also need the `!important` here to be able to override the default hidden behavior on the sphinx rendered scikit-learn.org. See: https://github.com/scikit-learn/scikit-learn/issues/21755 */display: inline-block !important;position: relative;}#sk-container-id-1 div.sk-text-repr-fallback {display: none;}</style><div id=\"sk-container-id-1\" class=\"sk-top-container\"><div class=\"sk-text-repr-fallback\"><pre>KMeans(n_clusters=2)</pre><b>In a Jupyter environment, please rerun this cell to show the HTML representation or trust the notebook. <br />On GitHub, the HTML representation is unable to render, please try loading this page with nbviewer.org.</b></div><div class=\"sk-container\" hidden><div class=\"sk-item\"><div class=\"sk-estimator sk-toggleable\"><input class=\"sk-toggleable__control sk-hidden--visually\" id=\"sk-estimator-id-1\" type=\"checkbox\" checked><label for=\"sk-estimator-id-1\" class=\"sk-toggleable__label sk-toggleable__label-arrow\">KMeans</label><div class=\"sk-toggleable__content\"><pre>KMeans(n_clusters=2)</pre></div></div></div></div></div>"
      ],
      "text/plain": [
       "KMeans(n_clusters=2)"
      ]
     },
     "execution_count": 43,
     "metadata": {},
     "output_type": "execute_result"
    }
   ],
   "source": [
    "k_means.fit(df_new1)"
   ]
  },
  {
   "cell_type": "code",
   "execution_count": 44,
   "metadata": {},
   "outputs": [
    {
     "data": {
      "text/plain": [
       "array([1, 0, 0, ..., 0, 1, 1])"
      ]
     },
     "execution_count": 44,
     "metadata": {},
     "output_type": "execute_result"
    }
   ],
   "source": [
    "k_means.labels_"
   ]
  },
  {
   "cell_type": "code",
   "execution_count": 45,
   "metadata": {},
   "outputs": [],
   "source": [
    "df_new1['Cluster']=k_means.labels_"
   ]
  },
  {
   "cell_type": "code",
   "execution_count": 46,
   "metadata": {},
   "outputs": [
    {
     "data": {
      "text/plain": [
       "0    1\n",
       "1    0\n",
       "2    0\n",
       "3    0\n",
       "4    0\n",
       "5    0\n",
       "6    0\n",
       "7    0\n",
       "8    0\n",
       "9    0\n",
       "Name: Cluster, dtype: int32"
      ]
     },
     "execution_count": 46,
     "metadata": {},
     "output_type": "execute_result"
    }
   ],
   "source": [
    "df_new1['Cluster'].head(10).T"
   ]
  },
  {
   "cell_type": "code",
   "execution_count": 47,
   "metadata": {},
   "outputs": [
    {
     "data": {
      "text/plain": [
       "0    3112\n",
       "1    1408\n",
       "Name: Cluster, dtype: int64"
      ]
     },
     "execution_count": 47,
     "metadata": {},
     "output_type": "execute_result"
    }
   ],
   "source": [
    "df_new1['Cluster'].value_counts()"
   ]
  },
  {
   "cell_type": "code",
   "execution_count": 48,
   "metadata": {},
   "outputs": [
    {
     "data": {
      "text/html": [
       "<div>\n",
       "<style scoped>\n",
       "    .dataframe tbody tr th:only-of-type {\n",
       "        vertical-align: middle;\n",
       "    }\n",
       "\n",
       "    .dataframe tbody tr th {\n",
       "        vertical-align: top;\n",
       "    }\n",
       "\n",
       "    .dataframe thead th {\n",
       "        text-align: right;\n",
       "    }\n",
       "</style>\n",
       "<table border=\"1\" class=\"dataframe\">\n",
       "  <thead>\n",
       "    <tr style=\"text-align: right;\">\n",
       "      <th></th>\n",
       "      <th>CustID</th>\n",
       "      <th>AgentBonus</th>\n",
       "      <th>Age</th>\n",
       "      <th>CustTenure</th>\n",
       "      <th>ExistingProdType</th>\n",
       "      <th>NumberOfPolicy</th>\n",
       "      <th>MonthlyIncome</th>\n",
       "      <th>Complaint</th>\n",
       "      <th>ExistingPolicyTenure</th>\n",
       "      <th>SumAssured</th>\n",
       "      <th>...</th>\n",
       "      <th>Designation_Senior Manager</th>\n",
       "      <th>Designation_VP</th>\n",
       "      <th>MaritalStatus_Married</th>\n",
       "      <th>MaritalStatus_Unmarried</th>\n",
       "      <th>Zone_North</th>\n",
       "      <th>Zone_South</th>\n",
       "      <th>Zone_West</th>\n",
       "      <th>PaymentMethod_Monthly</th>\n",
       "      <th>PaymentMethod_Quarterly</th>\n",
       "      <th>PaymentMethod_Yearly</th>\n",
       "    </tr>\n",
       "    <tr>\n",
       "      <th>Cluster</th>\n",
       "      <th></th>\n",
       "      <th></th>\n",
       "      <th></th>\n",
       "      <th></th>\n",
       "      <th></th>\n",
       "      <th></th>\n",
       "      <th></th>\n",
       "      <th></th>\n",
       "      <th></th>\n",
       "      <th></th>\n",
       "      <th></th>\n",
       "      <th></th>\n",
       "      <th></th>\n",
       "      <th></th>\n",
       "      <th></th>\n",
       "      <th></th>\n",
       "      <th></th>\n",
       "      <th></th>\n",
       "      <th></th>\n",
       "      <th></th>\n",
       "      <th></th>\n",
       "    </tr>\n",
       "  </thead>\n",
       "  <tbody>\n",
       "    <tr>\n",
       "      <th>0</th>\n",
       "      <td>3112</td>\n",
       "      <td>2017</td>\n",
       "      <td>38</td>\n",
       "      <td>36</td>\n",
       "      <td>6</td>\n",
       "      <td>6</td>\n",
       "      <td>1991</td>\n",
       "      <td>2</td>\n",
       "      <td>18</td>\n",
       "      <td>2952</td>\n",
       "      <td>...</td>\n",
       "      <td>2</td>\n",
       "      <td>2</td>\n",
       "      <td>2</td>\n",
       "      <td>2</td>\n",
       "      <td>2</td>\n",
       "      <td>2</td>\n",
       "      <td>2</td>\n",
       "      <td>2</td>\n",
       "      <td>2</td>\n",
       "      <td>2</td>\n",
       "    </tr>\n",
       "    <tr>\n",
       "      <th>1</th>\n",
       "      <td>1408</td>\n",
       "      <td>1161</td>\n",
       "      <td>51</td>\n",
       "      <td>52</td>\n",
       "      <td>6</td>\n",
       "      <td>6</td>\n",
       "      <td>1041</td>\n",
       "      <td>2</td>\n",
       "      <td>24</td>\n",
       "      <td>1405</td>\n",
       "      <td>...</td>\n",
       "      <td>2</td>\n",
       "      <td>2</td>\n",
       "      <td>2</td>\n",
       "      <td>2</td>\n",
       "      <td>2</td>\n",
       "      <td>2</td>\n",
       "      <td>2</td>\n",
       "      <td>2</td>\n",
       "      <td>2</td>\n",
       "      <td>2</td>\n",
       "    </tr>\n",
       "  </tbody>\n",
       "</table>\n",
       "<p>2 rows × 35 columns</p>\n",
       "</div>"
      ],
      "text/plain": [
       "         CustID  AgentBonus  Age  CustTenure  ExistingProdType  \\\n",
       "Cluster                                                          \n",
       "0          3112        2017   38          36                 6   \n",
       "1          1408        1161   51          52                 6   \n",
       "\n",
       "         NumberOfPolicy  MonthlyIncome  Complaint  ExistingPolicyTenure  \\\n",
       "Cluster                                                                   \n",
       "0                     6           1991          2                    18   \n",
       "1                     6           1041          2                    24   \n",
       "\n",
       "         SumAssured  ...  Designation_Senior Manager  Designation_VP  \\\n",
       "Cluster              ...                                               \n",
       "0              2952  ...                           2               2   \n",
       "1              1405  ...                           2               2   \n",
       "\n",
       "         MaritalStatus_Married  MaritalStatus_Unmarried  Zone_North  \\\n",
       "Cluster                                                               \n",
       "0                            2                        2           2   \n",
       "1                            2                        2           2   \n",
       "\n",
       "         Zone_South  Zone_West  PaymentMethod_Monthly  \\\n",
       "Cluster                                                 \n",
       "0                 2          2                      2   \n",
       "1                 2          2                      2   \n",
       "\n",
       "         PaymentMethod_Quarterly  PaymentMethod_Yearly  \n",
       "Cluster                                                 \n",
       "0                              2                     2  \n",
       "1                              2                     2  \n",
       "\n",
       "[2 rows x 35 columns]"
      ]
     },
     "execution_count": 48,
     "metadata": {},
     "output_type": "execute_result"
    }
   ],
   "source": [
    "df_new1.groupby(by='Cluster').nunique()"
   ]
  },
  {
   "cell_type": "code",
   "execution_count": 49,
   "metadata": {},
   "outputs": [
    {
     "data": {
      "text/html": [
       "<div>\n",
       "<style scoped>\n",
       "    .dataframe tbody tr th:only-of-type {\n",
       "        vertical-align: middle;\n",
       "    }\n",
       "\n",
       "    .dataframe tbody tr th {\n",
       "        vertical-align: top;\n",
       "    }\n",
       "\n",
       "    .dataframe thead th {\n",
       "        text-align: right;\n",
       "    }\n",
       "</style>\n",
       "<table border=\"1\" class=\"dataframe\">\n",
       "  <thead>\n",
       "    <tr style=\"text-align: right;\">\n",
       "      <th>Cluster</th>\n",
       "      <th>0</th>\n",
       "      <th>1</th>\n",
       "    </tr>\n",
       "  </thead>\n",
       "  <tbody>\n",
       "    <tr>\n",
       "      <th>CustID</th>\n",
       "      <td>7.002141e+06</td>\n",
       "      <td>7.002522e+06</td>\n",
       "    </tr>\n",
       "    <tr>\n",
       "      <th>AgentBonus</th>\n",
       "      <td>3.433636e+03</td>\n",
       "      <td>5.501672e+03</td>\n",
       "    </tr>\n",
       "    <tr>\n",
       "      <th>Age</th>\n",
       "      <td>1.209672e+01</td>\n",
       "      <td>1.950923e+01</td>\n",
       "    </tr>\n",
       "    <tr>\n",
       "      <th>CustTenure</th>\n",
       "      <td>1.211086e+01</td>\n",
       "      <td>1.944531e+01</td>\n",
       "    </tr>\n",
       "    <tr>\n",
       "      <th>ExistingProdType</th>\n",
       "      <td>3.631748e+00</td>\n",
       "      <td>3.815341e+00</td>\n",
       "    </tr>\n",
       "    <tr>\n",
       "      <th>NumberOfPolicy</th>\n",
       "      <td>3.513496e+00</td>\n",
       "      <td>3.693892e+00</td>\n",
       "    </tr>\n",
       "    <tr>\n",
       "      <th>MonthlyIncome</th>\n",
       "      <td>2.165613e+04</td>\n",
       "      <td>2.540287e+04</td>\n",
       "    </tr>\n",
       "    <tr>\n",
       "      <th>Complaint</th>\n",
       "      <td>2.933805e-01</td>\n",
       "      <td>2.734375e-01</td>\n",
       "    </tr>\n",
       "    <tr>\n",
       "      <th>ExistingPolicyTenure</th>\n",
       "      <td>3.495501e+00</td>\n",
       "      <td>5.384943e+00</td>\n",
       "    </tr>\n",
       "    <tr>\n",
       "      <th>SumAssured</th>\n",
       "      <td>4.886568e+05</td>\n",
       "      <td>9.058105e+05</td>\n",
       "    </tr>\n",
       "    <tr>\n",
       "      <th>LastMonthCalls</th>\n",
       "      <td>4.320373e+00</td>\n",
       "      <td>5.304688e+00</td>\n",
       "    </tr>\n",
       "    <tr>\n",
       "      <th>CustCareScore</th>\n",
       "      <td>3.075514e+00</td>\n",
       "      <td>3.047585e+00</td>\n",
       "    </tr>\n",
       "    <tr>\n",
       "      <th>Channel_Online</th>\n",
       "      <td>1.015424e-01</td>\n",
       "      <td>1.079545e-01</td>\n",
       "    </tr>\n",
       "    <tr>\n",
       "      <th>Channel_Third Party Partner</th>\n",
       "      <td>1.960154e-01</td>\n",
       "      <td>1.761364e-01</td>\n",
       "    </tr>\n",
       "    <tr>\n",
       "      <th>Occupation_Large Business</th>\n",
       "      <td>9.607969e-02</td>\n",
       "      <td>7.741477e-02</td>\n",
       "    </tr>\n",
       "    <tr>\n",
       "      <th>Occupation_Salaried</th>\n",
       "      <td>4.820051e-01</td>\n",
       "      <td>4.914773e-01</td>\n",
       "    </tr>\n",
       "    <tr>\n",
       "      <th>Occupation_Small Business</th>\n",
       "      <td>4.212725e-01</td>\n",
       "      <td>4.311080e-01</td>\n",
       "    </tr>\n",
       "    <tr>\n",
       "      <th>EducationField_Engineer</th>\n",
       "      <td>9.704370e-02</td>\n",
       "      <td>7.528409e-02</td>\n",
       "    </tr>\n",
       "    <tr>\n",
       "      <th>EducationField_Graduate</th>\n",
       "      <td>4.100257e-01</td>\n",
       "      <td>4.218750e-01</td>\n",
       "    </tr>\n",
       "    <tr>\n",
       "      <th>EducationField_MBA</th>\n",
       "      <td>1.574550e-02</td>\n",
       "      <td>1.775568e-02</td>\n",
       "    </tr>\n",
       "    <tr>\n",
       "      <th>EducationField_Post Graduate</th>\n",
       "      <td>5.719794e-02</td>\n",
       "      <td>5.255682e-02</td>\n",
       "    </tr>\n",
       "    <tr>\n",
       "      <th>EducationField_Under Graduate</th>\n",
       "      <td>3.136247e-01</td>\n",
       "      <td>3.153409e-01</td>\n",
       "    </tr>\n",
       "    <tr>\n",
       "      <th>Gender_Male</th>\n",
       "      <td>6.028278e-01</td>\n",
       "      <td>5.767045e-01</td>\n",
       "    </tr>\n",
       "    <tr>\n",
       "      <th>Designation_Executive</th>\n",
       "      <td>4.473008e-01</td>\n",
       "      <td>1.917614e-01</td>\n",
       "    </tr>\n",
       "    <tr>\n",
       "      <th>Designation_Manager</th>\n",
       "      <td>3.698586e-01</td>\n",
       "      <td>3.330966e-01</td>\n",
       "    </tr>\n",
       "    <tr>\n",
       "      <th>Designation_Senior Manager</th>\n",
       "      <td>1.198586e-01</td>\n",
       "      <td>2.151989e-01</td>\n",
       "    </tr>\n",
       "    <tr>\n",
       "      <th>Designation_VP</th>\n",
       "      <td>1.960154e-02</td>\n",
       "      <td>1.171875e-01</td>\n",
       "    </tr>\n",
       "    <tr>\n",
       "      <th>MaritalStatus_Married</th>\n",
       "      <td>4.897172e-01</td>\n",
       "      <td>5.284091e-01</td>\n",
       "    </tr>\n",
       "    <tr>\n",
       "      <th>MaritalStatus_Unmarried</th>\n",
       "      <td>3.335476e-01</td>\n",
       "      <td>2.911932e-01</td>\n",
       "    </tr>\n",
       "    <tr>\n",
       "      <th>Zone_North</th>\n",
       "      <td>4.161311e-01</td>\n",
       "      <td>4.183239e-01</td>\n",
       "    </tr>\n",
       "    <tr>\n",
       "      <th>Zone_South</th>\n",
       "      <td>1.285347e-03</td>\n",
       "      <td>1.420455e-03</td>\n",
       "    </tr>\n",
       "    <tr>\n",
       "      <th>Zone_West</th>\n",
       "      <td>5.674807e-01</td>\n",
       "      <td>5.681818e-01</td>\n",
       "    </tr>\n",
       "    <tr>\n",
       "      <th>PaymentMethod_Monthly</th>\n",
       "      <td>8.001285e-02</td>\n",
       "      <td>7.457386e-02</td>\n",
       "    </tr>\n",
       "    <tr>\n",
       "      <th>PaymentMethod_Quarterly</th>\n",
       "      <td>1.703085e-02</td>\n",
       "      <td>1.633523e-02</td>\n",
       "    </tr>\n",
       "    <tr>\n",
       "      <th>PaymentMethod_Yearly</th>\n",
       "      <td>3.174807e-01</td>\n",
       "      <td>3.167614e-01</td>\n",
       "    </tr>\n",
       "  </tbody>\n",
       "</table>\n",
       "</div>"
      ],
      "text/plain": [
       "Cluster                                   0             1\n",
       "CustID                         7.002141e+06  7.002522e+06\n",
       "AgentBonus                     3.433636e+03  5.501672e+03\n",
       "Age                            1.209672e+01  1.950923e+01\n",
       "CustTenure                     1.211086e+01  1.944531e+01\n",
       "ExistingProdType               3.631748e+00  3.815341e+00\n",
       "NumberOfPolicy                 3.513496e+00  3.693892e+00\n",
       "MonthlyIncome                  2.165613e+04  2.540287e+04\n",
       "Complaint                      2.933805e-01  2.734375e-01\n",
       "ExistingPolicyTenure           3.495501e+00  5.384943e+00\n",
       "SumAssured                     4.886568e+05  9.058105e+05\n",
       "LastMonthCalls                 4.320373e+00  5.304688e+00\n",
       "CustCareScore                  3.075514e+00  3.047585e+00\n",
       "Channel_Online                 1.015424e-01  1.079545e-01\n",
       "Channel_Third Party Partner    1.960154e-01  1.761364e-01\n",
       "Occupation_Large Business      9.607969e-02  7.741477e-02\n",
       "Occupation_Salaried            4.820051e-01  4.914773e-01\n",
       "Occupation_Small Business      4.212725e-01  4.311080e-01\n",
       "EducationField_Engineer        9.704370e-02  7.528409e-02\n",
       "EducationField_Graduate        4.100257e-01  4.218750e-01\n",
       "EducationField_MBA             1.574550e-02  1.775568e-02\n",
       "EducationField_Post Graduate   5.719794e-02  5.255682e-02\n",
       "EducationField_Under Graduate  3.136247e-01  3.153409e-01\n",
       "Gender_Male                    6.028278e-01  5.767045e-01\n",
       "Designation_Executive          4.473008e-01  1.917614e-01\n",
       "Designation_Manager            3.698586e-01  3.330966e-01\n",
       "Designation_Senior Manager     1.198586e-01  2.151989e-01\n",
       "Designation_VP                 1.960154e-02  1.171875e-01\n",
       "MaritalStatus_Married          4.897172e-01  5.284091e-01\n",
       "MaritalStatus_Unmarried        3.335476e-01  2.911932e-01\n",
       "Zone_North                     4.161311e-01  4.183239e-01\n",
       "Zone_South                     1.285347e-03  1.420455e-03\n",
       "Zone_West                      5.674807e-01  5.681818e-01\n",
       "PaymentMethod_Monthly          8.001285e-02  7.457386e-02\n",
       "PaymentMethod_Quarterly        1.703085e-02  1.633523e-02\n",
       "PaymentMethod_Yearly           3.174807e-01  3.167614e-01"
      ]
     },
     "execution_count": 49,
     "metadata": {},
     "output_type": "execute_result"
    }
   ],
   "source": [
    "df_new1.groupby(by='Cluster').mean().T"
   ]
  },
  {
   "cell_type": "code",
   "execution_count": 50,
   "metadata": {},
   "outputs": [],
   "source": [
    "#Now we will scale the data to build models\n",
    "df_final=df_new1.apply(zscore)"
   ]
  },
  {
   "cell_type": "code",
   "execution_count": 51,
   "metadata": {},
   "outputs": [],
   "source": [
    "#Train and Test Split"
   ]
  },
  {
   "cell_type": "code",
   "execution_count": 52,
   "metadata": {},
   "outputs": [],
   "source": [
    "X = df_final.drop(\"AgentBonus\" , axis=1)\n",
    "\n",
    "y = df_final.pop(\"AgentBonus\")"
   ]
  },
  {
   "cell_type": "code",
   "execution_count": 53,
   "metadata": {},
   "outputs": [],
   "source": [
    "from sklearn.model_selection import train_test_split\n",
    "X_train, X_test, y_train, y_test = train_test_split(X, y, test_size=0.30 , random_state=1)"
   ]
  },
  {
   "cell_type": "code",
   "execution_count": 54,
   "metadata": {},
   "outputs": [],
   "source": [
    "#Linear Regression Model"
   ]
  },
  {
   "cell_type": "code",
   "execution_count": 55,
   "metadata": {},
   "outputs": [],
   "source": [
    "# Import Linear Regression machine learning library\n",
    "from sklearn.linear_model import LinearRegression"
   ]
  },
  {
   "cell_type": "code",
   "execution_count": 56,
   "metadata": {},
   "outputs": [
    {
     "data": {
      "text/html": [
       "<style>#sk-container-id-2 {color: black;}#sk-container-id-2 pre{padding: 0;}#sk-container-id-2 div.sk-toggleable {background-color: white;}#sk-container-id-2 label.sk-toggleable__label {cursor: pointer;display: block;width: 100%;margin-bottom: 0;padding: 0.3em;box-sizing: border-box;text-align: center;}#sk-container-id-2 label.sk-toggleable__label-arrow:before {content: \"▸\";float: left;margin-right: 0.25em;color: #696969;}#sk-container-id-2 label.sk-toggleable__label-arrow:hover:before {color: black;}#sk-container-id-2 div.sk-estimator:hover label.sk-toggleable__label-arrow:before {color: black;}#sk-container-id-2 div.sk-toggleable__content {max-height: 0;max-width: 0;overflow: hidden;text-align: left;background-color: #f0f8ff;}#sk-container-id-2 div.sk-toggleable__content pre {margin: 0.2em;color: black;border-radius: 0.25em;background-color: #f0f8ff;}#sk-container-id-2 input.sk-toggleable__control:checked~div.sk-toggleable__content {max-height: 200px;max-width: 100%;overflow: auto;}#sk-container-id-2 input.sk-toggleable__control:checked~label.sk-toggleable__label-arrow:before {content: \"▾\";}#sk-container-id-2 div.sk-estimator input.sk-toggleable__control:checked~label.sk-toggleable__label {background-color: #d4ebff;}#sk-container-id-2 div.sk-label input.sk-toggleable__control:checked~label.sk-toggleable__label {background-color: #d4ebff;}#sk-container-id-2 input.sk-hidden--visually {border: 0;clip: rect(1px 1px 1px 1px);clip: rect(1px, 1px, 1px, 1px);height: 1px;margin: -1px;overflow: hidden;padding: 0;position: absolute;width: 1px;}#sk-container-id-2 div.sk-estimator {font-family: monospace;background-color: #f0f8ff;border: 1px dotted black;border-radius: 0.25em;box-sizing: border-box;margin-bottom: 0.5em;}#sk-container-id-2 div.sk-estimator:hover {background-color: #d4ebff;}#sk-container-id-2 div.sk-parallel-item::after {content: \"\";width: 100%;border-bottom: 1px solid gray;flex-grow: 1;}#sk-container-id-2 div.sk-label:hover label.sk-toggleable__label {background-color: #d4ebff;}#sk-container-id-2 div.sk-serial::before {content: \"\";position: absolute;border-left: 1px solid gray;box-sizing: border-box;top: 0;bottom: 0;left: 50%;z-index: 0;}#sk-container-id-2 div.sk-serial {display: flex;flex-direction: column;align-items: center;background-color: white;padding-right: 0.2em;padding-left: 0.2em;position: relative;}#sk-container-id-2 div.sk-item {position: relative;z-index: 1;}#sk-container-id-2 div.sk-parallel {display: flex;align-items: stretch;justify-content: center;background-color: white;position: relative;}#sk-container-id-2 div.sk-item::before, #sk-container-id-2 div.sk-parallel-item::before {content: \"\";position: absolute;border-left: 1px solid gray;box-sizing: border-box;top: 0;bottom: 0;left: 50%;z-index: -1;}#sk-container-id-2 div.sk-parallel-item {display: flex;flex-direction: column;z-index: 1;position: relative;background-color: white;}#sk-container-id-2 div.sk-parallel-item:first-child::after {align-self: flex-end;width: 50%;}#sk-container-id-2 div.sk-parallel-item:last-child::after {align-self: flex-start;width: 50%;}#sk-container-id-2 div.sk-parallel-item:only-child::after {width: 0;}#sk-container-id-2 div.sk-dashed-wrapped {border: 1px dashed gray;margin: 0 0.4em 0.5em 0.4em;box-sizing: border-box;padding-bottom: 0.4em;background-color: white;}#sk-container-id-2 div.sk-label label {font-family: monospace;font-weight: bold;display: inline-block;line-height: 1.2em;}#sk-container-id-2 div.sk-label-container {text-align: center;}#sk-container-id-2 div.sk-container {/* jupyter's `normalize.less` sets `[hidden] { display: none; }` but bootstrap.min.css set `[hidden] { display: none !important; }` so we also need the `!important` here to be able to override the default hidden behavior on the sphinx rendered scikit-learn.org. See: https://github.com/scikit-learn/scikit-learn/issues/21755 */display: inline-block !important;position: relative;}#sk-container-id-2 div.sk-text-repr-fallback {display: none;}</style><div id=\"sk-container-id-2\" class=\"sk-top-container\"><div class=\"sk-text-repr-fallback\"><pre>LinearRegression()</pre><b>In a Jupyter environment, please rerun this cell to show the HTML representation or trust the notebook. <br />On GitHub, the HTML representation is unable to render, please try loading this page with nbviewer.org.</b></div><div class=\"sk-container\" hidden><div class=\"sk-item\"><div class=\"sk-estimator sk-toggleable\"><input class=\"sk-toggleable__control sk-hidden--visually\" id=\"sk-estimator-id-2\" type=\"checkbox\" checked><label for=\"sk-estimator-id-2\" class=\"sk-toggleable__label sk-toggleable__label-arrow\">LinearRegression</label><div class=\"sk-toggleable__content\"><pre>LinearRegression()</pre></div></div></div></div></div>"
      ],
      "text/plain": [
       "LinearRegression()"
      ]
     },
     "execution_count": 56,
     "metadata": {},
     "output_type": "execute_result"
    }
   ],
   "source": [
    "# invoke the LinearRegression function and find the bestfit model on training data\n",
    "\n",
    "regression_model = LinearRegression()\n",
    "regression_model.fit(X_train, y_train)"
   ]
  },
  {
   "cell_type": "code",
   "execution_count": 57,
   "metadata": {},
   "outputs": [
    {
     "data": {
      "text/plain": [
       "0.8104530332014905"
      ]
     },
     "execution_count": 57,
     "metadata": {},
     "output_type": "execute_result"
    }
   ],
   "source": [
    "regression_model.score(X_train, y_train)"
   ]
  },
  {
   "cell_type": "code",
   "execution_count": 58,
   "metadata": {},
   "outputs": [],
   "source": [
    "mse_train = np.mean((regression_model.predict(X_train)-y_train)**2)"
   ]
  },
  {
   "cell_type": "code",
   "execution_count": 59,
   "metadata": {},
   "outputs": [
    {
     "data": {
      "text/plain": [
       "0.19022963715967411"
      ]
     },
     "execution_count": 59,
     "metadata": {},
     "output_type": "execute_result"
    }
   ],
   "source": [
    "mse_train"
   ]
  },
  {
   "cell_type": "code",
   "execution_count": 60,
   "metadata": {},
   "outputs": [
    {
     "data": {
      "text/plain": [
       "0.43615322669868456"
      ]
     },
     "execution_count": 60,
     "metadata": {},
     "output_type": "execute_result"
    }
   ],
   "source": [
    "import math\n",
    "\n",
    "math.sqrt(mse_train)"
   ]
  },
  {
   "cell_type": "code",
   "execution_count": 61,
   "metadata": {},
   "outputs": [
    {
     "data": {
      "text/plain": [
       "0.799819921795736"
      ]
     },
     "execution_count": 61,
     "metadata": {},
     "output_type": "execute_result"
    }
   ],
   "source": [
    "# Model score - R2 or coeff of determinant\n",
    "# R^2=1–RSS / TSS =  RegErr / TSS\n",
    "\n",
    "regression_model.score(X_test, y_test)"
   ]
  },
  {
   "cell_type": "code",
   "execution_count": 62,
   "metadata": {},
   "outputs": [
    {
     "data": {
      "text/plain": [
       "228.57147730517784"
      ]
     },
     "execution_count": 62,
     "metadata": {},
     "output_type": "execute_result"
    }
   ],
   "source": [
    "LR_MAPE = (abs(y_train - (regression_model.predict(X_train))/y_train )*100).mean()\n",
    "LR_MAPE"
   ]
  },
  {
   "cell_type": "code",
   "execution_count": 63,
   "metadata": {},
   "outputs": [
    {
     "data": {
      "text/html": [
       "<div>\n",
       "<style scoped>\n",
       "    .dataframe tbody tr th:only-of-type {\n",
       "        vertical-align: middle;\n",
       "    }\n",
       "\n",
       "    .dataframe tbody tr th {\n",
       "        vertical-align: top;\n",
       "    }\n",
       "\n",
       "    .dataframe thead th {\n",
       "        text-align: right;\n",
       "    }\n",
       "</style>\n",
       "<table border=\"1\" class=\"dataframe\">\n",
       "  <thead>\n",
       "    <tr style=\"text-align: right;\">\n",
       "      <th></th>\n",
       "      <th>2461</th>\n",
       "      <th>3681</th>\n",
       "      <th>1309</th>\n",
       "      <th>4254</th>\n",
       "      <th>1335</th>\n",
       "    </tr>\n",
       "  </thead>\n",
       "  <tbody>\n",
       "    <tr>\n",
       "      <th>CustID</th>\n",
       "      <td>0.154428</td>\n",
       "      <td>1.089429</td>\n",
       "      <td>-0.728458</td>\n",
       "      <td>1.528573</td>\n",
       "      <td>-0.708531</td>\n",
       "    </tr>\n",
       "    <tr>\n",
       "      <th>Age</th>\n",
       "      <td>-0.274295</td>\n",
       "      <td>1.892015</td>\n",
       "      <td>0.067754</td>\n",
       "      <td>-1.072409</td>\n",
       "      <td>-0.730360</td>\n",
       "    </tr>\n",
       "    <tr>\n",
       "      <th>CustTenure</th>\n",
       "      <td>0.183540</td>\n",
       "      <td>0.069144</td>\n",
       "      <td>-0.960421</td>\n",
       "      <td>0.183540</td>\n",
       "      <td>0.297936</td>\n",
       "    </tr>\n",
       "    <tr>\n",
       "      <th>ExistingProdType</th>\n",
       "      <td>0.306267</td>\n",
       "      <td>0.306267</td>\n",
       "      <td>-0.678318</td>\n",
       "      <td>0.306267</td>\n",
       "      <td>-2.647486</td>\n",
       "    </tr>\n",
       "    <tr>\n",
       "      <th>NumberOfPolicy</th>\n",
       "      <td>-0.393123</td>\n",
       "      <td>0.987005</td>\n",
       "      <td>-1.773250</td>\n",
       "      <td>-1.083186</td>\n",
       "      <td>-1.773250</td>\n",
       "    </tr>\n",
       "    <tr>\n",
       "      <th>MonthlyIncome</th>\n",
       "      <td>-0.436837</td>\n",
       "      <td>0.120635</td>\n",
       "      <td>-1.383448</td>\n",
       "      <td>0.149600</td>\n",
       "      <td>-1.165791</td>\n",
       "    </tr>\n",
       "    <tr>\n",
       "      <th>Complaint</th>\n",
       "      <td>1.575525</td>\n",
       "      <td>-0.634709</td>\n",
       "      <td>-0.634709</td>\n",
       "      <td>-0.634709</td>\n",
       "      <td>-0.634709</td>\n",
       "    </tr>\n",
       "    <tr>\n",
       "      <th>ExistingPolicyTenure</th>\n",
       "      <td>-0.025594</td>\n",
       "      <td>-0.025594</td>\n",
       "      <td>0.583273</td>\n",
       "      <td>-0.938895</td>\n",
       "      <td>0.583273</td>\n",
       "    </tr>\n",
       "    <tr>\n",
       "      <th>SumAssured</th>\n",
       "      <td>-0.569217</td>\n",
       "      <td>-0.003697</td>\n",
       "      <td>-0.682563</td>\n",
       "      <td>-1.389584</td>\n",
       "      <td>0.543446</td>\n",
       "    </tr>\n",
       "    <tr>\n",
       "      <th>LastMonthCalls</th>\n",
       "      <td>-1.002006</td>\n",
       "      <td>-0.725742</td>\n",
       "      <td>-1.278269</td>\n",
       "      <td>0.931839</td>\n",
       "      <td>-1.002006</td>\n",
       "    </tr>\n",
       "    <tr>\n",
       "      <th>CustCareScore</th>\n",
       "      <td>0.678752</td>\n",
       "      <td>0.678752</td>\n",
       "      <td>1.406102</td>\n",
       "      <td>-0.048597</td>\n",
       "      <td>1.406102</td>\n",
       "    </tr>\n",
       "    <tr>\n",
       "      <th>Channel_Online</th>\n",
       "      <td>-0.339851</td>\n",
       "      <td>-0.339851</td>\n",
       "      <td>-0.339851</td>\n",
       "      <td>2.942468</td>\n",
       "      <td>-0.339851</td>\n",
       "    </tr>\n",
       "    <tr>\n",
       "      <th>Channel_Third Party Partner</th>\n",
       "      <td>2.065930</td>\n",
       "      <td>-0.484044</td>\n",
       "      <td>-0.484044</td>\n",
       "      <td>-0.484044</td>\n",
       "      <td>-0.484044</td>\n",
       "    </tr>\n",
       "    <tr>\n",
       "      <th>Occupation_Large Business</th>\n",
       "      <td>3.174655</td>\n",
       "      <td>-0.314995</td>\n",
       "      <td>-0.314995</td>\n",
       "      <td>3.174655</td>\n",
       "      <td>-0.314995</td>\n",
       "    </tr>\n",
       "    <tr>\n",
       "      <th>Occupation_Salaried</th>\n",
       "      <td>-0.970351</td>\n",
       "      <td>-0.970351</td>\n",
       "      <td>1.030555</td>\n",
       "      <td>-0.970351</td>\n",
       "      <td>1.030555</td>\n",
       "    </tr>\n",
       "    <tr>\n",
       "      <th>Occupation_Small Business</th>\n",
       "      <td>-0.858560</td>\n",
       "      <td>1.164741</td>\n",
       "      <td>-0.858560</td>\n",
       "      <td>-0.858560</td>\n",
       "      <td>-0.858560</td>\n",
       "    </tr>\n",
       "    <tr>\n",
       "      <th>EducationField_Engineer</th>\n",
       "      <td>3.174655</td>\n",
       "      <td>-0.314995</td>\n",
       "      <td>-0.314995</td>\n",
       "      <td>3.174655</td>\n",
       "      <td>-0.314995</td>\n",
       "    </tr>\n",
       "    <tr>\n",
       "      <th>EducationField_Graduate</th>\n",
       "      <td>-0.840036</td>\n",
       "      <td>-0.840036</td>\n",
       "      <td>1.190425</td>\n",
       "      <td>-0.840036</td>\n",
       "      <td>1.190425</td>\n",
       "    </tr>\n",
       "    <tr>\n",
       "      <th>EducationField_MBA</th>\n",
       "      <td>-0.129012</td>\n",
       "      <td>-0.129012</td>\n",
       "      <td>-0.129012</td>\n",
       "      <td>-0.129012</td>\n",
       "      <td>-0.129012</td>\n",
       "    </tr>\n",
       "    <tr>\n",
       "      <th>EducationField_Post Graduate</th>\n",
       "      <td>-0.242990</td>\n",
       "      <td>-0.242990</td>\n",
       "      <td>-0.242990</td>\n",
       "      <td>-0.242990</td>\n",
       "      <td>-0.242990</td>\n",
       "    </tr>\n",
       "    <tr>\n",
       "      <th>EducationField_Under Graduate</th>\n",
       "      <td>-0.676805</td>\n",
       "      <td>1.477531</td>\n",
       "      <td>-0.676805</td>\n",
       "      <td>-0.676805</td>\n",
       "      <td>-0.676805</td>\n",
       "    </tr>\n",
       "    <tr>\n",
       "      <th>Gender_Male</th>\n",
       "      <td>0.825559</td>\n",
       "      <td>0.825559</td>\n",
       "      <td>0.825559</td>\n",
       "      <td>0.825559</td>\n",
       "      <td>0.825559</td>\n",
       "    </tr>\n",
       "    <tr>\n",
       "      <th>Designation_Executive</th>\n",
       "      <td>1.311341</td>\n",
       "      <td>-0.762578</td>\n",
       "      <td>1.311341</td>\n",
       "      <td>-0.762578</td>\n",
       "      <td>1.311341</td>\n",
       "    </tr>\n",
       "    <tr>\n",
       "      <th>Designation_Manager</th>\n",
       "      <td>-0.747409</td>\n",
       "      <td>1.337955</td>\n",
       "      <td>-0.747409</td>\n",
       "      <td>1.337955</td>\n",
       "      <td>-0.747409</td>\n",
       "    </tr>\n",
       "    <tr>\n",
       "      <th>Designation_Senior Manager</th>\n",
       "      <td>-0.419355</td>\n",
       "      <td>-0.419355</td>\n",
       "      <td>-0.419355</td>\n",
       "      <td>-0.419355</td>\n",
       "      <td>-0.419355</td>\n",
       "    </tr>\n",
       "    <tr>\n",
       "      <th>Designation_VP</th>\n",
       "      <td>-0.229416</td>\n",
       "      <td>-0.229416</td>\n",
       "      <td>-0.229416</td>\n",
       "      <td>-0.229416</td>\n",
       "      <td>-0.229416</td>\n",
       "    </tr>\n",
       "    <tr>\n",
       "      <th>MaritalStatus_Married</th>\n",
       "      <td>-1.003546</td>\n",
       "      <td>0.996466</td>\n",
       "      <td>-1.003546</td>\n",
       "      <td>0.996466</td>\n",
       "      <td>0.996466</td>\n",
       "    </tr>\n",
       "    <tr>\n",
       "      <th>MaritalStatus_Unmarried</th>\n",
       "      <td>1.456553</td>\n",
       "      <td>-0.686552</td>\n",
       "      <td>1.456553</td>\n",
       "      <td>-0.686552</td>\n",
       "      <td>-0.686552</td>\n",
       "    </tr>\n",
       "    <tr>\n",
       "      <th>Zone_North</th>\n",
       "      <td>-0.845411</td>\n",
       "      <td>-0.845411</td>\n",
       "      <td>1.182857</td>\n",
       "      <td>-0.845411</td>\n",
       "      <td>-0.845411</td>\n",
       "    </tr>\n",
       "    <tr>\n",
       "      <th>Zone_South</th>\n",
       "      <td>-0.036458</td>\n",
       "      <td>-0.036458</td>\n",
       "      <td>-0.036458</td>\n",
       "      <td>-0.036458</td>\n",
       "      <td>-0.036458</td>\n",
       "    </tr>\n",
       "    <tr>\n",
       "      <th>Zone_West</th>\n",
       "      <td>0.872638</td>\n",
       "      <td>0.872638</td>\n",
       "      <td>-1.145951</td>\n",
       "      <td>0.872638</td>\n",
       "      <td>0.872638</td>\n",
       "    </tr>\n",
       "    <tr>\n",
       "      <th>PaymentMethod_Monthly</th>\n",
       "      <td>-0.291502</td>\n",
       "      <td>-0.291502</td>\n",
       "      <td>-0.291502</td>\n",
       "      <td>-0.291502</td>\n",
       "      <td>3.430505</td>\n",
       "    </tr>\n",
       "    <tr>\n",
       "      <th>PaymentMethod_Quarterly</th>\n",
       "      <td>-0.130774</td>\n",
       "      <td>-0.130774</td>\n",
       "      <td>-0.130774</td>\n",
       "      <td>-0.130774</td>\n",
       "      <td>-0.130774</td>\n",
       "    </tr>\n",
       "    <tr>\n",
       "      <th>PaymentMethod_Yearly</th>\n",
       "      <td>-0.681674</td>\n",
       "      <td>-0.681674</td>\n",
       "      <td>-0.681674</td>\n",
       "      <td>-0.681674</td>\n",
       "      <td>-0.681674</td>\n",
       "    </tr>\n",
       "    <tr>\n",
       "      <th>Cluster</th>\n",
       "      <td>-0.672638</td>\n",
       "      <td>-0.672638</td>\n",
       "      <td>-0.672638</td>\n",
       "      <td>-0.672638</td>\n",
       "      <td>1.486683</td>\n",
       "    </tr>\n",
       "    <tr>\n",
       "      <th>AgentBonus</th>\n",
       "      <td>-0.097521</td>\n",
       "      <td>0.762676</td>\n",
       "      <td>-0.708283</td>\n",
       "      <td>-1.061056</td>\n",
       "      <td>0.047864</td>\n",
       "    </tr>\n",
       "  </tbody>\n",
       "</table>\n",
       "</div>"
      ],
      "text/plain": [
       "                                   2461      3681      1309      4254  \\\n",
       "CustID                         0.154428  1.089429 -0.728458  1.528573   \n",
       "Age                           -0.274295  1.892015  0.067754 -1.072409   \n",
       "CustTenure                     0.183540  0.069144 -0.960421  0.183540   \n",
       "ExistingProdType               0.306267  0.306267 -0.678318  0.306267   \n",
       "NumberOfPolicy                -0.393123  0.987005 -1.773250 -1.083186   \n",
       "MonthlyIncome                 -0.436837  0.120635 -1.383448  0.149600   \n",
       "Complaint                      1.575525 -0.634709 -0.634709 -0.634709   \n",
       "ExistingPolicyTenure          -0.025594 -0.025594  0.583273 -0.938895   \n",
       "SumAssured                    -0.569217 -0.003697 -0.682563 -1.389584   \n",
       "LastMonthCalls                -1.002006 -0.725742 -1.278269  0.931839   \n",
       "CustCareScore                  0.678752  0.678752  1.406102 -0.048597   \n",
       "Channel_Online                -0.339851 -0.339851 -0.339851  2.942468   \n",
       "Channel_Third Party Partner    2.065930 -0.484044 -0.484044 -0.484044   \n",
       "Occupation_Large Business      3.174655 -0.314995 -0.314995  3.174655   \n",
       "Occupation_Salaried           -0.970351 -0.970351  1.030555 -0.970351   \n",
       "Occupation_Small Business     -0.858560  1.164741 -0.858560 -0.858560   \n",
       "EducationField_Engineer        3.174655 -0.314995 -0.314995  3.174655   \n",
       "EducationField_Graduate       -0.840036 -0.840036  1.190425 -0.840036   \n",
       "EducationField_MBA            -0.129012 -0.129012 -0.129012 -0.129012   \n",
       "EducationField_Post Graduate  -0.242990 -0.242990 -0.242990 -0.242990   \n",
       "EducationField_Under Graduate -0.676805  1.477531 -0.676805 -0.676805   \n",
       "Gender_Male                    0.825559  0.825559  0.825559  0.825559   \n",
       "Designation_Executive          1.311341 -0.762578  1.311341 -0.762578   \n",
       "Designation_Manager           -0.747409  1.337955 -0.747409  1.337955   \n",
       "Designation_Senior Manager    -0.419355 -0.419355 -0.419355 -0.419355   \n",
       "Designation_VP                -0.229416 -0.229416 -0.229416 -0.229416   \n",
       "MaritalStatus_Married         -1.003546  0.996466 -1.003546  0.996466   \n",
       "MaritalStatus_Unmarried        1.456553 -0.686552  1.456553 -0.686552   \n",
       "Zone_North                    -0.845411 -0.845411  1.182857 -0.845411   \n",
       "Zone_South                    -0.036458 -0.036458 -0.036458 -0.036458   \n",
       "Zone_West                      0.872638  0.872638 -1.145951  0.872638   \n",
       "PaymentMethod_Monthly         -0.291502 -0.291502 -0.291502 -0.291502   \n",
       "PaymentMethod_Quarterly       -0.130774 -0.130774 -0.130774 -0.130774   \n",
       "PaymentMethod_Yearly          -0.681674 -0.681674 -0.681674 -0.681674   \n",
       "Cluster                       -0.672638 -0.672638 -0.672638 -0.672638   \n",
       "AgentBonus                    -0.097521  0.762676 -0.708283 -1.061056   \n",
       "\n",
       "                                   1335  \n",
       "CustID                        -0.708531  \n",
       "Age                           -0.730360  \n",
       "CustTenure                     0.297936  \n",
       "ExistingProdType              -2.647486  \n",
       "NumberOfPolicy                -1.773250  \n",
       "MonthlyIncome                 -1.165791  \n",
       "Complaint                     -0.634709  \n",
       "ExistingPolicyTenure           0.583273  \n",
       "SumAssured                     0.543446  \n",
       "LastMonthCalls                -1.002006  \n",
       "CustCareScore                  1.406102  \n",
       "Channel_Online                -0.339851  \n",
       "Channel_Third Party Partner   -0.484044  \n",
       "Occupation_Large Business     -0.314995  \n",
       "Occupation_Salaried            1.030555  \n",
       "Occupation_Small Business     -0.858560  \n",
       "EducationField_Engineer       -0.314995  \n",
       "EducationField_Graduate        1.190425  \n",
       "EducationField_MBA            -0.129012  \n",
       "EducationField_Post Graduate  -0.242990  \n",
       "EducationField_Under Graduate -0.676805  \n",
       "Gender_Male                    0.825559  \n",
       "Designation_Executive          1.311341  \n",
       "Designation_Manager           -0.747409  \n",
       "Designation_Senior Manager    -0.419355  \n",
       "Designation_VP                -0.229416  \n",
       "MaritalStatus_Married          0.996466  \n",
       "MaritalStatus_Unmarried       -0.686552  \n",
       "Zone_North                    -0.845411  \n",
       "Zone_South                    -0.036458  \n",
       "Zone_West                      0.872638  \n",
       "PaymentMethod_Monthly          3.430505  \n",
       "PaymentMethod_Quarterly       -0.130774  \n",
       "PaymentMethod_Yearly          -0.681674  \n",
       "Cluster                        1.486683  \n",
       "AgentBonus                     0.047864  "
      ]
     },
     "execution_count": 63,
     "metadata": {},
     "output_type": "execute_result"
    }
   ],
   "source": [
    "data_train = pd.concat([X_train, y_train], axis=1)\n",
    "data_train.head().T"
   ]
  },
  {
   "cell_type": "code",
   "execution_count": 64,
   "metadata": {},
   "outputs": [
    {
     "data": {
      "text/plain": [
       "(3164, 35)"
      ]
     },
     "execution_count": 64,
     "metadata": {},
     "output_type": "execute_result"
    }
   ],
   "source": [
    "X_train.shape"
   ]
  },
  {
   "cell_type": "code",
   "execution_count": 65,
   "metadata": {},
   "outputs": [
    {
     "name": "stdout",
     "output_type": "stream",
     "text": [
      "The coefficient for CustID is 0.017635761451338005\n",
      "The coefficient for Age is 0.13817890383486173\n",
      "The coefficient for CustTenure is 0.14780222965461057\n",
      "The coefficient for ExistingProdType is 0.02627027878449622\n",
      "The coefficient for NumberOfPolicy is 0.0062212854562025514\n",
      "The coefficient for MonthlyIncome is 0.09505445597095781\n",
      "The coefficient for Complaint is 0.01482240096396285\n",
      "The coefficient for ExistingPolicyTenure is 0.08499903519921198\n",
      "The coefficient for SumAssured is 0.5803750526164702\n",
      "The coefficient for LastMonthCalls is -0.009701015579455522\n",
      "The coefficient for CustCareScore is 0.010713741776047713\n",
      "The coefficient for Channel_Online is 0.00645138155647337\n",
      "The coefficient for Channel_Third Party Partner is 0.0026647410632010425\n",
      "The coefficient for Occupation_Large Business is -0.11759725436552186\n",
      "The coefficient for Occupation_Salaried is -0.15200340761035697\n",
      "The coefficient for Occupation_Small Business is -0.1933276874001378\n",
      "The coefficient for EducationField_Engineer is 0.0028631607447075613\n",
      "The coefficient for EducationField_Graduate is -0.03866488985832469\n",
      "The coefficient for EducationField_MBA is -0.013692079085784058\n",
      "The coefficient for EducationField_Post Graduate is -0.015823170964687758\n",
      "The coefficient for EducationField_Under Graduate is -0.000782162818005537\n",
      "The coefficient for Gender_Male is 0.011035893656654285\n",
      "The coefficient for Designation_Executive is -0.15544981051200693\n",
      "The coefficient for Designation_Manager is -0.13644160847148046\n",
      "The coefficient for Designation_Senior Manager is -0.048434416432782214\n",
      "The coefficient for Designation_VP is 0.0032865050214037324\n",
      "The coefficient for MaritalStatus_Married is -0.021571279606575913\n",
      "The coefficient for MaritalStatus_Unmarried is -0.0008471400192363885\n",
      "The coefficient for Zone_North is 0.022414290815320904\n",
      "The coefficient for Zone_South is 0.005540822775175198\n",
      "The coefficient for Zone_West is 0.023630565991745057\n",
      "The coefficient for PaymentMethod_Monthly is 0.02732493715141931\n",
      "The coefficient for PaymentMethod_Quarterly is 0.009640887687923108\n",
      "The coefficient for PaymentMethod_Yearly is -0.025336321143015955\n",
      "The coefficient for Cluster is 0.010642651010201745\n"
     ]
    }
   ],
   "source": [
    "for idx, col_name in enumerate(X_train.columns):\n",
    "    print(\"The coefficient for {} is {}\".format(col_name, regression_model.coef_[idx]))"
   ]
  },
  {
   "cell_type": "code",
   "execution_count": 66,
   "metadata": {},
   "outputs": [
    {
     "name": "stdout",
     "output_type": "stream",
     "text": [
      "The coefficient for CustID is 0.017635761451338005\n",
      "The coefficient for Age is 0.13817890383486173\n",
      "The coefficient for CustTenure is 0.14780222965461057\n",
      "The coefficient for ExistingProdType is 0.02627027878449622\n",
      "The coefficient for NumberOfPolicy is 0.0062212854562025514\n",
      "The coefficient for MonthlyIncome is 0.09505445597095781\n",
      "The coefficient for Complaint is 0.01482240096396285\n",
      "The coefficient for ExistingPolicyTenure is 0.08499903519921198\n",
      "The coefficient for SumAssured is 0.5803750526164702\n",
      "The coefficient for LastMonthCalls is -0.009701015579455522\n",
      "The coefficient for CustCareScore is 0.010713741776047713\n",
      "The coefficient for Channel_Online is 0.00645138155647337\n",
      "The coefficient for Channel_Third Party Partner is 0.0026647410632010425\n",
      "The coefficient for Occupation_Large Business is -0.11759725436552186\n",
      "The coefficient for Occupation_Salaried is -0.15200340761035697\n",
      "The coefficient for Occupation_Small Business is -0.1933276874001378\n",
      "The coefficient for EducationField_Engineer is 0.0028631607447075613\n",
      "The coefficient for EducationField_Graduate is -0.03866488985832469\n",
      "The coefficient for EducationField_MBA is -0.013692079085784058\n",
      "The coefficient for EducationField_Post Graduate is -0.015823170964687758\n",
      "The coefficient for EducationField_Under Graduate is -0.000782162818005537\n",
      "The coefficient for Gender_Male is 0.011035893656654285\n",
      "The coefficient for Designation_Executive is -0.15544981051200693\n",
      "The coefficient for Designation_Manager is -0.13644160847148046\n",
      "The coefficient for Designation_Senior Manager is -0.048434416432782214\n",
      "The coefficient for Designation_VP is 0.0032865050214037324\n",
      "The coefficient for MaritalStatus_Married is -0.021571279606575913\n",
      "The coefficient for MaritalStatus_Unmarried is -0.0008471400192363885\n",
      "The coefficient for Zone_North is 0.022414290815320904\n",
      "The coefficient for Zone_South is 0.005540822775175198\n",
      "The coefficient for Zone_West is 0.023630565991745057\n",
      "The coefficient for PaymentMethod_Monthly is 0.02732493715141931\n",
      "The coefficient for PaymentMethod_Quarterly is 0.009640887687923108\n",
      "The coefficient for PaymentMethod_Yearly is -0.025336321143015955\n",
      "The coefficient for Cluster is 0.010642651010201745\n"
     ]
    }
   ],
   "source": [
    "for idx, col_name in enumerate(X_test.columns):\n",
    "    print(\"The coefficient for {} is {}\".format(col_name, regression_model.coef_[idx]))"
   ]
  },
  {
   "cell_type": "code",
   "execution_count": 67,
   "metadata": {},
   "outputs": [
    {
     "data": {
      "text/plain": [
       "Intercept               -0.002127\n",
       "CustID                   0.053416\n",
       "Age                      0.153025\n",
       "CustTenure               0.162718\n",
       "SumAssured               0.618816\n",
       "ExistingProdType        -0.009708\n",
       "NumberOfPolicy           0.015376\n",
       "LastMonthCalls           0.002273\n",
       "CustCareScore            0.013604\n",
       "Channel_Online           0.003974\n",
       "Gender_Male              0.008916\n",
       "Zone_North               0.010581\n",
       "Zone_South               0.000850\n",
       "Zone_West                0.014237\n",
       "Designation_Executive   -0.181978\n",
       "Designation_Manager     -0.142476\n",
       "Cluster                  0.008182\n",
       "dtype: float64"
      ]
     },
     "execution_count": 67,
     "metadata": {},
     "output_type": "execute_result"
    }
   ],
   "source": [
    "import statsmodels.formula.api as smf\n",
    "lm1 = smf.ols(formula= 'AgentBonus ~ CustID+Age+CustTenure+SumAssured+ExistingProdType+NumberOfPolicy+LastMonthCalls+CustCareScore+Channel_Online+Gender_Male+Zone_North+Zone_South+Zone_West+Designation_Executive+Designation_Manager+Cluster', data = data_train).fit()\n",
    "lm1.params"
   ]
  },
  {
   "cell_type": "code",
   "execution_count": 68,
   "metadata": {},
   "outputs": [
    {
     "name": "stdout",
     "output_type": "stream",
     "text": [
      "                            OLS Regression Results                            \n",
      "==============================================================================\n",
      "Dep. Variable:             AgentBonus   R-squared:                       0.796\n",
      "Model:                            OLS   Adj. R-squared:                  0.795\n",
      "Method:                 Least Squares   F-statistic:                     766.8\n",
      "Date:                Sun, 05 Nov 2023   Prob (F-statistic):               0.00\n",
      "Time:                        16:12:31   Log-Likelihood:                -1981.5\n",
      "No. Observations:                3164   AIC:                             3997.\n",
      "Df Residuals:                    3147   BIC:                             4100.\n",
      "Df Model:                          16                                         \n",
      "Covariance Type:            nonrobust                                         \n",
      "=========================================================================================\n",
      "                            coef    std err          t      P>|t|      [0.025      0.975]\n",
      "-----------------------------------------------------------------------------------------\n",
      "Intercept                -0.0021      0.008     -0.264      0.792      -0.018       0.014\n",
      "CustID                    0.0534      0.009      5.779      0.000       0.035       0.072\n",
      "Age                       0.1530      0.009     16.531      0.000       0.135       0.171\n",
      "CustTenure                0.1627      0.009     17.532      0.000       0.145       0.181\n",
      "SumAssured                0.6188      0.015     42.492      0.000       0.590       0.647\n",
      "ExistingProdType         -0.0097      0.009     -1.090      0.276      -0.027       0.008\n",
      "NumberOfPolicy            0.0154      0.008      1.835      0.067      -0.001       0.032\n",
      "LastMonthCalls            0.0023      0.009      0.262      0.793      -0.015       0.019\n",
      "CustCareScore             0.0136      0.008      1.679      0.093      -0.002       0.029\n",
      "Channel_Online            0.0040      0.008      0.495      0.621      -0.012       0.020\n",
      "Gender_Male               0.0089      0.008      1.103      0.270      -0.007       0.025\n",
      "Zone_North                0.0106      0.034      0.308      0.758      -0.057       0.078\n",
      "Zone_South                0.0009      0.008      0.109      0.913      -0.014       0.016\n",
      "Zone_West                 0.0142      0.034      0.414      0.679      -0.053       0.082\n",
      "Designation_Executive    -0.1820      0.011    -15.844      0.000      -0.204      -0.159\n",
      "Designation_Manager      -0.1425      0.011    -13.475      0.000      -0.163      -0.122\n",
      "Cluster                   0.0082      0.013      0.613      0.540      -0.018       0.034\n",
      "==============================================================================\n",
      "Omnibus:                      233.396   Durbin-Watson:                   1.992\n",
      "Prob(Omnibus):                  0.000   Jarque-Bera (JB):              308.787\n",
      "Skew:                           0.645   Prob(JB):                     8.86e-68\n",
      "Kurtosis:                       3.824   Cond. No.                         9.97\n",
      "==============================================================================\n",
      "\n",
      "Notes:\n",
      "[1] Standard Errors assume that the covariance matrix of the errors is correctly specified.\n"
     ]
    }
   ],
   "source": [
    "print(lm1.summary())"
   ]
  },
  {
   "cell_type": "code",
   "execution_count": 69,
   "metadata": {},
   "outputs": [
    {
     "data": {
      "text/html": [
       "<style>#sk-container-id-3 {color: black;}#sk-container-id-3 pre{padding: 0;}#sk-container-id-3 div.sk-toggleable {background-color: white;}#sk-container-id-3 label.sk-toggleable__label {cursor: pointer;display: block;width: 100%;margin-bottom: 0;padding: 0.3em;box-sizing: border-box;text-align: center;}#sk-container-id-3 label.sk-toggleable__label-arrow:before {content: \"▸\";float: left;margin-right: 0.25em;color: #696969;}#sk-container-id-3 label.sk-toggleable__label-arrow:hover:before {color: black;}#sk-container-id-3 div.sk-estimator:hover label.sk-toggleable__label-arrow:before {color: black;}#sk-container-id-3 div.sk-toggleable__content {max-height: 0;max-width: 0;overflow: hidden;text-align: left;background-color: #f0f8ff;}#sk-container-id-3 div.sk-toggleable__content pre {margin: 0.2em;color: black;border-radius: 0.25em;background-color: #f0f8ff;}#sk-container-id-3 input.sk-toggleable__control:checked~div.sk-toggleable__content {max-height: 200px;max-width: 100%;overflow: auto;}#sk-container-id-3 input.sk-toggleable__control:checked~label.sk-toggleable__label-arrow:before {content: \"▾\";}#sk-container-id-3 div.sk-estimator input.sk-toggleable__control:checked~label.sk-toggleable__label {background-color: #d4ebff;}#sk-container-id-3 div.sk-label input.sk-toggleable__control:checked~label.sk-toggleable__label {background-color: #d4ebff;}#sk-container-id-3 input.sk-hidden--visually {border: 0;clip: rect(1px 1px 1px 1px);clip: rect(1px, 1px, 1px, 1px);height: 1px;margin: -1px;overflow: hidden;padding: 0;position: absolute;width: 1px;}#sk-container-id-3 div.sk-estimator {font-family: monospace;background-color: #f0f8ff;border: 1px dotted black;border-radius: 0.25em;box-sizing: border-box;margin-bottom: 0.5em;}#sk-container-id-3 div.sk-estimator:hover {background-color: #d4ebff;}#sk-container-id-3 div.sk-parallel-item::after {content: \"\";width: 100%;border-bottom: 1px solid gray;flex-grow: 1;}#sk-container-id-3 div.sk-label:hover label.sk-toggleable__label {background-color: #d4ebff;}#sk-container-id-3 div.sk-serial::before {content: \"\";position: absolute;border-left: 1px solid gray;box-sizing: border-box;top: 0;bottom: 0;left: 50%;z-index: 0;}#sk-container-id-3 div.sk-serial {display: flex;flex-direction: column;align-items: center;background-color: white;padding-right: 0.2em;padding-left: 0.2em;position: relative;}#sk-container-id-3 div.sk-item {position: relative;z-index: 1;}#sk-container-id-3 div.sk-parallel {display: flex;align-items: stretch;justify-content: center;background-color: white;position: relative;}#sk-container-id-3 div.sk-item::before, #sk-container-id-3 div.sk-parallel-item::before {content: \"\";position: absolute;border-left: 1px solid gray;box-sizing: border-box;top: 0;bottom: 0;left: 50%;z-index: -1;}#sk-container-id-3 div.sk-parallel-item {display: flex;flex-direction: column;z-index: 1;position: relative;background-color: white;}#sk-container-id-3 div.sk-parallel-item:first-child::after {align-self: flex-end;width: 50%;}#sk-container-id-3 div.sk-parallel-item:last-child::after {align-self: flex-start;width: 50%;}#sk-container-id-3 div.sk-parallel-item:only-child::after {width: 0;}#sk-container-id-3 div.sk-dashed-wrapped {border: 1px dashed gray;margin: 0 0.4em 0.5em 0.4em;box-sizing: border-box;padding-bottom: 0.4em;background-color: white;}#sk-container-id-3 div.sk-label label {font-family: monospace;font-weight: bold;display: inline-block;line-height: 1.2em;}#sk-container-id-3 div.sk-label-container {text-align: center;}#sk-container-id-3 div.sk-container {/* jupyter's `normalize.less` sets `[hidden] { display: none; }` but bootstrap.min.css set `[hidden] { display: none !important; }` so we also need the `!important` here to be able to override the default hidden behavior on the sphinx rendered scikit-learn.org. See: https://github.com/scikit-learn/scikit-learn/issues/21755 */display: inline-block !important;position: relative;}#sk-container-id-3 div.sk-text-repr-fallback {display: none;}</style><div id=\"sk-container-id-3\" class=\"sk-top-container\"><div class=\"sk-text-repr-fallback\"><pre>LinearRegression()</pre><b>In a Jupyter environment, please rerun this cell to show the HTML representation or trust the notebook. <br />On GitHub, the HTML representation is unable to render, please try loading this page with nbviewer.org.</b></div><div class=\"sk-container\" hidden><div class=\"sk-item\"><div class=\"sk-estimator sk-toggleable\"><input class=\"sk-toggleable__control sk-hidden--visually\" id=\"sk-estimator-id-3\" type=\"checkbox\" checked><label for=\"sk-estimator-id-3\" class=\"sk-toggleable__label sk-toggleable__label-arrow\">LinearRegression</label><div class=\"sk-toggleable__content\"><pre>LinearRegression()</pre></div></div></div></div></div>"
      ],
      "text/plain": [
       "LinearRegression()"
      ]
     },
     "execution_count": 69,
     "metadata": {},
     "output_type": "execute_result"
    }
   ],
   "source": [
    "regression_model = LinearRegression()\n",
    "regression_model.fit(X_test, y_test)"
   ]
  },
  {
   "cell_type": "code",
   "execution_count": 70,
   "metadata": {},
   "outputs": [
    {
     "data": {
      "text/plain": [
       "610     1.148233\n",
       "1519    1.767546\n",
       "1620   -1.173659\n",
       "2031    0.294450\n",
       "494    -1.184349\n",
       "Name: AgentBonus, dtype: float64"
      ]
     },
     "execution_count": 70,
     "metadata": {},
     "output_type": "execute_result"
    }
   ],
   "source": [
    "y_test.head()"
   ]
  },
  {
   "cell_type": "code",
   "execution_count": 71,
   "metadata": {},
   "outputs": [
    {
     "data": {
      "text/html": [
       "<div>\n",
       "<style scoped>\n",
       "    .dataframe tbody tr th:only-of-type {\n",
       "        vertical-align: middle;\n",
       "    }\n",
       "\n",
       "    .dataframe tbody tr th {\n",
       "        vertical-align: top;\n",
       "    }\n",
       "\n",
       "    .dataframe thead th {\n",
       "        text-align: right;\n",
       "    }\n",
       "</style>\n",
       "<table border=\"1\" class=\"dataframe\">\n",
       "  <thead>\n",
       "    <tr style=\"text-align: right;\">\n",
       "      <th></th>\n",
       "      <th>610</th>\n",
       "      <th>1519</th>\n",
       "      <th>1620</th>\n",
       "      <th>2031</th>\n",
       "      <th>494</th>\n",
       "    </tr>\n",
       "  </thead>\n",
       "  <tbody>\n",
       "    <tr>\n",
       "      <th>CustID</th>\n",
       "      <td>-1.264167</td>\n",
       "      <td>-0.567515</td>\n",
       "      <td>-0.490109</td>\n",
       "      <td>-0.175121</td>\n",
       "      <td>-1.353069</td>\n",
       "    </tr>\n",
       "    <tr>\n",
       "      <th>Age</th>\n",
       "      <td>-0.388311</td>\n",
       "      <td>0.637835</td>\n",
       "      <td>-0.844377</td>\n",
       "      <td>-0.160279</td>\n",
       "      <td>-0.274295</td>\n",
       "    </tr>\n",
       "    <tr>\n",
       "      <th>CustTenure</th>\n",
       "      <td>0.984313</td>\n",
       "      <td>-0.846025</td>\n",
       "      <td>0.069144</td>\n",
       "      <td>0.869917</td>\n",
       "      <td>-0.045252</td>\n",
       "    </tr>\n",
       "    <tr>\n",
       "      <th>ExistingProdType</th>\n",
       "      <td>-0.678318</td>\n",
       "      <td>-0.678318</td>\n",
       "      <td>-0.678318</td>\n",
       "      <td>-0.678318</td>\n",
       "      <td>-0.678318</td>\n",
       "    </tr>\n",
       "    <tr>\n",
       "      <th>NumberOfPolicy</th>\n",
       "      <td>-1.083186</td>\n",
       "      <td>-1.773250</td>\n",
       "      <td>-1.773250</td>\n",
       "      <td>0.296941</td>\n",
       "      <td>-0.393123</td>\n",
       "    </tr>\n",
       "    <tr>\n",
       "      <th>MonthlyIncome</th>\n",
       "      <td>-0.014116</td>\n",
       "      <td>2.454419</td>\n",
       "      <td>-0.866066</td>\n",
       "      <td>-0.301877</td>\n",
       "      <td>-1.167890</td>\n",
       "    </tr>\n",
       "    <tr>\n",
       "      <th>Complaint</th>\n",
       "      <td>-0.634709</td>\n",
       "      <td>-0.634709</td>\n",
       "      <td>-0.634709</td>\n",
       "      <td>1.575525</td>\n",
       "      <td>-0.634709</td>\n",
       "    </tr>\n",
       "    <tr>\n",
       "      <th>ExistingPolicyTenure</th>\n",
       "      <td>-0.938895</td>\n",
       "      <td>-0.330028</td>\n",
       "      <td>-0.025594</td>\n",
       "      <td>-0.025594</td>\n",
       "      <td>-0.938895</td>\n",
       "    </tr>\n",
       "    <tr>\n",
       "      <th>SumAssured</th>\n",
       "      <td>0.687677</td>\n",
       "      <td>2.402218</td>\n",
       "      <td>-0.778155</td>\n",
       "      <td>1.099155</td>\n",
       "      <td>-1.507267</td>\n",
       "    </tr>\n",
       "    <tr>\n",
       "      <th>LastMonthCalls</th>\n",
       "      <td>-0.173215</td>\n",
       "      <td>0.379312</td>\n",
       "      <td>0.931839</td>\n",
       "      <td>0.655576</td>\n",
       "      <td>-1.278269</td>\n",
       "    </tr>\n",
       "    <tr>\n",
       "      <th>CustCareScore</th>\n",
       "      <td>-0.775947</td>\n",
       "      <td>-1.503296</td>\n",
       "      <td>-0.048597</td>\n",
       "      <td>1.406102</td>\n",
       "      <td>-0.775947</td>\n",
       "    </tr>\n",
       "    <tr>\n",
       "      <th>Channel_Online</th>\n",
       "      <td>-0.339851</td>\n",
       "      <td>-0.339851</td>\n",
       "      <td>-0.339851</td>\n",
       "      <td>-0.339851</td>\n",
       "      <td>-0.339851</td>\n",
       "    </tr>\n",
       "    <tr>\n",
       "      <th>Channel_Third Party Partner</th>\n",
       "      <td>2.065930</td>\n",
       "      <td>-0.484044</td>\n",
       "      <td>-0.484044</td>\n",
       "      <td>2.065930</td>\n",
       "      <td>-0.484044</td>\n",
       "    </tr>\n",
       "    <tr>\n",
       "      <th>Occupation_Large Business</th>\n",
       "      <td>-0.314995</td>\n",
       "      <td>-0.314995</td>\n",
       "      <td>-0.314995</td>\n",
       "      <td>-0.314995</td>\n",
       "      <td>-0.314995</td>\n",
       "    </tr>\n",
       "    <tr>\n",
       "      <th>Occupation_Salaried</th>\n",
       "      <td>1.030555</td>\n",
       "      <td>-0.970351</td>\n",
       "      <td>1.030555</td>\n",
       "      <td>-0.970351</td>\n",
       "      <td>-0.970351</td>\n",
       "    </tr>\n",
       "    <tr>\n",
       "      <th>Occupation_Small Business</th>\n",
       "      <td>-0.858560</td>\n",
       "      <td>1.164741</td>\n",
       "      <td>-0.858560</td>\n",
       "      <td>1.164741</td>\n",
       "      <td>1.164741</td>\n",
       "    </tr>\n",
       "    <tr>\n",
       "      <th>EducationField_Engineer</th>\n",
       "      <td>-0.314995</td>\n",
       "      <td>-0.314995</td>\n",
       "      <td>-0.314995</td>\n",
       "      <td>-0.314995</td>\n",
       "      <td>-0.314995</td>\n",
       "    </tr>\n",
       "    <tr>\n",
       "      <th>EducationField_Graduate</th>\n",
       "      <td>1.190425</td>\n",
       "      <td>-0.840036</td>\n",
       "      <td>-0.840036</td>\n",
       "      <td>-0.840036</td>\n",
       "      <td>-0.840036</td>\n",
       "    </tr>\n",
       "    <tr>\n",
       "      <th>EducationField_MBA</th>\n",
       "      <td>-0.129012</td>\n",
       "      <td>-0.129012</td>\n",
       "      <td>-0.129012</td>\n",
       "      <td>-0.129012</td>\n",
       "      <td>-0.129012</td>\n",
       "    </tr>\n",
       "    <tr>\n",
       "      <th>EducationField_Post Graduate</th>\n",
       "      <td>-0.242990</td>\n",
       "      <td>-0.242990</td>\n",
       "      <td>4.115399</td>\n",
       "      <td>-0.242990</td>\n",
       "      <td>-0.242990</td>\n",
       "    </tr>\n",
       "    <tr>\n",
       "      <th>EducationField_Under Graduate</th>\n",
       "      <td>-0.676805</td>\n",
       "      <td>1.477531</td>\n",
       "      <td>-0.676805</td>\n",
       "      <td>1.477531</td>\n",
       "      <td>1.477531</td>\n",
       "    </tr>\n",
       "    <tr>\n",
       "      <th>Gender_Male</th>\n",
       "      <td>0.825559</td>\n",
       "      <td>-1.211301</td>\n",
       "      <td>0.825559</td>\n",
       "      <td>0.825559</td>\n",
       "      <td>0.825559</td>\n",
       "    </tr>\n",
       "    <tr>\n",
       "      <th>Designation_Executive</th>\n",
       "      <td>-0.762578</td>\n",
       "      <td>-0.762578</td>\n",
       "      <td>-0.762578</td>\n",
       "      <td>-0.762578</td>\n",
       "      <td>1.311341</td>\n",
       "    </tr>\n",
       "    <tr>\n",
       "      <th>Designation_Manager</th>\n",
       "      <td>1.337955</td>\n",
       "      <td>-0.747409</td>\n",
       "      <td>1.337955</td>\n",
       "      <td>1.337955</td>\n",
       "      <td>-0.747409</td>\n",
       "    </tr>\n",
       "    <tr>\n",
       "      <th>Designation_Senior Manager</th>\n",
       "      <td>-0.419355</td>\n",
       "      <td>-0.419355</td>\n",
       "      <td>-0.419355</td>\n",
       "      <td>-0.419355</td>\n",
       "      <td>-0.419355</td>\n",
       "    </tr>\n",
       "    <tr>\n",
       "      <th>Designation_VP</th>\n",
       "      <td>-0.229416</td>\n",
       "      <td>4.358899</td>\n",
       "      <td>-0.229416</td>\n",
       "      <td>-0.229416</td>\n",
       "      <td>-0.229416</td>\n",
       "    </tr>\n",
       "    <tr>\n",
       "      <th>MaritalStatus_Married</th>\n",
       "      <td>-1.003546</td>\n",
       "      <td>0.996466</td>\n",
       "      <td>0.996466</td>\n",
       "      <td>0.996466</td>\n",
       "      <td>-1.003546</td>\n",
       "    </tr>\n",
       "    <tr>\n",
       "      <th>MaritalStatus_Unmarried</th>\n",
       "      <td>1.456553</td>\n",
       "      <td>-0.686552</td>\n",
       "      <td>-0.686552</td>\n",
       "      <td>-0.686552</td>\n",
       "      <td>-0.686552</td>\n",
       "    </tr>\n",
       "    <tr>\n",
       "      <th>Zone_North</th>\n",
       "      <td>-0.845411</td>\n",
       "      <td>1.182857</td>\n",
       "      <td>1.182857</td>\n",
       "      <td>1.182857</td>\n",
       "      <td>-0.845411</td>\n",
       "    </tr>\n",
       "    <tr>\n",
       "      <th>Zone_South</th>\n",
       "      <td>-0.036458</td>\n",
       "      <td>-0.036458</td>\n",
       "      <td>-0.036458</td>\n",
       "      <td>-0.036458</td>\n",
       "      <td>-0.036458</td>\n",
       "    </tr>\n",
       "    <tr>\n",
       "      <th>Zone_West</th>\n",
       "      <td>0.872638</td>\n",
       "      <td>-1.145951</td>\n",
       "      <td>-1.145951</td>\n",
       "      <td>-1.145951</td>\n",
       "      <td>0.872638</td>\n",
       "    </tr>\n",
       "    <tr>\n",
       "      <th>PaymentMethod_Monthly</th>\n",
       "      <td>-0.291502</td>\n",
       "      <td>-0.291502</td>\n",
       "      <td>-0.291502</td>\n",
       "      <td>-0.291502</td>\n",
       "      <td>-0.291502</td>\n",
       "    </tr>\n",
       "    <tr>\n",
       "      <th>PaymentMethod_Quarterly</th>\n",
       "      <td>-0.130774</td>\n",
       "      <td>-0.130774</td>\n",
       "      <td>-0.130774</td>\n",
       "      <td>-0.130774</td>\n",
       "      <td>-0.130774</td>\n",
       "    </tr>\n",
       "    <tr>\n",
       "      <th>PaymentMethod_Yearly</th>\n",
       "      <td>-0.681674</td>\n",
       "      <td>-0.681674</td>\n",
       "      <td>-0.681674</td>\n",
       "      <td>-0.681674</td>\n",
       "      <td>-0.681674</td>\n",
       "    </tr>\n",
       "    <tr>\n",
       "      <th>Cluster</th>\n",
       "      <td>1.486683</td>\n",
       "      <td>1.486683</td>\n",
       "      <td>-0.672638</td>\n",
       "      <td>1.486683</td>\n",
       "      <td>-0.672638</td>\n",
       "    </tr>\n",
       "    <tr>\n",
       "      <th>AgentBonus</th>\n",
       "      <td>1.148233</td>\n",
       "      <td>1.767546</td>\n",
       "      <td>-1.173659</td>\n",
       "      <td>0.294450</td>\n",
       "      <td>-1.184349</td>\n",
       "    </tr>\n",
       "  </tbody>\n",
       "</table>\n",
       "</div>"
      ],
      "text/plain": [
       "                                   610       1519      1620      2031  \\\n",
       "CustID                        -1.264167 -0.567515 -0.490109 -0.175121   \n",
       "Age                           -0.388311  0.637835 -0.844377 -0.160279   \n",
       "CustTenure                     0.984313 -0.846025  0.069144  0.869917   \n",
       "ExistingProdType              -0.678318 -0.678318 -0.678318 -0.678318   \n",
       "NumberOfPolicy                -1.083186 -1.773250 -1.773250  0.296941   \n",
       "MonthlyIncome                 -0.014116  2.454419 -0.866066 -0.301877   \n",
       "Complaint                     -0.634709 -0.634709 -0.634709  1.575525   \n",
       "ExistingPolicyTenure          -0.938895 -0.330028 -0.025594 -0.025594   \n",
       "SumAssured                     0.687677  2.402218 -0.778155  1.099155   \n",
       "LastMonthCalls                -0.173215  0.379312  0.931839  0.655576   \n",
       "CustCareScore                 -0.775947 -1.503296 -0.048597  1.406102   \n",
       "Channel_Online                -0.339851 -0.339851 -0.339851 -0.339851   \n",
       "Channel_Third Party Partner    2.065930 -0.484044 -0.484044  2.065930   \n",
       "Occupation_Large Business     -0.314995 -0.314995 -0.314995 -0.314995   \n",
       "Occupation_Salaried            1.030555 -0.970351  1.030555 -0.970351   \n",
       "Occupation_Small Business     -0.858560  1.164741 -0.858560  1.164741   \n",
       "EducationField_Engineer       -0.314995 -0.314995 -0.314995 -0.314995   \n",
       "EducationField_Graduate        1.190425 -0.840036 -0.840036 -0.840036   \n",
       "EducationField_MBA            -0.129012 -0.129012 -0.129012 -0.129012   \n",
       "EducationField_Post Graduate  -0.242990 -0.242990  4.115399 -0.242990   \n",
       "EducationField_Under Graduate -0.676805  1.477531 -0.676805  1.477531   \n",
       "Gender_Male                    0.825559 -1.211301  0.825559  0.825559   \n",
       "Designation_Executive         -0.762578 -0.762578 -0.762578 -0.762578   \n",
       "Designation_Manager            1.337955 -0.747409  1.337955  1.337955   \n",
       "Designation_Senior Manager    -0.419355 -0.419355 -0.419355 -0.419355   \n",
       "Designation_VP                -0.229416  4.358899 -0.229416 -0.229416   \n",
       "MaritalStatus_Married         -1.003546  0.996466  0.996466  0.996466   \n",
       "MaritalStatus_Unmarried        1.456553 -0.686552 -0.686552 -0.686552   \n",
       "Zone_North                    -0.845411  1.182857  1.182857  1.182857   \n",
       "Zone_South                    -0.036458 -0.036458 -0.036458 -0.036458   \n",
       "Zone_West                      0.872638 -1.145951 -1.145951 -1.145951   \n",
       "PaymentMethod_Monthly         -0.291502 -0.291502 -0.291502 -0.291502   \n",
       "PaymentMethod_Quarterly       -0.130774 -0.130774 -0.130774 -0.130774   \n",
       "PaymentMethod_Yearly          -0.681674 -0.681674 -0.681674 -0.681674   \n",
       "Cluster                        1.486683  1.486683 -0.672638  1.486683   \n",
       "AgentBonus                     1.148233  1.767546 -1.173659  0.294450   \n",
       "\n",
       "                                   494   \n",
       "CustID                        -1.353069  \n",
       "Age                           -0.274295  \n",
       "CustTenure                    -0.045252  \n",
       "ExistingProdType              -0.678318  \n",
       "NumberOfPolicy                -0.393123  \n",
       "MonthlyIncome                 -1.167890  \n",
       "Complaint                     -0.634709  \n",
       "ExistingPolicyTenure          -0.938895  \n",
       "SumAssured                    -1.507267  \n",
       "LastMonthCalls                -1.278269  \n",
       "CustCareScore                 -0.775947  \n",
       "Channel_Online                -0.339851  \n",
       "Channel_Third Party Partner   -0.484044  \n",
       "Occupation_Large Business     -0.314995  \n",
       "Occupation_Salaried           -0.970351  \n",
       "Occupation_Small Business      1.164741  \n",
       "EducationField_Engineer       -0.314995  \n",
       "EducationField_Graduate       -0.840036  \n",
       "EducationField_MBA            -0.129012  \n",
       "EducationField_Post Graduate  -0.242990  \n",
       "EducationField_Under Graduate  1.477531  \n",
       "Gender_Male                    0.825559  \n",
       "Designation_Executive          1.311341  \n",
       "Designation_Manager           -0.747409  \n",
       "Designation_Senior Manager    -0.419355  \n",
       "Designation_VP                -0.229416  \n",
       "MaritalStatus_Married         -1.003546  \n",
       "MaritalStatus_Unmarried       -0.686552  \n",
       "Zone_North                    -0.845411  \n",
       "Zone_South                    -0.036458  \n",
       "Zone_West                      0.872638  \n",
       "PaymentMethod_Monthly         -0.291502  \n",
       "PaymentMethod_Quarterly       -0.130774  \n",
       "PaymentMethod_Yearly          -0.681674  \n",
       "Cluster                       -0.672638  \n",
       "AgentBonus                    -1.184349  "
      ]
     },
     "execution_count": 71,
     "metadata": {},
     "output_type": "execute_result"
    }
   ],
   "source": [
    "data_test = pd.concat([X_test, y_test], axis=1)\n",
    "data_test.head().T"
   ]
  },
  {
   "cell_type": "code",
   "execution_count": 72,
   "metadata": {},
   "outputs": [
    {
     "data": {
      "text/plain": [
       "Intercept                0.005148\n",
       "CustID                   0.059921\n",
       "Age                      0.179033\n",
       "CustTenure               0.169189\n",
       "SumAssured               0.615135\n",
       "ExistingProdType         0.003127\n",
       "NumberOfPolicy          -0.016021\n",
       "LastMonthCalls           0.006474\n",
       "CustCareScore            0.005418\n",
       "Channel_Online          -0.000283\n",
       "Gender_Male             -0.014603\n",
       "Zone_North              -0.102132\n",
       "Zone_South              -0.021251\n",
       "Zone_West               -0.099993\n",
       "Designation_Executive   -0.178299\n",
       "Designation_Manager     -0.142622\n",
       "Cluster                 -0.000432\n",
       "dtype: float64"
      ]
     },
     "execution_count": 72,
     "metadata": {},
     "output_type": "execute_result"
    }
   ],
   "source": [
    "import statsmodels.formula.api as smf\n",
    "lm2 = smf.ols(formula= 'AgentBonus ~ CustID+Age+CustTenure+SumAssured+ExistingProdType+NumberOfPolicy+LastMonthCalls+CustCareScore+Channel_Online+Gender_Male+Zone_North+Zone_South+Zone_West+Designation_Executive+Designation_Manager+Cluster', data = data_test).fit()\n",
    "lm2.params"
   ]
  },
  {
   "cell_type": "code",
   "execution_count": 73,
   "metadata": {},
   "outputs": [
    {
     "name": "stdout",
     "output_type": "stream",
     "text": [
      "                            OLS Regression Results                            \n",
      "==============================================================================\n",
      "Dep. Variable:             AgentBonus   R-squared:                       0.789\n",
      "Model:                            OLS   Adj. R-squared:                  0.787\n",
      "Method:                 Least Squares   F-statistic:                     313.4\n",
      "Date:                Sun, 05 Nov 2023   Prob (F-statistic):               0.00\n",
      "Time:                        16:12:31   Log-Likelihood:                -862.67\n",
      "No. Observations:                1356   AIC:                             1759.\n",
      "Df Residuals:                    1339   BIC:                             1848.\n",
      "Df Model:                          16                                         \n",
      "Covariance Type:            nonrobust                                         \n",
      "=========================================================================================\n",
      "                            coef    std err          t      P>|t|      [0.025      0.975]\n",
      "-----------------------------------------------------------------------------------------\n",
      "Intercept                 0.0051      0.013      0.411      0.681      -0.019       0.030\n",
      "CustID                    0.0599      0.015      4.108      0.000       0.031       0.089\n",
      "Age                       0.1790      0.014     12.414      0.000       0.151       0.207\n",
      "CustTenure                0.1692      0.014     11.752      0.000       0.141       0.197\n",
      "SumAssured                0.6151      0.023     26.239      0.000       0.569       0.661\n",
      "ExistingProdType          0.0031      0.014      0.224      0.823      -0.024       0.031\n",
      "NumberOfPolicy           -0.0160      0.013     -1.227      0.220      -0.042       0.010\n",
      "LastMonthCalls            0.0065      0.014      0.454      0.650      -0.022       0.034\n",
      "CustCareScore             0.0054      0.013      0.430      0.667      -0.019       0.030\n",
      "Channel_Online           -0.0003      0.013     -0.022      0.983      -0.026       0.025\n",
      "Gender_Male              -0.0146      0.013     -1.147      0.251      -0.040       0.010\n",
      "Zone_North               -0.1021      0.052     -1.959      0.050      -0.204       0.000\n",
      "Zone_South               -0.0213      0.017     -1.235      0.217      -0.055       0.013\n",
      "Zone_West                -0.1000      0.052     -1.920      0.055      -0.202       0.002\n",
      "Designation_Executive    -0.1783      0.018     -9.773      0.000      -0.214      -0.143\n",
      "Designation_Manager      -0.1426      0.016     -8.797      0.000      -0.174      -0.111\n",
      "Cluster                  -0.0004      0.021     -0.020      0.984      -0.042       0.041\n",
      "==============================================================================\n",
      "Omnibus:                       77.311   Durbin-Watson:                   2.090\n",
      "Prob(Omnibus):                  0.000   Jarque-Bera (JB):               90.482\n",
      "Skew:                           0.588   Prob(JB):                     2.25e-20\n",
      "Kurtosis:                       3.467   Cond. No.                         9.77\n",
      "==============================================================================\n",
      "\n",
      "Notes:\n",
      "[1] Standard Errors assume that the covariance matrix of the errors is correctly specified.\n"
     ]
    }
   ],
   "source": [
    "print(lm2.summary())"
   ]
  },
  {
   "cell_type": "code",
   "execution_count": 74,
   "metadata": {},
   "outputs": [],
   "source": [
    "mse = np.mean((regression_model.predict(X_test)-y_test)**2)"
   ]
  },
  {
   "cell_type": "code",
   "execution_count": 75,
   "metadata": {},
   "outputs": [
    {
     "data": {
      "text/plain": [
       "0.19062417852609684"
      ]
     },
     "execution_count": 75,
     "metadata": {},
     "output_type": "execute_result"
    }
   ],
   "source": [
    "mse"
   ]
  },
  {
   "cell_type": "code",
   "execution_count": 76,
   "metadata": {},
   "outputs": [
    {
     "data": {
      "text/plain": [
       "0.4366052891641337"
      ]
     },
     "execution_count": 76,
     "metadata": {},
     "output_type": "execute_result"
    }
   ],
   "source": [
    "# underroot of mean_sq_error is standard deviation i.e. avg variance between predicted and actual\n",
    "from sklearn.metrics import r2_score\n",
    "import math\n",
    "\n",
    "math.sqrt(mse)"
   ]
  },
  {
   "cell_type": "code",
   "execution_count": 77,
   "metadata": {},
   "outputs": [
    {
     "data": {
      "text/plain": [
       "0.8077434283258387"
      ]
     },
     "execution_count": 77,
     "metadata": {},
     "output_type": "execute_result"
    }
   ],
   "source": [
    "# Model score - R2 or coeff of determinant\n",
    "\n",
    "regression_model.score(X_test, y_test)"
   ]
  },
  {
   "cell_type": "code",
   "execution_count": 78,
   "metadata": {},
   "outputs": [],
   "source": [
    "# predict mileage (mpg) for a set of attributes not in the training or test set\n",
    "y_pred = regression_model.predict(X_test)"
   ]
  },
  {
   "cell_type": "code",
   "execution_count": 79,
   "metadata": {},
   "outputs": [
    {
     "data": {
      "text/plain": [
       "287.0199507840891"
      ]
     },
     "execution_count": 79,
     "metadata": {},
     "output_type": "execute_result"
    }
   ],
   "source": [
    "LR_MAPE = (abs(y_test - (regression_model.predict(X_test))/y_test )*100).mean()\n",
    "LR_MAPE"
   ]
  },
  {
   "cell_type": "code",
   "execution_count": 80,
   "metadata": {},
   "outputs": [
    {
     "data": {
      "image/png": "[encoded data removed]",
      "text/plain": [
       "<Figure size 1000x1000 with 1 Axes>"
      ]
     },
     "metadata": {},
     "output_type": "display_data"
    }
   ],
   "source": [
    "plt.figure(figsize=(10,10))\n",
    "plt.scatter(y_test, y_pred)\n",
    "plt.xlabel(\"Actual\")\n",
    "plt.ylabel('Predicted')\n",
    "plt.show()"
   ]
  },
  {
   "cell_type": "code",
   "execution_count": 81,
   "metadata": {},
   "outputs": [],
   "source": [
    "#Model Tuning"
   ]
  },
  {
   "cell_type": "code",
   "execution_count": 82,
   "metadata": {},
   "outputs": [],
   "source": [
    "from sklearn.model_selection import GridSearchCV\n",
    "param_grid = {\n",
    "    'n_jobs': [0,1,2]\n",
    "}\n",
    "grid_search_lr = GridSearchCV(estimator = regression_model, param_grid = param_grid, cv = 3)"
   ]
  },
  {
   "cell_type": "code",
   "execution_count": 83,
   "metadata": {},
   "outputs": [
    {
     "data": {
      "text/html": [
       "<style>#sk-container-id-4 {color: black;}#sk-container-id-4 pre{padding: 0;}#sk-container-id-4 div.sk-toggleable {background-color: white;}#sk-container-id-4 label.sk-toggleable__label {cursor: pointer;display: block;width: 100%;margin-bottom: 0;padding: 0.3em;box-sizing: border-box;text-align: center;}#sk-container-id-4 label.sk-toggleable__label-arrow:before {content: \"▸\";float: left;margin-right: 0.25em;color: #696969;}#sk-container-id-4 label.sk-toggleable__label-arrow:hover:before {color: black;}#sk-container-id-4 div.sk-estimator:hover label.sk-toggleable__label-arrow:before {color: black;}#sk-container-id-4 div.sk-toggleable__content {max-height: 0;max-width: 0;overflow: hidden;text-align: left;background-color: #f0f8ff;}#sk-container-id-4 div.sk-toggleable__content pre {margin: 0.2em;color: black;border-radius: 0.25em;background-color: #f0f8ff;}#sk-container-id-4 input.sk-toggleable__control:checked~div.sk-toggleable__content {max-height: 200px;max-width: 100%;overflow: auto;}#sk-container-id-4 input.sk-toggleable__control:checked~label.sk-toggleable__label-arrow:before {content: \"▾\";}#sk-container-id-4 div.sk-estimator input.sk-toggleable__control:checked~label.sk-toggleable__label {background-color: #d4ebff;}#sk-container-id-4 div.sk-label input.sk-toggleable__control:checked~label.sk-toggleable__label {background-color: #d4ebff;}#sk-container-id-4 input.sk-hidden--visually {border: 0;clip: rect(1px 1px 1px 1px);clip: rect(1px, 1px, 1px, 1px);height: 1px;margin: -1px;overflow: hidden;padding: 0;position: absolute;width: 1px;}#sk-container-id-4 div.sk-estimator {font-family: monospace;background-color: #f0f8ff;border: 1px dotted black;border-radius: 0.25em;box-sizing: border-box;margin-bottom: 0.5em;}#sk-container-id-4 div.sk-estimator:hover {background-color: #d4ebff;}#sk-container-id-4 div.sk-parallel-item::after {content: \"\";width: 100%;border-bottom: 1px solid gray;flex-grow: 1;}#sk-container-id-4 div.sk-label:hover label.sk-toggleable__label {background-color: #d4ebff;}#sk-container-id-4 div.sk-serial::before {content: \"\";position: absolute;border-left: 1px solid gray;box-sizing: border-box;top: 0;bottom: 0;left: 50%;z-index: 0;}#sk-container-id-4 div.sk-serial {display: flex;flex-direction: column;align-items: center;background-color: white;padding-right: 0.2em;padding-left: 0.2em;position: relative;}#sk-container-id-4 div.sk-item {position: relative;z-index: 1;}#sk-container-id-4 div.sk-parallel {display: flex;align-items: stretch;justify-content: center;background-color: white;position: relative;}#sk-container-id-4 div.sk-item::before, #sk-container-id-4 div.sk-parallel-item::before {content: \"\";position: absolute;border-left: 1px solid gray;box-sizing: border-box;top: 0;bottom: 0;left: 50%;z-index: -1;}#sk-container-id-4 div.sk-parallel-item {display: flex;flex-direction: column;z-index: 1;position: relative;background-color: white;}#sk-container-id-4 div.sk-parallel-item:first-child::after {align-self: flex-end;width: 50%;}#sk-container-id-4 div.sk-parallel-item:last-child::after {align-self: flex-start;width: 50%;}#sk-container-id-4 div.sk-parallel-item:only-child::after {width: 0;}#sk-container-id-4 div.sk-dashed-wrapped {border: 1px dashed gray;margin: 0 0.4em 0.5em 0.4em;box-sizing: border-box;padding-bottom: 0.4em;background-color: white;}#sk-container-id-4 div.sk-label label {font-family: monospace;font-weight: bold;display: inline-block;line-height: 1.2em;}#sk-container-id-4 div.sk-label-container {text-align: center;}#sk-container-id-4 div.sk-container {/* jupyter's `normalize.less` sets `[hidden] { display: none; }` but bootstrap.min.css set `[hidden] { display: none !important; }` so we also need the `!important` here to be able to override the default hidden behavior on the sphinx rendered scikit-learn.org. See: https://github.com/scikit-learn/scikit-learn/issues/21755 */display: inline-block !important;position: relative;}#sk-container-id-4 div.sk-text-repr-fallback {display: none;}</style><div id=\"sk-container-id-4\" class=\"sk-top-container\"><div class=\"sk-text-repr-fallback\"><pre>GridSearchCV(cv=3, estimator=LinearRegression(),\n",
       "             param_grid={&#x27;n_jobs&#x27;: [0, 1, 2]})</pre><b>In a Jupyter environment, please rerun this cell to show the HTML representation or trust the notebook. <br />On GitHub, the HTML representation is unable to render, please try loading this page with nbviewer.org.</b></div><div class=\"sk-container\" hidden><div class=\"sk-item sk-dashed-wrapped\"><div class=\"sk-label-container\"><div class=\"sk-label sk-toggleable\"><input class=\"sk-toggleable__control sk-hidden--visually\" id=\"sk-estimator-id-4\" type=\"checkbox\" ><label for=\"sk-estimator-id-4\" class=\"sk-toggleable__label sk-toggleable__label-arrow\">GridSearchCV</label><div class=\"sk-toggleable__content\"><pre>GridSearchCV(cv=3, estimator=LinearRegression(),\n",
       "             param_grid={&#x27;n_jobs&#x27;: [0, 1, 2]})</pre></div></div></div><div class=\"sk-parallel\"><div class=\"sk-parallel-item\"><div class=\"sk-item\"><div class=\"sk-label-container\"><div class=\"sk-label sk-toggleable\"><input class=\"sk-toggleable__control sk-hidden--visually\" id=\"sk-estimator-id-5\" type=\"checkbox\" ><label for=\"sk-estimator-id-5\" class=\"sk-toggleable__label sk-toggleable__label-arrow\">estimator: LinearRegression</label><div class=\"sk-toggleable__content\"><pre>LinearRegression()</pre></div></div></div><div class=\"sk-serial\"><div class=\"sk-item\"><div class=\"sk-estimator sk-toggleable\"><input class=\"sk-toggleable__control sk-hidden--visually\" id=\"sk-estimator-id-6\" type=\"checkbox\" ><label for=\"sk-estimator-id-6\" class=\"sk-toggleable__label sk-toggleable__label-arrow\">LinearRegression</label><div class=\"sk-toggleable__content\"><pre>LinearRegression()</pre></div></div></div></div></div></div></div></div></div></div>"
      ],
      "text/plain": [
       "GridSearchCV(cv=3, estimator=LinearRegression(),\n",
       "             param_grid={'n_jobs': [0, 1, 2]})"
      ]
     },
     "execution_count": 83,
     "metadata": {},
     "output_type": "execute_result"
    }
   ],
   "source": [
    "grid_search_lr.fit(X_train, y_train)"
   ]
  },
  {
   "cell_type": "code",
   "execution_count": 84,
   "metadata": {},
   "outputs": [
    {
     "data": {
      "text/plain": [
       "{'n_jobs': 0}"
      ]
     },
     "execution_count": 84,
     "metadata": {},
     "output_type": "execute_result"
    }
   ],
   "source": [
    "grid_search_lr.best_params_"
   ]
  },
  {
   "cell_type": "code",
   "execution_count": 85,
   "metadata": {},
   "outputs": [],
   "source": [
    "best_grid_lr = grid_search_lr.best_estimator_"
   ]
  },
  {
   "cell_type": "code",
   "execution_count": 86,
   "metadata": {},
   "outputs": [],
   "source": [
    "ytrain_predict = best_grid_lr.predict(X_train)\n",
    "ytest_predict = best_grid_lr.predict(X_test)"
   ]
  },
  {
   "cell_type": "code",
   "execution_count": 87,
   "metadata": {},
   "outputs": [],
   "source": [
    "#Train data mse for best params for LR Model\n",
    "mse_lr = np.mean((y_train-ytrain_predict)**2)"
   ]
  },
  {
   "cell_type": "code",
   "execution_count": 88,
   "metadata": {},
   "outputs": [
    {
     "data": {
      "text/plain": [
       "0.19022963715967411"
      ]
     },
     "execution_count": 88,
     "metadata": {},
     "output_type": "execute_result"
    }
   ],
   "source": [
    "mse_lr"
   ]
  },
  {
   "cell_type": "code",
   "execution_count": 89,
   "metadata": {},
   "outputs": [
    {
     "data": {
      "text/plain": [
       "0.43615322669868456"
      ]
     },
     "execution_count": 89,
     "metadata": {},
     "output_type": "execute_result"
    }
   ],
   "source": [
    "math.sqrt(mse_lr)"
   ]
  },
  {
   "cell_type": "code",
   "execution_count": 90,
   "metadata": {},
   "outputs": [
    {
     "data": {
      "text/plain": [
       "228.57147730517784"
      ]
     },
     "execution_count": 90,
     "metadata": {},
     "output_type": "execute_result"
    }
   ],
   "source": [
    "LR_MAPE = (abs(y_train - (best_grid_lr.predict(X_train))/y_train )*100).mean()\n",
    "LR_MAPE"
   ]
  },
  {
   "cell_type": "code",
   "execution_count": 91,
   "metadata": {},
   "outputs": [
    {
     "data": {
      "text/plain": [
       "0.8104530332014905"
      ]
     },
     "execution_count": 91,
     "metadata": {},
     "output_type": "execute_result"
    }
   ],
   "source": [
    "r2_score(y_train,ytrain_predict)"
   ]
  },
  {
   "cell_type": "code",
   "execution_count": 92,
   "metadata": {},
   "outputs": [],
   "source": [
    "#Test data mse for best params for LR Model\n",
    "mse_lr2 = np.mean((y_test-ytest_predict)**2)"
   ]
  },
  {
   "cell_type": "code",
   "execution_count": 93,
   "metadata": {},
   "outputs": [
    {
     "data": {
      "text/plain": [
       "0.1984804089279727"
      ]
     },
     "execution_count": 93,
     "metadata": {},
     "output_type": "execute_result"
    }
   ],
   "source": [
    "mse_lr2"
   ]
  },
  {
   "cell_type": "code",
   "execution_count": 94,
   "metadata": {},
   "outputs": [
    {
     "data": {
      "text/plain": [
       "0.44551140156899766"
      ]
     },
     "execution_count": 94,
     "metadata": {},
     "output_type": "execute_result"
    }
   ],
   "source": [
    "math.sqrt(mse_lr2)"
   ]
  },
  {
   "cell_type": "code",
   "execution_count": 95,
   "metadata": {},
   "outputs": [
    {
     "data": {
      "text/plain": [
       "0.799819921795736"
      ]
     },
     "execution_count": 95,
     "metadata": {},
     "output_type": "execute_result"
    }
   ],
   "source": [
    "r2_score(y_test,ytest_predict)"
   ]
  },
  {
   "cell_type": "code",
   "execution_count": 96,
   "metadata": {},
   "outputs": [
    {
     "data": {
      "text/plain": [
       "287.75428429220375"
      ]
     },
     "execution_count": 96,
     "metadata": {},
     "output_type": "execute_result"
    }
   ],
   "source": [
    "LR_MAPE = (abs(y_test - (best_grid_lr.predict(X_test))/y_test )*100).mean()\n",
    "LR_MAPE"
   ]
  },
  {
   "cell_type": "markdown",
   "metadata": {},
   "source": [
    "**Random forest**"
   ]
  },
  {
   "cell_type": "code",
   "execution_count": 97,
   "metadata": {},
   "outputs": [],
   "source": [
    "from sklearn.ensemble import RandomForestRegressor"
   ]
  },
  {
   "cell_type": "code",
   "execution_count": 98,
   "metadata": {},
   "outputs": [],
   "source": [
    "rfcl = RandomForestRegressor(n_estimators = 15, random_state=1)\n",
    "rfcl = rfcl.fit(X_train, y_train)"
   ]
  },
  {
   "cell_type": "code",
   "execution_count": 99,
   "metadata": {},
   "outputs": [
    {
     "data": {
      "text/plain": [
       "array([-0.22599239,  0.83066532, -0.6307436 , ..., -0.39171281,\n",
       "        0.83688934, -0.75379862])"
      ]
     },
     "execution_count": 99,
     "metadata": {},
     "output_type": "execute_result"
    }
   ],
   "source": [
    "y_pred = rfcl.predict(X_train)\n",
    "y_pred"
   ]
  },
  {
   "cell_type": "code",
   "execution_count": 100,
   "metadata": {},
   "outputs": [
    {
     "data": {
      "text/plain": [
       "0.9754599234045213"
      ]
     },
     "execution_count": 100,
     "metadata": {},
     "output_type": "execute_result"
    }
   ],
   "source": [
    "r2_score(y_train,y_pred)"
   ]
  },
  {
   "cell_type": "code",
   "execution_count": 101,
   "metadata": {},
   "outputs": [],
   "source": [
    "mse_rf2 = np.mean((y_train-y_pred)**2)"
   ]
  },
  {
   "cell_type": "code",
   "execution_count": 102,
   "metadata": {},
   "outputs": [
    {
     "data": {
      "text/plain": [
       "0.024628459877128712"
      ]
     },
     "execution_count": 102,
     "metadata": {},
     "output_type": "execute_result"
    }
   ],
   "source": [
    "mse_rf2"
   ]
  },
  {
   "cell_type": "code",
   "execution_count": 103,
   "metadata": {},
   "outputs": [
    {
     "data": {
      "text/plain": [
       "0.15693457196274094"
      ]
     },
     "execution_count": 103,
     "metadata": {},
     "output_type": "execute_result"
    }
   ],
   "source": [
    "math.sqrt(mse_rf2)"
   ]
  },
  {
   "cell_type": "code",
   "execution_count": 104,
   "metadata": {},
   "outputs": [
    {
     "data": {
      "text/plain": [
       "145.2527703284488"
      ]
     },
     "execution_count": 104,
     "metadata": {},
     "output_type": "execute_result"
    }
   ],
   "source": [
    "RF_MAPE = (abs(y_train - (rfcl.predict(X_train))/y_train )*100).mean()\n",
    "RF_MAPE"
   ]
  },
  {
   "cell_type": "code",
   "execution_count": 105,
   "metadata": {},
   "outputs": [],
   "source": [
    "rfcl = RandomForestRegressor(n_estimators = 15, random_state=1)\n",
    "rfcl = rfcl.fit(X_test, y_test)"
   ]
  },
  {
   "cell_type": "code",
   "execution_count": 106,
   "metadata": {},
   "outputs": [
    {
     "data": {
      "text/plain": [
       "array([ 0.77037312,  1.8035601 , -1.09502684, ..., -1.03497219,\n",
       "       -1.10533685,  0.34319643])"
      ]
     },
     "execution_count": 106,
     "metadata": {},
     "output_type": "execute_result"
    }
   ],
   "source": [
    "y_pred = rfcl.predict(X_test)\n",
    "y_pred"
   ]
  },
  {
   "cell_type": "code",
   "execution_count": 107,
   "metadata": {},
   "outputs": [],
   "source": [
    "mse_rf_ = np.mean((y_test-y_pred)**2)"
   ]
  },
  {
   "cell_type": "code",
   "execution_count": 108,
   "metadata": {},
   "outputs": [
    {
     "data": {
      "text/plain": [
       "0.029851972582641224"
      ]
     },
     "execution_count": 108,
     "metadata": {},
     "output_type": "execute_result"
    }
   ],
   "source": [
    "mse_rf_"
   ]
  },
  {
   "cell_type": "code",
   "execution_count": 109,
   "metadata": {},
   "outputs": [
    {
     "data": {
      "text/plain": [
       "0.17277723398249326"
      ]
     },
     "execution_count": 109,
     "metadata": {},
     "output_type": "execute_result"
    }
   ],
   "source": [
    "math.sqrt(mse_rf_)"
   ]
  },
  {
   "cell_type": "code",
   "execution_count": 110,
   "metadata": {},
   "outputs": [
    {
     "data": {
      "text/plain": [
       "0.9698923927131103"
      ]
     },
     "execution_count": 110,
     "metadata": {},
     "output_type": "execute_result"
    }
   ],
   "source": [
    "r2_score(y_test,y_pred)"
   ]
  },
  {
   "cell_type": "code",
   "execution_count": 111,
   "metadata": {},
   "outputs": [
    {
     "data": {
      "text/plain": [
       "176.57659206205543"
      ]
     },
     "execution_count": 111,
     "metadata": {},
     "output_type": "execute_result"
    }
   ],
   "source": [
    "RF_MAPE = (abs(y_test - (rfcl.predict(X_test))/y_test )*100).mean()\n",
    "RF_MAPE"
   ]
  },
  {
   "cell_type": "code",
   "execution_count": 112,
   "metadata": {},
   "outputs": [],
   "source": [
    "#Model Tuning"
   ]
  },
  {
   "cell_type": "code",
   "execution_count": 113,
   "metadata": {},
   "outputs": [],
   "source": [
    "param_grid_rf = {\n",
    "    'max_depth': [5, 6],\n",
    "    'max_features': [4, 6],\n",
    "    'min_samples_leaf': [50, 80],\n",
    "    'min_samples_split': [50, 100],\n",
    "    'n_estimators': [101, 201]\n",
    "}\n",
    "\n",
    "grid_search_rf = GridSearchCV(estimator = rfcl, param_grid = param_grid_rf, cv = 3)"
   ]
  },
  {
   "cell_type": "code",
   "execution_count": 114,
   "metadata": {},
   "outputs": [
    {
     "data": {
      "text/html": [
       "<style>#sk-container-id-5 {color: black;}#sk-container-id-5 pre{padding: 0;}#sk-container-id-5 div.sk-toggleable {background-color: white;}#sk-container-id-5 label.sk-toggleable__label {cursor: pointer;display: block;width: 100%;margin-bottom: 0;padding: 0.3em;box-sizing: border-box;text-align: center;}#sk-container-id-5 label.sk-toggleable__label-arrow:before {content: \"▸\";float: left;margin-right: 0.25em;color: #696969;}#sk-container-id-5 label.sk-toggleable__label-arrow:hover:before {color: black;}#sk-container-id-5 div.sk-estimator:hover label.sk-toggleable__label-arrow:before {color: black;}#sk-container-id-5 div.sk-toggleable__content {max-height: 0;max-width: 0;overflow: hidden;text-align: left;background-color: #f0f8ff;}#sk-container-id-5 div.sk-toggleable__content pre {margin: 0.2em;color: black;border-radius: 0.25em;background-color: #f0f8ff;}#sk-container-id-5 input.sk-toggleable__control:checked~div.sk-toggleable__content {max-height: 200px;max-width: 100%;overflow: auto;}#sk-container-id-5 input.sk-toggleable__control:checked~label.sk-toggleable__label-arrow:before {content: \"▾\";}#sk-container-id-5 div.sk-estimator input.sk-toggleable__control:checked~label.sk-toggleable__label {background-color: #d4ebff;}#sk-container-id-5 div.sk-label input.sk-toggleable__control:checked~label.sk-toggleable__label {background-color: #d4ebff;}#sk-container-id-5 input.sk-hidden--visually {border: 0;clip: rect(1px 1px 1px 1px);clip: rect(1px, 1px, 1px, 1px);height: 1px;margin: -1px;overflow: hidden;padding: 0;position: absolute;width: 1px;}#sk-container-id-5 div.sk-estimator {font-family: monospace;background-color: #f0f8ff;border: 1px dotted black;border-radius: 0.25em;box-sizing: border-box;margin-bottom: 0.5em;}#sk-container-id-5 div.sk-estimator:hover {background-color: #d4ebff;}#sk-container-id-5 div.sk-parallel-item::after {content: \"\";width: 100%;border-bottom: 1px solid gray;flex-grow: 1;}#sk-container-id-5 div.sk-label:hover label.sk-toggleable__label {background-color: #d4ebff;}#sk-container-id-5 div.sk-serial::before {content: \"\";position: absolute;border-left: 1px solid gray;box-sizing: border-box;top: 0;bottom: 0;left: 50%;z-index: 0;}#sk-container-id-5 div.sk-serial {display: flex;flex-direction: column;align-items: center;background-color: white;padding-right: 0.2em;padding-left: 0.2em;position: relative;}#sk-container-id-5 div.sk-item {position: relative;z-index: 1;}#sk-container-id-5 div.sk-parallel {display: flex;align-items: stretch;justify-content: center;background-color: white;position: relative;}#sk-container-id-5 div.sk-item::before, #sk-container-id-5 div.sk-parallel-item::before {content: \"\";position: absolute;border-left: 1px solid gray;box-sizing: border-box;top: 0;bottom: 0;left: 50%;z-index: -1;}#sk-container-id-5 div.sk-parallel-item {display: flex;flex-direction: column;z-index: 1;position: relative;background-color: white;}#sk-container-id-5 div.sk-parallel-item:first-child::after {align-self: flex-end;width: 50%;}#sk-container-id-5 div.sk-parallel-item:last-child::after {align-self: flex-start;width: 50%;}#sk-container-id-5 div.sk-parallel-item:only-child::after {width: 0;}#sk-container-id-5 div.sk-dashed-wrapped {border: 1px dashed gray;margin: 0 0.4em 0.5em 0.4em;box-sizing: border-box;padding-bottom: 0.4em;background-color: white;}#sk-container-id-5 div.sk-label label {font-family: monospace;font-weight: bold;display: inline-block;line-height: 1.2em;}#sk-container-id-5 div.sk-label-container {text-align: center;}#sk-container-id-5 div.sk-container {/* jupyter's `normalize.less` sets `[hidden] { display: none; }` but bootstrap.min.css set `[hidden] { display: none !important; }` so we also need the `!important` here to be able to override the default hidden behavior on the sphinx rendered scikit-learn.org. See: https://github.com/scikit-learn/scikit-learn/issues/21755 */display: inline-block !important;position: relative;}#sk-container-id-5 div.sk-text-repr-fallback {display: none;}</style><div id=\"sk-container-id-5\" class=\"sk-top-container\"><div class=\"sk-text-repr-fallback\"><pre>GridSearchCV(cv=3,\n",
       "             estimator=RandomForestRegressor(n_estimators=15, random_state=1),\n",
       "             param_grid={&#x27;max_depth&#x27;: [5, 6], &#x27;max_features&#x27;: [4, 6],\n",
       "                         &#x27;min_samples_leaf&#x27;: [50, 80],\n",
       "                         &#x27;min_samples_split&#x27;: [50, 100],\n",
       "                         &#x27;n_estimators&#x27;: [101, 201]})</pre><b>In a Jupyter environment, please rerun this cell to show the HTML representation or trust the notebook. <br />On GitHub, the HTML representation is unable to render, please try loading this page with nbviewer.org.</b></div><div class=\"sk-container\" hidden><div class=\"sk-item sk-dashed-wrapped\"><div class=\"sk-label-container\"><div class=\"sk-label sk-toggleable\"><input class=\"sk-toggleable__control sk-hidden--visually\" id=\"sk-estimator-id-7\" type=\"checkbox\" ><label for=\"sk-estimator-id-7\" class=\"sk-toggleable__label sk-toggleable__label-arrow\">GridSearchCV</label><div class=\"sk-toggleable__content\"><pre>GridSearchCV(cv=3,\n",
       "             estimator=RandomForestRegressor(n_estimators=15, random_state=1),\n",
       "             param_grid={&#x27;max_depth&#x27;: [5, 6], &#x27;max_features&#x27;: [4, 6],\n",
       "                         &#x27;min_samples_leaf&#x27;: [50, 80],\n",
       "                         &#x27;min_samples_split&#x27;: [50, 100],\n",
       "                         &#x27;n_estimators&#x27;: [101, 201]})</pre></div></div></div><div class=\"sk-parallel\"><div class=\"sk-parallel-item\"><div class=\"sk-item\"><div class=\"sk-label-container\"><div class=\"sk-label sk-toggleable\"><input class=\"sk-toggleable__control sk-hidden--visually\" id=\"sk-estimator-id-8\" type=\"checkbox\" ><label for=\"sk-estimator-id-8\" class=\"sk-toggleable__label sk-toggleable__label-arrow\">estimator: RandomForestRegressor</label><div class=\"sk-toggleable__content\"><pre>RandomForestRegressor(n_estimators=15, random_state=1)</pre></div></div></div><div class=\"sk-serial\"><div class=\"sk-item\"><div class=\"sk-estimator sk-toggleable\"><input class=\"sk-toggleable__control sk-hidden--visually\" id=\"sk-estimator-id-9\" type=\"checkbox\" ><label for=\"sk-estimator-id-9\" class=\"sk-toggleable__label sk-toggleable__label-arrow\">RandomForestRegressor</label><div class=\"sk-toggleable__content\"><pre>RandomForestRegressor(n_estimators=15, random_state=1)</pre></div></div></div></div></div></div></div></div></div></div>"
      ],
      "text/plain": [
       "GridSearchCV(cv=3,\n",
       "             estimator=RandomForestRegressor(n_estimators=15, random_state=1),\n",
       "             param_grid={'max_depth': [5, 6], 'max_features': [4, 6],\n",
       "                         'min_samples_leaf': [50, 80],\n",
       "                         'min_samples_split': [50, 100],\n",
       "                         'n_estimators': [101, 201]})"
      ]
     },
     "execution_count": 114,
     "metadata": {},
     "output_type": "execute_result"
    }
   ],
   "source": [
    "grid_search_rf.fit(X_train, y_train)"
   ]
  },
  {
   "cell_type": "code",
   "execution_count": 115,
   "metadata": {},
   "outputs": [
    {
     "data": {
      "text/plain": [
       "{'max_depth': 6,\n",
       " 'max_features': 6,\n",
       " 'min_samples_leaf': 50,\n",
       " 'min_samples_split': 50,\n",
       " 'n_estimators': 201}"
      ]
     },
     "execution_count": 115,
     "metadata": {},
     "output_type": "execute_result"
    }
   ],
   "source": [
    "grid_search_rf.best_params_"
   ]
  },
  {
   "cell_type": "code",
   "execution_count": 116,
   "metadata": {},
   "outputs": [],
   "source": [
    "best_grid_rf = grid_search_rf.best_estimator_"
   ]
  },
  {
   "cell_type": "code",
   "execution_count": 117,
   "metadata": {},
   "outputs": [],
   "source": [
    "ytrain_predict_rf = best_grid_rf.predict(X_train)\n",
    "ytest_predict_rf = best_grid_rf.predict(X_test)"
   ]
  },
  {
   "cell_type": "code",
   "execution_count": 118,
   "metadata": {},
   "outputs": [],
   "source": [
    "#Train data mse for best params for RF Model\n",
    "mse_rf = np.mean((y_train-ytrain_predict_rf)**2)"
   ]
  },
  {
   "cell_type": "code",
   "execution_count": 119,
   "metadata": {},
   "outputs": [
    {
     "data": {
      "text/plain": [
       "0.226246287894444"
      ]
     },
     "execution_count": 119,
     "metadata": {},
     "output_type": "execute_result"
    }
   ],
   "source": [
    "mse_rf"
   ]
  },
  {
   "cell_type": "code",
   "execution_count": 120,
   "metadata": {},
   "outputs": [
    {
     "data": {
      "text/plain": [
       "0.4756535376662766"
      ]
     },
     "execution_count": 120,
     "metadata": {},
     "output_type": "execute_result"
    }
   ],
   "source": [
    "math.sqrt(mse_rf)"
   ]
  },
  {
   "cell_type": "code",
   "execution_count": 121,
   "metadata": {},
   "outputs": [
    {
     "data": {
      "text/plain": [
       "0.7745656341455451"
      ]
     },
     "execution_count": 121,
     "metadata": {},
     "output_type": "execute_result"
    }
   ],
   "source": [
    "r2_score(y_train,ytrain_predict_rf)"
   ]
  },
  {
   "cell_type": "code",
   "execution_count": 122,
   "metadata": {},
   "outputs": [
    {
     "data": {
      "text/plain": [
       "230.0092704550092"
      ]
     },
     "execution_count": 122,
     "metadata": {},
     "output_type": "execute_result"
    }
   ],
   "source": [
    "RF_MAPE = (abs(y_train - (best_grid_rf.predict(X_train))/y_train )*100).mean()\n",
    "RF_MAPE"
   ]
  },
  {
   "cell_type": "code",
   "execution_count": 123,
   "metadata": {},
   "outputs": [],
   "source": [
    "#Test data mse for best params for LR Model\n",
    "mse_rf2 = np.mean((y_test-ytest_predict_rf)**2)"
   ]
  },
  {
   "cell_type": "code",
   "execution_count": 124,
   "metadata": {},
   "outputs": [
    {
     "data": {
      "text/plain": [
       "0.24044317885864108"
      ]
     },
     "execution_count": 124,
     "metadata": {},
     "output_type": "execute_result"
    }
   ],
   "source": [
    "mse_rf2"
   ]
  },
  {
   "cell_type": "code",
   "execution_count": 125,
   "metadata": {},
   "outputs": [
    {
     "data": {
      "text/plain": [
       "0.49035005746776567"
      ]
     },
     "execution_count": 125,
     "metadata": {},
     "output_type": "execute_result"
    }
   ],
   "source": [
    "math.sqrt(mse_rf2)"
   ]
  },
  {
   "cell_type": "code",
   "execution_count": 126,
   "metadata": {},
   "outputs": [
    {
     "data": {
      "text/plain": [
       "0.7574978074280804"
      ]
     },
     "execution_count": 126,
     "metadata": {},
     "output_type": "execute_result"
    }
   ],
   "source": [
    "r2_score(y_test,ytest_predict_rf)"
   ]
  },
  {
   "cell_type": "code",
   "execution_count": 127,
   "metadata": {},
   "outputs": [
    {
     "data": {
      "text/plain": [
       "299.54816146899805"
      ]
     },
     "execution_count": 127,
     "metadata": {},
     "output_type": "execute_result"
    }
   ],
   "source": [
    "RF_MAPE = (abs(y_test - (best_grid_rf.predict(X_test))/y_test )*100).mean()\n",
    "RF_MAPE"
   ]
  },
  {
   "cell_type": "markdown",
   "metadata": {},
   "source": [
    "**KNN Model**"
   ]
  },
  {
   "cell_type": "code",
   "execution_count": 128,
   "metadata": {},
   "outputs": [],
   "source": [
    "from sklearn.neighbors import KNeighborsRegressor"
   ]
  },
  {
   "cell_type": "code",
   "execution_count": 129,
   "metadata": {},
   "outputs": [],
   "source": [
    "NNH = KNeighborsRegressor()"
   ]
  },
  {
   "cell_type": "code",
   "execution_count": 130,
   "metadata": {},
   "outputs": [
    {
     "data": {
      "text/html": [
       "<style>#sk-container-id-6 {color: black;}#sk-container-id-6 pre{padding: 0;}#sk-container-id-6 div.sk-toggleable {background-color: white;}#sk-container-id-6 label.sk-toggleable__label {cursor: pointer;display: block;width: 100%;margin-bottom: 0;padding: 0.3em;box-sizing: border-box;text-align: center;}#sk-container-id-6 label.sk-toggleable__label-arrow:before {content: \"▸\";float: left;margin-right: 0.25em;color: #696969;}#sk-container-id-6 label.sk-toggleable__label-arrow:hover:before {color: black;}#sk-container-id-6 div.sk-estimator:hover label.sk-toggleable__label-arrow:before {color: black;}#sk-container-id-6 div.sk-toggleable__content {max-height: 0;max-width: 0;overflow: hidden;text-align: left;background-color: #f0f8ff;}#sk-container-id-6 div.sk-toggleable__content pre {margin: 0.2em;color: black;border-radius: 0.25em;background-color: #f0f8ff;}#sk-container-id-6 input.sk-toggleable__control:checked~div.sk-toggleable__content {max-height: 200px;max-width: 100%;overflow: auto;}#sk-container-id-6 input.sk-toggleable__control:checked~label.sk-toggleable__label-arrow:before {content: \"▾\";}#sk-container-id-6 div.sk-estimator input.sk-toggleable__control:checked~label.sk-toggleable__label {background-color: #d4ebff;}#sk-container-id-6 div.sk-label input.sk-toggleable__control:checked~label.sk-toggleable__label {background-color: #d4ebff;}#sk-container-id-6 input.sk-hidden--visually {border: 0;clip: rect(1px 1px 1px 1px);clip: rect(1px, 1px, 1px, 1px);height: 1px;margin: -1px;overflow: hidden;padding: 0;position: absolute;width: 1px;}#sk-container-id-6 div.sk-estimator {font-family: monospace;background-color: #f0f8ff;border: 1px dotted black;border-radius: 0.25em;box-sizing: border-box;margin-bottom: 0.5em;}#sk-container-id-6 div.sk-estimator:hover {background-color: #d4ebff;}#sk-container-id-6 div.sk-parallel-item::after {content: \"\";width: 100%;border-bottom: 1px solid gray;flex-grow: 1;}#sk-container-id-6 div.sk-label:hover label.sk-toggleable__label {background-color: #d4ebff;}#sk-container-id-6 div.sk-serial::before {content: \"\";position: absolute;border-left: 1px solid gray;box-sizing: border-box;top: 0;bottom: 0;left: 50%;z-index: 0;}#sk-container-id-6 div.sk-serial {display: flex;flex-direction: column;align-items: center;background-color: white;padding-right: 0.2em;padding-left: 0.2em;position: relative;}#sk-container-id-6 div.sk-item {position: relative;z-index: 1;}#sk-container-id-6 div.sk-parallel {display: flex;align-items: stretch;justify-content: center;background-color: white;position: relative;}#sk-container-id-6 div.sk-item::before, #sk-container-id-6 div.sk-parallel-item::before {content: \"\";position: absolute;border-left: 1px solid gray;box-sizing: border-box;top: 0;bottom: 0;left: 50%;z-index: -1;}#sk-container-id-6 div.sk-parallel-item {display: flex;flex-direction: column;z-index: 1;position: relative;background-color: white;}#sk-container-id-6 div.sk-parallel-item:first-child::after {align-self: flex-end;width: 50%;}#sk-container-id-6 div.sk-parallel-item:last-child::after {align-self: flex-start;width: 50%;}#sk-container-id-6 div.sk-parallel-item:only-child::after {width: 0;}#sk-container-id-6 div.sk-dashed-wrapped {border: 1px dashed gray;margin: 0 0.4em 0.5em 0.4em;box-sizing: border-box;padding-bottom: 0.4em;background-color: white;}#sk-container-id-6 div.sk-label label {font-family: monospace;font-weight: bold;display: inline-block;line-height: 1.2em;}#sk-container-id-6 div.sk-label-container {text-align: center;}#sk-container-id-6 div.sk-container {/* jupyter's `normalize.less` sets `[hidden] { display: none; }` but bootstrap.min.css set `[hidden] { display: none !important; }` so we also need the `!important` here to be able to override the default hidden behavior on the sphinx rendered scikit-learn.org. See: https://github.com/scikit-learn/scikit-learn/issues/21755 */display: inline-block !important;position: relative;}#sk-container-id-6 div.sk-text-repr-fallback {display: none;}</style><div id=\"sk-container-id-6\" class=\"sk-top-container\"><div class=\"sk-text-repr-fallback\"><pre>KNeighborsRegressor()</pre><b>In a Jupyter environment, please rerun this cell to show the HTML representation or trust the notebook. <br />On GitHub, the HTML representation is unable to render, please try loading this page with nbviewer.org.</b></div><div class=\"sk-container\" hidden><div class=\"sk-item\"><div class=\"sk-estimator sk-toggleable\"><input class=\"sk-toggleable__control sk-hidden--visually\" id=\"sk-estimator-id-10\" type=\"checkbox\" checked><label for=\"sk-estimator-id-10\" class=\"sk-toggleable__label sk-toggleable__label-arrow\">KNeighborsRegressor</label><div class=\"sk-toggleable__content\"><pre>KNeighborsRegressor()</pre></div></div></div></div></div>"
      ],
      "text/plain": [
       "KNeighborsRegressor()"
      ]
     },
     "execution_count": 130,
     "metadata": {},
     "output_type": "execute_result"
    }
   ],
   "source": [
    "NNH.fit(X_train,y_train)"
   ]
  },
  {
   "cell_type": "code",
   "execution_count": 131,
   "metadata": {},
   "outputs": [],
   "source": [
    "#import required packages\n",
    "from sklearn.metrics import r2_score\n",
    "from sklearn import neighbors\n",
    "from sklearn.metrics import mean_squared_error \n",
    "from math import sqrt\n",
    "import matplotlib.pyplot as plt\n",
    "%matplotlib inline\n",
    "import warnings \n",
    "warnings.filterwarnings(action= 'ignore')"
   ]
  },
  {
   "cell_type": "code",
   "execution_count": 132,
   "metadata": {},
   "outputs": [],
   "source": [
    "mse_knn = np.mean((NNH.predict(X_train)-y_train)**2)"
   ]
  },
  {
   "cell_type": "code",
   "execution_count": 133,
   "metadata": {},
   "outputs": [
    {
     "data": {
      "text/plain": [
       "0.254054738047813"
      ]
     },
     "execution_count": 133,
     "metadata": {},
     "output_type": "execute_result"
    }
   ],
   "source": [
    "mse_knn"
   ]
  },
  {
   "cell_type": "code",
   "execution_count": 134,
   "metadata": {
    "scrolled": true
   },
   "outputs": [
    {
     "name": "stdout",
     "output_type": "stream",
     "text": [
      "RMSE value for k=  1 is: 0.0\n",
      "RMSE value for k=  2 is: 0.40911035117597294\n",
      "RMSE value for k=  3 is: 0.4677989799246946\n",
      "RMSE value for k=  4 is: 0.4933074283760728\n",
      "RMSE value for k=  5 is: 0.5040384291379111\n",
      "RMSE value for k=  6 is: 0.5134540685673387\n",
      "RMSE value for k=  7 is: 0.5204824797264683\n",
      "RMSE value for k=  8 is: 0.5287959836167869\n",
      "RMSE value for k=  9 is: 0.5342430887561889\n",
      "RMSE value for k=  10 is: 0.5380210439882369\n",
      "RMSE value for k=  11 is: 0.5427769510700745\n",
      "RMSE value for k=  12 is: 0.548825571538184\n",
      "RMSE value for k=  13 is: 0.5522674189697458\n",
      "RMSE value for k=  14 is: 0.5566676362986848\n",
      "RMSE value for k=  15 is: 0.559817868633404\n",
      "RMSE value for k=  16 is: 0.5619005016063705\n",
      "RMSE value for k=  17 is: 0.5639320563216919\n",
      "RMSE value for k=  18 is: 0.5665361678735308\n",
      "RMSE value for k=  19 is: 0.5687023017444042\n",
      "RMSE value for k=  20 is: 0.5702347615286002\n"
     ]
    }
   ],
   "source": [
    "rmse_val = [] #to store rmse values for different k\n",
    "for K in range(20):\n",
    "    K = K+1\n",
    "    model = neighbors.KNeighborsRegressor(n_neighbors = K)\n",
    "\n",
    "    model.fit(X_train, y_train)  #fit the model\n",
    "    pred=model.predict(X_train) #make prediction on test set\n",
    "    error = sqrt(mean_squared_error(y_train,pred)) #calculate rmse\n",
    "    rmse_val.append(error) #store rmse values\n",
    "    print('RMSE value for k= ' , K , 'is:', error)"
   ]
  },
  {
   "cell_type": "code",
   "execution_count": 135,
   "metadata": {
    "scrolled": true
   },
   "outputs": [
    {
     "data": {
      "text/plain": [
       "0.6759992344922625"
      ]
     },
     "execution_count": 135,
     "metadata": {},
     "output_type": "execute_result"
    }
   ],
   "source": [
    "r2_score(y_train,pred)"
   ]
  },
  {
   "cell_type": "code",
   "execution_count": 136,
   "metadata": {
    "scrolled": true
   },
   "outputs": [
    {
     "data": {
      "text/plain": [
       "236.35882296276495"
      ]
     },
     "execution_count": 136,
     "metadata": {},
     "output_type": "execute_result"
    }
   ],
   "source": [
    "KNN_MAPE1 = (abs(y_train - (NNH.predict(X_train))/y_train )*100).mean()\n",
    "KNN_MAPE1"
   ]
  },
  {
   "cell_type": "code",
   "execution_count": 137,
   "metadata": {},
   "outputs": [
    {
     "name": "stdout",
     "output_type": "stream",
     "text": [
      "RMSE value for k=  1 is: 0.0\n",
      "RMSE value for k=  2 is: 0.42176017995104637\n",
      "RMSE value for k=  3 is: 0.4901443267320123\n",
      "RMSE value for k=  4 is: 0.5185876911850086\n",
      "RMSE value for k=  5 is: 0.5434272427173505\n",
      "RMSE value for k=  6 is: 0.5580703088010127\n",
      "RMSE value for k=  7 is: 0.5645751096289601\n",
      "RMSE value for k=  8 is: 0.5696407816852026\n",
      "RMSE value for k=  9 is: 0.5742506772189082\n",
      "RMSE value for k=  10 is: 0.5769481325477762\n",
      "RMSE value for k=  11 is: 0.5842982596914011\n",
      "RMSE value for k=  12 is: 0.5912103953757015\n",
      "RMSE value for k=  13 is: 0.5963221648557314\n",
      "RMSE value for k=  14 is: 0.6004796195987271\n",
      "RMSE value for k=  15 is: 0.605018551709535\n",
      "RMSE value for k=  16 is: 0.6065924942990755\n",
      "RMSE value for k=  17 is: 0.6095442746470536\n",
      "RMSE value for k=  18 is: 0.6128967098867445\n",
      "RMSE value for k=  19 is: 0.6149247805434955\n",
      "RMSE value for k=  20 is: 0.615737684698686\n"
     ]
    }
   ],
   "source": [
    "rmse_val = [] #to store rmse values for different k\n",
    "for K in range(20):\n",
    "    K = K+1\n",
    "    model = neighbors.KNeighborsRegressor(n_neighbors = K)\n",
    "\n",
    "    model.fit(X_test, y_test)  #fit the model\n",
    "    pred1=model.predict(X_test) #make prediction on test set\n",
    "    error = sqrt(mean_squared_error(y_test,pred1)) #calculate rmse\n",
    "    rmse_val.append(error) #store rmse values\n",
    "    print('RMSE value for k= ' , K , 'is:', error)"
   ]
  },
  {
   "cell_type": "code",
   "execution_count": 138,
   "metadata": {},
   "outputs": [
    {
     "data": {
      "text/plain": [
       "0.39243740020708795"
      ]
     },
     "execution_count": 138,
     "metadata": {},
     "output_type": "execute_result"
    }
   ],
   "source": [
    "mse_knn2 = np.mean((NNH.predict(X_test)-y_test)**2)\n",
    "mse_knn2"
   ]
  },
  {
   "cell_type": "code",
   "execution_count": 139,
   "metadata": {},
   "outputs": [
    {
     "data": {
      "text/plain": [
       "0.6176204329047155"
      ]
     },
     "execution_count": 139,
     "metadata": {},
     "output_type": "execute_result"
    }
   ],
   "source": [
    "r2_score(y_test,pred1)"
   ]
  },
  {
   "cell_type": "code",
   "execution_count": 140,
   "metadata": {},
   "outputs": [
    {
     "data": {
      "text/plain": [
       "403.24188541151153"
      ]
     },
     "execution_count": 140,
     "metadata": {},
     "output_type": "execute_result"
    }
   ],
   "source": [
    "KNN_MAPE2 = (abs(y_test - (NNH.predict(X_test))/y_test )*100).mean()\n",
    "KNN_MAPE2"
   ]
  },
  {
   "cell_type": "code",
   "execution_count": 141,
   "metadata": {
    "scrolled": true
   },
   "outputs": [
    {
     "data": {
      "text/plain": [
       "<Axes: >"
      ]
     },
     "execution_count": 141,
     "metadata": {},
     "output_type": "execute_result"
    },
    {
     "data": {
      "image/png": "[encoded data removed]",
      "text/plain": [
       "<Figure size 640x480 with 1 Axes>"
      ]
     },
     "metadata": {},
     "output_type": "display_data"
    }
   ],
   "source": [
    "#plotting the rmse values against k values\n",
    "curve = pd.DataFrame(rmse_val) #elbow curve \n",
    "curve.plot()"
   ]
  },
  {
   "cell_type": "code",
   "execution_count": 142,
   "metadata": {},
   "outputs": [],
   "source": [
    "#Model Tuning"
   ]
  },
  {
   "cell_type": "code",
   "execution_count": 143,
   "metadata": {},
   "outputs": [
    {
     "data": {
      "text/plain": [
       "{'n_neighbors': 9}"
      ]
     },
     "execution_count": 143,
     "metadata": {},
     "output_type": "execute_result"
    }
   ],
   "source": [
    "from sklearn.model_selection import GridSearchCV\n",
    "params = {'n_neighbors':[0,1,2,3,4,5,6,7,8,9]}\n",
    "knn = neighbors.KNeighborsRegressor()\n",
    "model_knn = GridSearchCV(knn, params, cv=5)\n",
    "model_knn.fit(X_train,y_train)\n",
    "model_knn.best_params_"
   ]
  },
  {
   "cell_type": "code",
   "execution_count": 144,
   "metadata": {
    "scrolled": true
   },
   "outputs": [
    {
     "name": "stdout",
     "output_type": "stream",
     "text": [
      "R2 score for KNN  0.687552169208294\n"
     ]
    }
   ],
   "source": [
    "print('R2 score for KNN ',r2_score(y,model_knn.predict(X)))"
   ]
  },
  {
   "cell_type": "code",
   "execution_count": 145,
   "metadata": {},
   "outputs": [
    {
     "data": {
      "text/plain": [
       "0.2854156778837531"
      ]
     },
     "execution_count": 145,
     "metadata": {},
     "output_type": "execute_result"
    }
   ],
   "source": [
    "mse_knn3 = np.mean((model_knn.predict(X_train)-y_train)**2)\n",
    "mse_knn3"
   ]
  },
  {
   "cell_type": "code",
   "execution_count": 146,
   "metadata": {},
   "outputs": [
    {
     "data": {
      "text/plain": [
       "247.79825669246821"
      ]
     },
     "execution_count": 146,
     "metadata": {},
     "output_type": "execute_result"
    }
   ],
   "source": [
    "KNN_MAPE = (abs(y_train - (model_knn.predict(X_train))/y_train )*100).mean()\n",
    "KNN_MAPE"
   ]
  },
  {
   "cell_type": "code",
   "execution_count": 147,
   "metadata": {},
   "outputs": [
    {
     "name": "stdout",
     "output_type": "stream",
     "text": [
      "RMSE value for k=  1 is: 0.0\n",
      "RMSE value for k=  2 is: 0.42176017995104637\n",
      "RMSE value for k=  3 is: 0.4901443267320123\n",
      "RMSE value for k=  4 is: 0.5185876911850086\n",
      "RMSE value for k=  5 is: 0.5434272427173505\n",
      "RMSE value for k=  6 is: 0.5580703088010127\n",
      "RMSE value for k=  7 is: 0.5645751096289601\n",
      "RMSE value for k=  8 is: 0.5696407816852026\n",
      "RMSE value for k=  9 is: 0.5742506772189082\n",
      "RMSE value for k=  10 is: 0.5769481325477762\n",
      "RMSE value for k=  11 is: 0.5842982596914011\n",
      "RMSE value for k=  12 is: 0.5912103953757015\n",
      "RMSE value for k=  13 is: 0.5963221648557314\n",
      "RMSE value for k=  14 is: 0.6004796195987271\n",
      "RMSE value for k=  15 is: 0.605018551709535\n",
      "RMSE value for k=  16 is: 0.6065924942990755\n",
      "RMSE value for k=  17 is: 0.6095442746470536\n",
      "RMSE value for k=  18 is: 0.6128967098867445\n",
      "RMSE value for k=  19 is: 0.6149247805434955\n",
      "RMSE value for k=  20 is: 0.615737684698686\n"
     ]
    }
   ],
   "source": [
    "rmse_val1 = [] #to store rmse values for different k\n",
    "for K in range(20):\n",
    "    K = K+1\n",
    "    model_knn2= neighbors.KNeighborsRegressor(n_neighbors = K)\n",
    "\n",
    "    model_knn2.fit(X_test, y_test)  #fit the model\n",
    "    pred=model_knn2.predict(X_test) #make prediction on test set\n",
    "    error = sqrt(mean_squared_error(y_test,pred)) #calculate rmse\n",
    "    rmse_val1.append(error) #store rmse values\n",
    "    print('RMSE value for k= ' , K , 'is:', error)"
   ]
  },
  {
   "cell_type": "code",
   "execution_count": 148,
   "metadata": {},
   "outputs": [
    {
     "data": {
      "text/plain": [
       "<Axes: >"
      ]
     },
     "execution_count": 148,
     "metadata": {},
     "output_type": "execute_result"
    },
    {
     "data": {
      "image/png": "[encoded data removed]",
      "text/plain": [
       "<Figure size 640x480 with 1 Axes>"
      ]
     },
     "metadata": {},
     "output_type": "display_data"
    }
   ],
   "source": [
    "#plotting the rmse values against k values\n",
    "curve = pd.DataFrame(rmse_val1) #elbow curve \n",
    "curve.plot()"
   ]
  },
  {
   "cell_type": "code",
   "execution_count": 149,
   "metadata": {},
   "outputs": [
    {
     "data": {
      "text/plain": [
       "{'n_neighbors': 9}"
      ]
     },
     "execution_count": 149,
     "metadata": {},
     "output_type": "execute_result"
    }
   ],
   "source": [
    "from sklearn.model_selection import GridSearchCV\n",
    "params = {'n_neighbors':[2,3,4,5,6,7,8,9]}\n",
    "knn = neighbors.KNeighborsRegressor()\n",
    "model_knn3 = GridSearchCV(knn, params, cv=5)\n",
    "model_knn3.fit(X_test,y_test)\n",
    "model_knn3.best_params_"
   ]
  },
  {
   "cell_type": "code",
   "execution_count": 150,
   "metadata": {},
   "outputs": [
    {
     "data": {
      "text/html": [
       "<style>#sk-container-id-7 {color: black;}#sk-container-id-7 pre{padding: 0;}#sk-container-id-7 div.sk-toggleable {background-color: white;}#sk-container-id-7 label.sk-toggleable__label {cursor: pointer;display: block;width: 100%;margin-bottom: 0;padding: 0.3em;box-sizing: border-box;text-align: center;}#sk-container-id-7 label.sk-toggleable__label-arrow:before {content: \"▸\";float: left;margin-right: 0.25em;color: #696969;}#sk-container-id-7 label.sk-toggleable__label-arrow:hover:before {color: black;}#sk-container-id-7 div.sk-estimator:hover label.sk-toggleable__label-arrow:before {color: black;}#sk-container-id-7 div.sk-toggleable__content {max-height: 0;max-width: 0;overflow: hidden;text-align: left;background-color: #f0f8ff;}#sk-container-id-7 div.sk-toggleable__content pre {margin: 0.2em;color: black;border-radius: 0.25em;background-color: #f0f8ff;}#sk-container-id-7 input.sk-toggleable__control:checked~div.sk-toggleable__content {max-height: 200px;max-width: 100%;overflow: auto;}#sk-container-id-7 input.sk-toggleable__control:checked~label.sk-toggleable__label-arrow:before {content: \"▾\";}#sk-container-id-7 div.sk-estimator input.sk-toggleable__control:checked~label.sk-toggleable__label {background-color: #d4ebff;}#sk-container-id-7 div.sk-label input.sk-toggleable__control:checked~label.sk-toggleable__label {background-color: #d4ebff;}#sk-container-id-7 input.sk-hidden--visually {border: 0;clip: rect(1px 1px 1px 1px);clip: rect(1px, 1px, 1px, 1px);height: 1px;margin: -1px;overflow: hidden;padding: 0;position: absolute;width: 1px;}#sk-container-id-7 div.sk-estimator {font-family: monospace;background-color: #f0f8ff;border: 1px dotted black;border-radius: 0.25em;box-sizing: border-box;margin-bottom: 0.5em;}#sk-container-id-7 div.sk-estimator:hover {background-color: #d4ebff;}#sk-container-id-7 div.sk-parallel-item::after {content: \"\";width: 100%;border-bottom: 1px solid gray;flex-grow: 1;}#sk-container-id-7 div.sk-label:hover label.sk-toggleable__label {background-color: #d4ebff;}#sk-container-id-7 div.sk-serial::before {content: \"\";position: absolute;border-left: 1px solid gray;box-sizing: border-box;top: 0;bottom: 0;left: 50%;z-index: 0;}#sk-container-id-7 div.sk-serial {display: flex;flex-direction: column;align-items: center;background-color: white;padding-right: 0.2em;padding-left: 0.2em;position: relative;}#sk-container-id-7 div.sk-item {position: relative;z-index: 1;}#sk-container-id-7 div.sk-parallel {display: flex;align-items: stretch;justify-content: center;background-color: white;position: relative;}#sk-container-id-7 div.sk-item::before, #sk-container-id-7 div.sk-parallel-item::before {content: \"\";position: absolute;border-left: 1px solid gray;box-sizing: border-box;top: 0;bottom: 0;left: 50%;z-index: -1;}#sk-container-id-7 div.sk-parallel-item {display: flex;flex-direction: column;z-index: 1;position: relative;background-color: white;}#sk-container-id-7 div.sk-parallel-item:first-child::after {align-self: flex-end;width: 50%;}#sk-container-id-7 div.sk-parallel-item:last-child::after {align-self: flex-start;width: 50%;}#sk-container-id-7 div.sk-parallel-item:only-child::after {width: 0;}#sk-container-id-7 div.sk-dashed-wrapped {border: 1px dashed gray;margin: 0 0.4em 0.5em 0.4em;box-sizing: border-box;padding-bottom: 0.4em;background-color: white;}#sk-container-id-7 div.sk-label label {font-family: monospace;font-weight: bold;display: inline-block;line-height: 1.2em;}#sk-container-id-7 div.sk-label-container {text-align: center;}#sk-container-id-7 div.sk-container {/* jupyter's `normalize.less` sets `[hidden] { display: none; }` but bootstrap.min.css set `[hidden] { display: none !important; }` so we also need the `!important` here to be able to override the default hidden behavior on the sphinx rendered scikit-learn.org. See: https://github.com/scikit-learn/scikit-learn/issues/21755 */display: inline-block !important;position: relative;}#sk-container-id-7 div.sk-text-repr-fallback {display: none;}</style><div id=\"sk-container-id-7\" class=\"sk-top-container\"><div class=\"sk-text-repr-fallback\"><pre>GridSearchCV(cv=5, estimator=KNeighborsRegressor(),\n",
       "             param_grid={&#x27;n_neighbors&#x27;: [2, 3, 4, 5, 6, 7, 8, 9]})</pre><b>In a Jupyter environment, please rerun this cell to show the HTML representation or trust the notebook. <br />On GitHub, the HTML representation is unable to render, please try loading this page with nbviewer.org.</b></div><div class=\"sk-container\" hidden><div class=\"sk-item sk-dashed-wrapped\"><div class=\"sk-label-container\"><div class=\"sk-label sk-toggleable\"><input class=\"sk-toggleable__control sk-hidden--visually\" id=\"sk-estimator-id-11\" type=\"checkbox\" ><label for=\"sk-estimator-id-11\" class=\"sk-toggleable__label sk-toggleable__label-arrow\">GridSearchCV</label><div class=\"sk-toggleable__content\"><pre>GridSearchCV(cv=5, estimator=KNeighborsRegressor(),\n",
       "             param_grid={&#x27;n_neighbors&#x27;: [2, 3, 4, 5, 6, 7, 8, 9]})</pre></div></div></div><div class=\"sk-parallel\"><div class=\"sk-parallel-item\"><div class=\"sk-item\"><div class=\"sk-label-container\"><div class=\"sk-label sk-toggleable\"><input class=\"sk-toggleable__control sk-hidden--visually\" id=\"sk-estimator-id-12\" type=\"checkbox\" ><label for=\"sk-estimator-id-12\" class=\"sk-toggleable__label sk-toggleable__label-arrow\">estimator: KNeighborsRegressor</label><div class=\"sk-toggleable__content\"><pre>KNeighborsRegressor()</pre></div></div></div><div class=\"sk-serial\"><div class=\"sk-item\"><div class=\"sk-estimator sk-toggleable\"><input class=\"sk-toggleable__control sk-hidden--visually\" id=\"sk-estimator-id-13\" type=\"checkbox\" ><label for=\"sk-estimator-id-13\" class=\"sk-toggleable__label sk-toggleable__label-arrow\">KNeighborsRegressor</label><div class=\"sk-toggleable__content\"><pre>KNeighborsRegressor()</pre></div></div></div></div></div></div></div></div></div></div>"
      ],
      "text/plain": [
       "GridSearchCV(cv=5, estimator=KNeighborsRegressor(),\n",
       "             param_grid={'n_neighbors': [2, 3, 4, 5, 6, 7, 8, 9]})"
      ]
     },
     "execution_count": 150,
     "metadata": {},
     "output_type": "execute_result"
    }
   ],
   "source": [
    "model_knn3.fit(X_test,y_test)"
   ]
  },
  {
   "cell_type": "code",
   "execution_count": 151,
   "metadata": {},
   "outputs": [
    {
     "data": {
      "text/plain": [
       "0.32976384028637473"
      ]
     },
     "execution_count": 151,
     "metadata": {},
     "output_type": "execute_result"
    }
   ],
   "source": [
    "mse_knn4 = np.mean((model_knn3.predict(X_test)-y_test)**2)\n",
    "mse_knn4"
   ]
  },
  {
   "cell_type": "code",
   "execution_count": 152,
   "metadata": {},
   "outputs": [
    {
     "data": {
      "text/plain": [
       "0.5742506772189082"
      ]
     },
     "execution_count": 152,
     "metadata": {},
     "output_type": "execute_result"
    }
   ],
   "source": [
    "math.sqrt(mse_knn4)"
   ]
  },
  {
   "cell_type": "code",
   "execution_count": 153,
   "metadata": {},
   "outputs": [
    {
     "name": "stdout",
     "output_type": "stream",
     "text": [
      "R2 score for KNN  0.615762934554976\n"
     ]
    }
   ],
   "source": [
    "print('R2 score for KNN ',r2_score(y,model_knn3.predict(X)))"
   ]
  },
  {
   "cell_type": "code",
   "execution_count": 154,
   "metadata": {},
   "outputs": [
    {
     "data": {
      "text/plain": [
       "353.7496692342313"
      ]
     },
     "execution_count": 154,
     "metadata": {},
     "output_type": "execute_result"
    }
   ],
   "source": [
    "KNN_MAPE = (abs(y_test - (model_knn3.predict(X_test))/y_test )*100).mean()\n",
    "KNN_MAPE"
   ]
  },
  {
   "cell_type": "markdown",
   "metadata": {},
   "source": [
    "**ANN Model**"
   ]
  },
  {
   "cell_type": "code",
   "execution_count": 155,
   "metadata": {},
   "outputs": [],
   "source": [
    "from sklearn.neural_network import MLPRegressor"
   ]
  },
  {
   "cell_type": "code",
   "execution_count": 156,
   "metadata": {},
   "outputs": [],
   "source": [
    "clf = MLPRegressor(random_state=1)"
   ]
  },
  {
   "cell_type": "code",
   "execution_count": 157,
   "metadata": {},
   "outputs": [
    {
     "data": {
      "text/html": [
       "<style>#sk-container-id-8 {color: black;}#sk-container-id-8 pre{padding: 0;}#sk-container-id-8 div.sk-toggleable {background-color: white;}#sk-container-id-8 label.sk-toggleable__label {cursor: pointer;display: block;width: 100%;margin-bottom: 0;padding: 0.3em;box-sizing: border-box;text-align: center;}#sk-container-id-8 label.sk-toggleable__label-arrow:before {content: \"▸\";float: left;margin-right: 0.25em;color: #696969;}#sk-container-id-8 label.sk-toggleable__label-arrow:hover:before {color: black;}#sk-container-id-8 div.sk-estimator:hover label.sk-toggleable__label-arrow:before {color: black;}#sk-container-id-8 div.sk-toggleable__content {max-height: 0;max-width: 0;overflow: hidden;text-align: left;background-color: #f0f8ff;}#sk-container-id-8 div.sk-toggleable__content pre {margin: 0.2em;color: black;border-radius: 0.25em;background-color: #f0f8ff;}#sk-container-id-8 input.sk-toggleable__control:checked~div.sk-toggleable__content {max-height: 200px;max-width: 100%;overflow: auto;}#sk-container-id-8 input.sk-toggleable__control:checked~label.sk-toggleable__label-arrow:before {content: \"▾\";}#sk-container-id-8 div.sk-estimator input.sk-toggleable__control:checked~label.sk-toggleable__label {background-color: #d4ebff;}#sk-container-id-8 div.sk-label input.sk-toggleable__control:checked~label.sk-toggleable__label {background-color: #d4ebff;}#sk-container-id-8 input.sk-hidden--visually {border: 0;clip: rect(1px 1px 1px 1px);clip: rect(1px, 1px, 1px, 1px);height: 1px;margin: -1px;overflow: hidden;padding: 0;position: absolute;width: 1px;}#sk-container-id-8 div.sk-estimator {font-family: monospace;background-color: #f0f8ff;border: 1px dotted black;border-radius: 0.25em;box-sizing: border-box;margin-bottom: 0.5em;}#sk-container-id-8 div.sk-estimator:hover {background-color: #d4ebff;}#sk-container-id-8 div.sk-parallel-item::after {content: \"\";width: 100%;border-bottom: 1px solid gray;flex-grow: 1;}#sk-container-id-8 div.sk-label:hover label.sk-toggleable__label {background-color: #d4ebff;}#sk-container-id-8 div.sk-serial::before {content: \"\";position: absolute;border-left: 1px solid gray;box-sizing: border-box;top: 0;bottom: 0;left: 50%;z-index: 0;}#sk-container-id-8 div.sk-serial {display: flex;flex-direction: column;align-items: center;background-color: white;padding-right: 0.2em;padding-left: 0.2em;position: relative;}#sk-container-id-8 div.sk-item {position: relative;z-index: 1;}#sk-container-id-8 div.sk-parallel {display: flex;align-items: stretch;justify-content: center;background-color: white;position: relative;}#sk-container-id-8 div.sk-item::before, #sk-container-id-8 div.sk-parallel-item::before {content: \"\";position: absolute;border-left: 1px solid gray;box-sizing: border-box;top: 0;bottom: 0;left: 50%;z-index: -1;}#sk-container-id-8 div.sk-parallel-item {display: flex;flex-direction: column;z-index: 1;position: relative;background-color: white;}#sk-container-id-8 div.sk-parallel-item:first-child::after {align-self: flex-end;width: 50%;}#sk-container-id-8 div.sk-parallel-item:last-child::after {align-self: flex-start;width: 50%;}#sk-container-id-8 div.sk-parallel-item:only-child::after {width: 0;}#sk-container-id-8 div.sk-dashed-wrapped {border: 1px dashed gray;margin: 0 0.4em 0.5em 0.4em;box-sizing: border-box;padding-bottom: 0.4em;background-color: white;}#sk-container-id-8 div.sk-label label {font-family: monospace;font-weight: bold;display: inline-block;line-height: 1.2em;}#sk-container-id-8 div.sk-label-container {text-align: center;}#sk-container-id-8 div.sk-container {/* jupyter's `normalize.less` sets `[hidden] { display: none; }` but bootstrap.min.css set `[hidden] { display: none !important; }` so we also need the `!important` here to be able to override the default hidden behavior on the sphinx rendered scikit-learn.org. See: https://github.com/scikit-learn/scikit-learn/issues/21755 */display: inline-block !important;position: relative;}#sk-container-id-8 div.sk-text-repr-fallback {display: none;}</style><div id=\"sk-container-id-8\" class=\"sk-top-container\"><div class=\"sk-text-repr-fallback\"><pre>MLPRegressor(random_state=1)</pre><b>In a Jupyter environment, please rerun this cell to show the HTML representation or trust the notebook. <br />On GitHub, the HTML representation is unable to render, please try loading this page with nbviewer.org.</b></div><div class=\"sk-container\" hidden><div class=\"sk-item\"><div class=\"sk-estimator sk-toggleable\"><input class=\"sk-toggleable__control sk-hidden--visually\" id=\"sk-estimator-id-14\" type=\"checkbox\" checked><label for=\"sk-estimator-id-14\" class=\"sk-toggleable__label sk-toggleable__label-arrow\">MLPRegressor</label><div class=\"sk-toggleable__content\"><pre>MLPRegressor(random_state=1)</pre></div></div></div></div></div>"
      ],
      "text/plain": [
       "MLPRegressor(random_state=1)"
      ]
     },
     "execution_count": 157,
     "metadata": {},
     "output_type": "execute_result"
    }
   ],
   "source": [
    "clf.fit(X_train, y_train)"
   ]
  },
  {
   "cell_type": "code",
   "execution_count": 158,
   "metadata": {},
   "outputs": [
    {
     "data": {
      "text/plain": [
       "0.9454809123993754"
      ]
     },
     "execution_count": 158,
     "metadata": {},
     "output_type": "execute_result"
    }
   ],
   "source": [
    "clf.score(X_train,y_train)"
   ]
  },
  {
   "cell_type": "code",
   "execution_count": 159,
   "metadata": {},
   "outputs": [],
   "source": [
    "y_pred_ann=clf.predict(X_train)"
   ]
  },
  {
   "cell_type": "code",
   "execution_count": 160,
   "metadata": {},
   "outputs": [],
   "source": [
    "mse_ann = np.mean((clf.predict(X_train)-y_train)**2)"
   ]
  },
  {
   "cell_type": "code",
   "execution_count": 161,
   "metadata": {},
   "outputs": [
    {
     "data": {
      "text/plain": [
       "0.05471544297286461"
      ]
     },
     "execution_count": 161,
     "metadata": {},
     "output_type": "execute_result"
    }
   ],
   "source": [
    "mse_ann"
   ]
  },
  {
   "cell_type": "code",
   "execution_count": 162,
   "metadata": {},
   "outputs": [
    {
     "data": {
      "text/plain": [
       "0.23391332363263237"
      ]
     },
     "execution_count": 162,
     "metadata": {},
     "output_type": "execute_result"
    }
   ],
   "source": [
    "math.sqrt(mse_ann)"
   ]
  },
  {
   "cell_type": "code",
   "execution_count": 163,
   "metadata": {},
   "outputs": [
    {
     "data": {
      "text/plain": [
       "173.8227284038728"
      ]
     },
     "execution_count": 163,
     "metadata": {},
     "output_type": "execute_result"
    }
   ],
   "source": [
    "ANN_MAPE = (abs(y_train - (clf.predict(X_train))/y_train )*100).mean()\n",
    "ANN_MAPE"
   ]
  },
  {
   "cell_type": "code",
   "execution_count": 164,
   "metadata": {},
   "outputs": [],
   "source": [
    "y_pred_ann2=clf.predict(X_test)"
   ]
  },
  {
   "cell_type": "code",
   "execution_count": 165,
   "metadata": {},
   "outputs": [],
   "source": [
    "mse_ann2 = np.mean((clf.predict(X_test)-y_test)**2)"
   ]
  },
  {
   "cell_type": "code",
   "execution_count": 166,
   "metadata": {},
   "outputs": [
    {
     "data": {
      "text/plain": [
       "0.2329648904877499"
      ]
     },
     "execution_count": 166,
     "metadata": {},
     "output_type": "execute_result"
    }
   ],
   "source": [
    "mse_ann2"
   ]
  },
  {
   "cell_type": "code",
   "execution_count": 167,
   "metadata": {},
   "outputs": [
    {
     "data": {
      "text/plain": [
       "0.4826643662916809"
      ]
     },
     "execution_count": 167,
     "metadata": {},
     "output_type": "execute_result"
    }
   ],
   "source": [
    "math.sqrt(mse_ann2)"
   ]
  },
  {
   "cell_type": "code",
   "execution_count": 168,
   "metadata": {},
   "outputs": [
    {
     "data": {
      "text/plain": [
       "0.7650401354543305"
      ]
     },
     "execution_count": 168,
     "metadata": {},
     "output_type": "execute_result"
    }
   ],
   "source": [
    "r2_score(y_test,y_pred_ann2)"
   ]
  },
  {
   "cell_type": "code",
   "execution_count": 169,
   "metadata": {},
   "outputs": [
    {
     "data": {
      "text/plain": [
       "329.5494910628996"
      ]
     },
     "execution_count": 169,
     "metadata": {},
     "output_type": "execute_result"
    }
   ],
   "source": [
    "ANN_MAPE2 = (abs(y_test - (clf.predict(X_test))/y_test )*100).mean()\n",
    "ANN_MAPE2"
   ]
  },
  {
   "cell_type": "code",
   "execution_count": 170,
   "metadata": {},
   "outputs": [],
   "source": [
    "#Model Tuning\n",
    "param_grid_ann = {\n",
    "    'hidden_layer_sizes': [10,50,100],\n",
    "    'activation': ['relu'],\n",
    "    'solver': ['sgd','adam'],\n",
    "    'tol': [0.1,0.01],\n",
    "    'max_iter' : [40,50,100]\n",
    "}\n",
    "\n",
    "mlp = MLPRegressor(random_state=1)\n",
    "\n",
    "grid_search_ann = GridSearchCV(estimator = mlp, param_grid = param_grid_ann, cv = 3)"
   ]
  },
  {
   "cell_type": "code",
   "execution_count": 171,
   "metadata": {},
   "outputs": [
    {
     "data": {
      "text/html": [
       "<style>#sk-container-id-9 {color: black;}#sk-container-id-9 pre{padding: 0;}#sk-container-id-9 div.sk-toggleable {background-color: white;}#sk-container-id-9 label.sk-toggleable__label {cursor: pointer;display: block;width: 100%;margin-bottom: 0;padding: 0.3em;box-sizing: border-box;text-align: center;}#sk-container-id-9 label.sk-toggleable__label-arrow:before {content: \"▸\";float: left;margin-right: 0.25em;color: #696969;}#sk-container-id-9 label.sk-toggleable__label-arrow:hover:before {color: black;}#sk-container-id-9 div.sk-estimator:hover label.sk-toggleable__label-arrow:before {color: black;}#sk-container-id-9 div.sk-toggleable__content {max-height: 0;max-width: 0;overflow: hidden;text-align: left;background-color: #f0f8ff;}#sk-container-id-9 div.sk-toggleable__content pre {margin: 0.2em;color: black;border-radius: 0.25em;background-color: #f0f8ff;}#sk-container-id-9 input.sk-toggleable__control:checked~div.sk-toggleable__content {max-height: 200px;max-width: 100%;overflow: auto;}#sk-container-id-9 input.sk-toggleable__control:checked~label.sk-toggleable__label-arrow:before {content: \"▾\";}#sk-container-id-9 div.sk-estimator input.sk-toggleable__control:checked~label.sk-toggleable__label {background-color: #d4ebff;}#sk-container-id-9 div.sk-label input.sk-toggleable__control:checked~label.sk-toggleable__label {background-color: #d4ebff;}#sk-container-id-9 input.sk-hidden--visually {border: 0;clip: rect(1px 1px 1px 1px);clip: rect(1px, 1px, 1px, 1px);height: 1px;margin: -1px;overflow: hidden;padding: 0;position: absolute;width: 1px;}#sk-container-id-9 div.sk-estimator {font-family: monospace;background-color: #f0f8ff;border: 1px dotted black;border-radius: 0.25em;box-sizing: border-box;margin-bottom: 0.5em;}#sk-container-id-9 div.sk-estimator:hover {background-color: #d4ebff;}#sk-container-id-9 div.sk-parallel-item::after {content: \"\";width: 100%;border-bottom: 1px solid gray;flex-grow: 1;}#sk-container-id-9 div.sk-label:hover label.sk-toggleable__label {background-color: #d4ebff;}#sk-container-id-9 div.sk-serial::before {content: \"\";position: absolute;border-left: 1px solid gray;box-sizing: border-box;top: 0;bottom: 0;left: 50%;z-index: 0;}#sk-container-id-9 div.sk-serial {display: flex;flex-direction: column;align-items: center;background-color: white;padding-right: 0.2em;padding-left: 0.2em;position: relative;}#sk-container-id-9 div.sk-item {position: relative;z-index: 1;}#sk-container-id-9 div.sk-parallel {display: flex;align-items: stretch;justify-content: center;background-color: white;position: relative;}#sk-container-id-9 div.sk-item::before, #sk-container-id-9 div.sk-parallel-item::before {content: \"\";position: absolute;border-left: 1px solid gray;box-sizing: border-box;top: 0;bottom: 0;left: 50%;z-index: -1;}#sk-container-id-9 div.sk-parallel-item {display: flex;flex-direction: column;z-index: 1;position: relative;background-color: white;}#sk-container-id-9 div.sk-parallel-item:first-child::after {align-self: flex-end;width: 50%;}#sk-container-id-9 div.sk-parallel-item:last-child::after {align-self: flex-start;width: 50%;}#sk-container-id-9 div.sk-parallel-item:only-child::after {width: 0;}#sk-container-id-9 div.sk-dashed-wrapped {border: 1px dashed gray;margin: 0 0.4em 0.5em 0.4em;box-sizing: border-box;padding-bottom: 0.4em;background-color: white;}#sk-container-id-9 div.sk-label label {font-family: monospace;font-weight: bold;display: inline-block;line-height: 1.2em;}#sk-container-id-9 div.sk-label-container {text-align: center;}#sk-container-id-9 div.sk-container {/* jupyter's `normalize.less` sets `[hidden] { display: none; }` but bootstrap.min.css set `[hidden] { display: none !important; }` so we also need the `!important` here to be able to override the default hidden behavior on the sphinx rendered scikit-learn.org. See: https://github.com/scikit-learn/scikit-learn/issues/21755 */display: inline-block !important;position: relative;}#sk-container-id-9 div.sk-text-repr-fallback {display: none;}</style><div id=\"sk-container-id-9\" class=\"sk-top-container\"><div class=\"sk-text-repr-fallback\"><pre>GridSearchCV(cv=3, estimator=MLPRegressor(random_state=1),\n",
       "             param_grid={&#x27;activation&#x27;: [&#x27;relu&#x27;],\n",
       "                         &#x27;hidden_layer_sizes&#x27;: [10, 50, 100],\n",
       "                         &#x27;max_iter&#x27;: [40, 50, 100], &#x27;solver&#x27;: [&#x27;sgd&#x27;, &#x27;adam&#x27;],\n",
       "                         &#x27;tol&#x27;: [0.1, 0.01]})</pre><b>In a Jupyter environment, please rerun this cell to show the HTML representation or trust the notebook. <br />On GitHub, the HTML representation is unable to render, please try loading this page with nbviewer.org.</b></div><div class=\"sk-container\" hidden><div class=\"sk-item sk-dashed-wrapped\"><div class=\"sk-label-container\"><div class=\"sk-label sk-toggleable\"><input class=\"sk-toggleable__control sk-hidden--visually\" id=\"sk-estimator-id-15\" type=\"checkbox\" ><label for=\"sk-estimator-id-15\" class=\"sk-toggleable__label sk-toggleable__label-arrow\">GridSearchCV</label><div class=\"sk-toggleable__content\"><pre>GridSearchCV(cv=3, estimator=MLPRegressor(random_state=1),\n",
       "             param_grid={&#x27;activation&#x27;: [&#x27;relu&#x27;],\n",
       "                         &#x27;hidden_layer_sizes&#x27;: [10, 50, 100],\n",
       "                         &#x27;max_iter&#x27;: [40, 50, 100], &#x27;solver&#x27;: [&#x27;sgd&#x27;, &#x27;adam&#x27;],\n",
       "                         &#x27;tol&#x27;: [0.1, 0.01]})</pre></div></div></div><div class=\"sk-parallel\"><div class=\"sk-parallel-item\"><div class=\"sk-item\"><div class=\"sk-label-container\"><div class=\"sk-label sk-toggleable\"><input class=\"sk-toggleable__control sk-hidden--visually\" id=\"sk-estimator-id-16\" type=\"checkbox\" ><label for=\"sk-estimator-id-16\" class=\"sk-toggleable__label sk-toggleable__label-arrow\">estimator: MLPRegressor</label><div class=\"sk-toggleable__content\"><pre>MLPRegressor(random_state=1)</pre></div></div></div><div class=\"sk-serial\"><div class=\"sk-item\"><div class=\"sk-estimator sk-toggleable\"><input class=\"sk-toggleable__control sk-hidden--visually\" id=\"sk-estimator-id-17\" type=\"checkbox\" ><label for=\"sk-estimator-id-17\" class=\"sk-toggleable__label sk-toggleable__label-arrow\">MLPRegressor</label><div class=\"sk-toggleable__content\"><pre>MLPRegressor(random_state=1)</pre></div></div></div></div></div></div></div></div></div></div>"
      ],
      "text/plain": [
       "GridSearchCV(cv=3, estimator=MLPRegressor(random_state=1),\n",
       "             param_grid={'activation': ['relu'],\n",
       "                         'hidden_layer_sizes': [10, 50, 100],\n",
       "                         'max_iter': [40, 50, 100], 'solver': ['sgd', 'adam'],\n",
       "                         'tol': [0.1, 0.01]})"
      ]
     },
     "execution_count": 171,
     "metadata": {},
     "output_type": "execute_result"
    }
   ],
   "source": [
    "grid_search_ann.fit(X_train, y_train)"
   ]
  },
  {
   "cell_type": "code",
   "execution_count": 172,
   "metadata": {},
   "outputs": [
    {
     "data": {
      "text/plain": [
       "{'activation': 'relu',\n",
       " 'hidden_layer_sizes': 100,\n",
       " 'max_iter': 40,\n",
       " 'solver': 'adam',\n",
       " 'tol': 0.01}"
      ]
     },
     "execution_count": 172,
     "metadata": {},
     "output_type": "execute_result"
    }
   ],
   "source": [
    "grid_search_ann.best_params_"
   ]
  },
  {
   "cell_type": "code",
   "execution_count": 173,
   "metadata": {},
   "outputs": [],
   "source": [
    "best_grid_ann = grid_search_ann.best_estimator_"
   ]
  },
  {
   "cell_type": "code",
   "execution_count": 174,
   "metadata": {},
   "outputs": [],
   "source": [
    "ytrain_predict_ann = best_grid_ann.predict(X_train)\n",
    "ytest_predict_ann = best_grid_ann.predict(X_test)"
   ]
  },
  {
   "cell_type": "code",
   "execution_count": 175,
   "metadata": {},
   "outputs": [
    {
     "data": {
      "text/plain": [
       "0.8358907083547136"
      ]
     },
     "execution_count": 175,
     "metadata": {},
     "output_type": "execute_result"
    }
   ],
   "source": [
    "#Train Data performance metrics\n",
    "r2_score(y_train,ytrain_predict_ann)"
   ]
  },
  {
   "cell_type": "code",
   "execution_count": 176,
   "metadata": {},
   "outputs": [],
   "source": [
    "mse_ann1 = np.mean((y_train-ytrain_predict_ann)**2)"
   ]
  },
  {
   "cell_type": "code",
   "execution_count": 177,
   "metadata": {},
   "outputs": [
    {
     "data": {
      "text/plain": [
       "0.1647003459432803"
      ]
     },
     "execution_count": 177,
     "metadata": {},
     "output_type": "execute_result"
    }
   ],
   "source": [
    "mse_ann1"
   ]
  },
  {
   "cell_type": "code",
   "execution_count": 178,
   "metadata": {},
   "outputs": [
    {
     "data": {
      "text/plain": [
       "0.40583290396822225"
      ]
     },
     "execution_count": 178,
     "metadata": {},
     "output_type": "execute_result"
    }
   ],
   "source": [
    "math.sqrt(mse_ann1)"
   ]
  },
  {
   "cell_type": "code",
   "execution_count": 179,
   "metadata": {},
   "outputs": [
    {
     "data": {
      "text/plain": [
       "230.72982871998397"
      ]
     },
     "execution_count": 179,
     "metadata": {},
     "output_type": "execute_result"
    }
   ],
   "source": [
    "ANN_MAPE = (abs(y_train - (best_grid_ann.predict(X_train))/y_train )*100).mean()\n",
    "ANN_MAPE"
   ]
  },
  {
   "cell_type": "code",
   "execution_count": 180,
   "metadata": {},
   "outputs": [
    {
     "data": {
      "text/plain": [
       "0.7867883591093858"
      ]
     },
     "execution_count": 180,
     "metadata": {},
     "output_type": "execute_result"
    }
   ],
   "source": [
    "#Test Data performance metrics\n",
    "r2_score(y_test,ytest_predict_ann)"
   ]
  },
  {
   "cell_type": "code",
   "execution_count": 181,
   "metadata": {},
   "outputs": [],
   "source": [
    "mse_ann2 = np.mean((y_test-ytest_predict_ann)**2)"
   ]
  },
  {
   "cell_type": "code",
   "execution_count": 182,
   "metadata": {},
   "outputs": [
    {
     "data": {
      "text/plain": [
       "0.21140132450638519"
      ]
     },
     "execution_count": 182,
     "metadata": {},
     "output_type": "execute_result"
    }
   ],
   "source": [
    "mse_ann2"
   ]
  },
  {
   "cell_type": "code",
   "execution_count": 183,
   "metadata": {},
   "outputs": [
    {
     "data": {
      "text/plain": [
       "0.4597839976623645"
      ]
     },
     "execution_count": 183,
     "metadata": {},
     "output_type": "execute_result"
    }
   ],
   "source": [
    "math.sqrt(mse_ann2)"
   ]
  },
  {
   "cell_type": "code",
   "execution_count": 184,
   "metadata": {},
   "outputs": [
    {
     "data": {
      "text/plain": [
       "0.7867883591093858"
      ]
     },
     "execution_count": 184,
     "metadata": {},
     "output_type": "execute_result"
    }
   ],
   "source": [
    "r2_score(y_test,ytest_predict_ann)"
   ]
  },
  {
   "cell_type": "code",
   "execution_count": 185,
   "metadata": {},
   "outputs": [
    {
     "data": {
      "text/plain": [
       "309.64320406240546"
      ]
     },
     "execution_count": 185,
     "metadata": {},
     "output_type": "execute_result"
    }
   ],
   "source": [
    "ANN_MAPE2 = (abs(y_test - (best_grid_ann.predict(X_test))/y_test )*100).mean()\n",
    "ANN_MAPE2"
   ]
  },
  {
   "cell_type": "markdown",
   "metadata": {},
   "source": [
    "**LASSO REGRESSION**"
   ]
  },
  {
   "cell_type": "code",
   "execution_count": 186,
   "metadata": {},
   "outputs": [],
   "source": [
    "from sklearn.linear_model import Lasso"
   ]
  },
  {
   "cell_type": "code",
   "execution_count": 187,
   "metadata": {},
   "outputs": [
    {
     "name": "stdout",
     "output_type": "stream",
     "text": [
      "Lasso model: [ 0.          0.09519682  0.10147058  0.          0.          0.12813447\n",
      "  0.          0.01576634  0.58827966  0.          0.          0.\n",
      " -0.         -0.          0.         -0.         -0.          0.\n",
      " -0.          0.         -0.          0.         -0.         -0.\n",
      "  0.          0.         -0.          0.         -0.          0.\n",
      "  0.          0.          0.         -0.          0.        ]\n"
     ]
    }
   ],
   "source": [
    "lasso = Lasso(alpha=0.1)\n",
    "lasso.fit(X_train,y_train)\n",
    "print (\"Lasso model:\"\n",
    "       \n",
    "       , \n",
    "       \n",
    "       \n",
    "       (lasso.coef_))"
   ]
  },
  {
   "cell_type": "code",
   "execution_count": 188,
   "metadata": {},
   "outputs": [
    {
     "name": "stdout",
     "output_type": "stream",
     "text": [
      "Train r-squared = 0.7823702483529706\n",
      "Test r-squared = 0.7701206339445097\n"
     ]
    }
   ],
   "source": [
    "print('Train r-squared =',lasso.score(X_train, y_train))\n",
    "print('Test r-squared =',lasso.score(X_test, y_test))"
   ]
  },
  {
   "cell_type": "code",
   "execution_count": 189,
   "metadata": {},
   "outputs": [],
   "source": [
    "ytrain_predict_lasso=lasso.fit(X_train, y_train).predict(X_train)"
   ]
  },
  {
   "cell_type": "code",
   "execution_count": 190,
   "metadata": {},
   "outputs": [],
   "source": [
    "ytest_predict_lasso=lasso.fit(X_train, y_train).predict(X_test)"
   ]
  },
  {
   "cell_type": "code",
   "execution_count": 191,
   "metadata": {},
   "outputs": [
    {
     "data": {
      "text/plain": [
       "0.218413564670611"
      ]
     },
     "execution_count": 191,
     "metadata": {},
     "output_type": "execute_result"
    }
   ],
   "source": [
    "mse_lasso_train = np.mean((y_train-ytrain_predict_lasso)**2)\n",
    "mse_lasso_train"
   ]
  },
  {
   "cell_type": "code",
   "execution_count": 192,
   "metadata": {},
   "outputs": [
    {
     "data": {
      "text/plain": [
       "0.227927528993367"
      ]
     },
     "execution_count": 192,
     "metadata": {},
     "output_type": "execute_result"
    }
   ],
   "source": [
    "mse_lasso_test = np.mean((y_test-ytest_predict_lasso)**2)\n",
    "mse_lasso_test"
   ]
  },
  {
   "cell_type": "code",
   "execution_count": 193,
   "metadata": {},
   "outputs": [
    {
     "data": {
      "text/plain": [
       "0.46734737045436664"
      ]
     },
     "execution_count": 193,
     "metadata": {},
     "output_type": "execute_result"
    }
   ],
   "source": [
    "math.sqrt(mse_lasso_train)"
   ]
  },
  {
   "cell_type": "code",
   "execution_count": 194,
   "metadata": {},
   "outputs": [
    {
     "data": {
      "text/plain": [
       "0.4774175625103951"
      ]
     },
     "execution_count": 194,
     "metadata": {},
     "output_type": "execute_result"
    }
   ],
   "source": [
    "math.sqrt(mse_lasso_test)"
   ]
  },
  {
   "cell_type": "code",
   "execution_count": 195,
   "metadata": {},
   "outputs": [
    {
     "data": {
      "text/plain": [
       "-10.301075576535768"
      ]
     },
     "execution_count": 195,
     "metadata": {},
     "output_type": "execute_result"
    }
   ],
   "source": [
    "LSS_MAPE = ((abs(y_train - ytrain_predict_lasso)*100)/y_train).mean()\n",
    "LSS_MAPE"
   ]
  },
  {
   "cell_type": "code",
   "execution_count": 196,
   "metadata": {},
   "outputs": [
    {
     "data": {
      "text/plain": [
       "77.28927124968925"
      ]
     },
     "execution_count": 196,
     "metadata": {},
     "output_type": "execute_result"
    }
   ],
   "source": [
    "LSS_MAPE = ((abs(y_test - ytest_predict_lasso)*100)/y_test).mean()\n",
    "LSS_MAPE"
   ]
  },
  {
   "cell_type": "code",
   "execution_count": 197,
   "metadata": {},
   "outputs": [],
   "source": [
    "#Model Tuning"
   ]
  },
  {
   "cell_type": "code",
   "execution_count": 198,
   "metadata": {},
   "outputs": [],
   "source": [
    "param_grid_lasso = {\n",
    "    'alpha' : [0.1,0.5],\n",
    "    'max_iter': [500,1000],\n",
    "    'tol' : [0.1,0.01]\n",
    "\n",
    "}\n",
    "\n",
    "lass = Lasso(random_state=1)\n",
    "\n",
    "grid_search_lasso = GridSearchCV(estimator = lass, param_grid = param_grid_lasso, cv = 3)"
   ]
  },
  {
   "cell_type": "code",
   "execution_count": 199,
   "metadata": {},
   "outputs": [
    {
     "data": {
      "text/html": [
       "<style>#sk-container-id-10 {color: black;}#sk-container-id-10 pre{padding: 0;}#sk-container-id-10 div.sk-toggleable {background-color: white;}#sk-container-id-10 label.sk-toggleable__label {cursor: pointer;display: block;width: 100%;margin-bottom: 0;padding: 0.3em;box-sizing: border-box;text-align: center;}#sk-container-id-10 label.sk-toggleable__label-arrow:before {content: \"▸\";float: left;margin-right: 0.25em;color: #696969;}#sk-container-id-10 label.sk-toggleable__label-arrow:hover:before {color: black;}#sk-container-id-10 div.sk-estimator:hover label.sk-toggleable__label-arrow:before {color: black;}#sk-container-id-10 div.sk-toggleable__content {max-height: 0;max-width: 0;overflow: hidden;text-align: left;background-color: #f0f8ff;}#sk-container-id-10 div.sk-toggleable__content pre {margin: 0.2em;color: black;border-radius: 0.25em;background-color: #f0f8ff;}#sk-container-id-10 input.sk-toggleable__control:checked~div.sk-toggleable__content {max-height: 200px;max-width: 100%;overflow: auto;}#sk-container-id-10 input.sk-toggleable__control:checked~label.sk-toggleable__label-arrow:before {content: \"▾\";}#sk-container-id-10 div.sk-estimator input.sk-toggleable__control:checked~label.sk-toggleable__label {background-color: #d4ebff;}#sk-container-id-10 div.sk-label input.sk-toggleable__control:checked~label.sk-toggleable__label {background-color: #d4ebff;}#sk-container-id-10 input.sk-hidden--visually {border: 0;clip: rect(1px 1px 1px 1px);clip: rect(1px, 1px, 1px, 1px);height: 1px;margin: -1px;overflow: hidden;padding: 0;position: absolute;width: 1px;}#sk-container-id-10 div.sk-estimator {font-family: monospace;background-color: #f0f8ff;border: 1px dotted black;border-radius: 0.25em;box-sizing: border-box;margin-bottom: 0.5em;}#sk-container-id-10 div.sk-estimator:hover {background-color: #d4ebff;}#sk-container-id-10 div.sk-parallel-item::after {content: \"\";width: 100%;border-bottom: 1px solid gray;flex-grow: 1;}#sk-container-id-10 div.sk-label:hover label.sk-toggleable__label {background-color: #d4ebff;}#sk-container-id-10 div.sk-serial::before {content: \"\";position: absolute;border-left: 1px solid gray;box-sizing: border-box;top: 0;bottom: 0;left: 50%;z-index: 0;}#sk-container-id-10 div.sk-serial {display: flex;flex-direction: column;align-items: center;background-color: white;padding-right: 0.2em;padding-left: 0.2em;position: relative;}#sk-container-id-10 div.sk-item {position: relative;z-index: 1;}#sk-container-id-10 div.sk-parallel {display: flex;align-items: stretch;justify-content: center;background-color: white;position: relative;}#sk-container-id-10 div.sk-item::before, #sk-container-id-10 div.sk-parallel-item::before {content: \"\";position: absolute;border-left: 1px solid gray;box-sizing: border-box;top: 0;bottom: 0;left: 50%;z-index: -1;}#sk-container-id-10 div.sk-parallel-item {display: flex;flex-direction: column;z-index: 1;position: relative;background-color: white;}#sk-container-id-10 div.sk-parallel-item:first-child::after {align-self: flex-end;width: 50%;}#sk-container-id-10 div.sk-parallel-item:last-child::after {align-self: flex-start;width: 50%;}#sk-container-id-10 div.sk-parallel-item:only-child::after {width: 0;}#sk-container-id-10 div.sk-dashed-wrapped {border: 1px dashed gray;margin: 0 0.4em 0.5em 0.4em;box-sizing: border-box;padding-bottom: 0.4em;background-color: white;}#sk-container-id-10 div.sk-label label {font-family: monospace;font-weight: bold;display: inline-block;line-height: 1.2em;}#sk-container-id-10 div.sk-label-container {text-align: center;}#sk-container-id-10 div.sk-container {/* jupyter's `normalize.less` sets `[hidden] { display: none; }` but bootstrap.min.css set `[hidden] { display: none !important; }` so we also need the `!important` here to be able to override the default hidden behavior on the sphinx rendered scikit-learn.org. See: https://github.com/scikit-learn/scikit-learn/issues/21755 */display: inline-block !important;position: relative;}#sk-container-id-10 div.sk-text-repr-fallback {display: none;}</style><div id=\"sk-container-id-10\" class=\"sk-top-container\"><div class=\"sk-text-repr-fallback\"><pre>GridSearchCV(cv=3, estimator=Lasso(random_state=1),\n",
       "             param_grid={&#x27;alpha&#x27;: [0.1, 0.5], &#x27;max_iter&#x27;: [500, 1000],\n",
       "                         &#x27;tol&#x27;: [0.1, 0.01]})</pre><b>In a Jupyter environment, please rerun this cell to show the HTML representation or trust the notebook. <br />On GitHub, the HTML representation is unable to render, please try loading this page with nbviewer.org.</b></div><div class=\"sk-container\" hidden><div class=\"sk-item sk-dashed-wrapped\"><div class=\"sk-label-container\"><div class=\"sk-label sk-toggleable\"><input class=\"sk-toggleable__control sk-hidden--visually\" id=\"sk-estimator-id-18\" type=\"checkbox\" ><label for=\"sk-estimator-id-18\" class=\"sk-toggleable__label sk-toggleable__label-arrow\">GridSearchCV</label><div class=\"sk-toggleable__content\"><pre>GridSearchCV(cv=3, estimator=Lasso(random_state=1),\n",
       "             param_grid={&#x27;alpha&#x27;: [0.1, 0.5], &#x27;max_iter&#x27;: [500, 1000],\n",
       "                         &#x27;tol&#x27;: [0.1, 0.01]})</pre></div></div></div><div class=\"sk-parallel\"><div class=\"sk-parallel-item\"><div class=\"sk-item\"><div class=\"sk-label-container\"><div class=\"sk-label sk-toggleable\"><input class=\"sk-toggleable__control sk-hidden--visually\" id=\"sk-estimator-id-19\" type=\"checkbox\" ><label for=\"sk-estimator-id-19\" class=\"sk-toggleable__label sk-toggleable__label-arrow\">estimator: Lasso</label><div class=\"sk-toggleable__content\"><pre>Lasso(random_state=1)</pre></div></div></div><div class=\"sk-serial\"><div class=\"sk-item\"><div class=\"sk-estimator sk-toggleable\"><input class=\"sk-toggleable__control sk-hidden--visually\" id=\"sk-estimator-id-20\" type=\"checkbox\" ><label for=\"sk-estimator-id-20\" class=\"sk-toggleable__label sk-toggleable__label-arrow\">Lasso</label><div class=\"sk-toggleable__content\"><pre>Lasso(random_state=1)</pre></div></div></div></div></div></div></div></div></div></div>"
      ],
      "text/plain": [
       "GridSearchCV(cv=3, estimator=Lasso(random_state=1),\n",
       "             param_grid={'alpha': [0.1, 0.5], 'max_iter': [500, 1000],\n",
       "                         'tol': [0.1, 0.01]})"
      ]
     },
     "execution_count": 199,
     "metadata": {},
     "output_type": "execute_result"
    }
   ],
   "source": [
    "grid_search_lasso.fit(X_train, y_train)"
   ]
  },
  {
   "cell_type": "code",
   "execution_count": 200,
   "metadata": {},
   "outputs": [
    {
     "data": {
      "text/plain": [
       "{'alpha': 0.1, 'max_iter': 500, 'tol': 0.1}"
      ]
     },
     "execution_count": 200,
     "metadata": {},
     "output_type": "execute_result"
    }
   ],
   "source": [
    "grid_search_lasso.best_params_"
   ]
  },
  {
   "cell_type": "code",
   "execution_count": 201,
   "metadata": {},
   "outputs": [],
   "source": [
    "best_grid_lasso = grid_search_lasso.best_estimator_"
   ]
  },
  {
   "cell_type": "code",
   "execution_count": 202,
   "metadata": {},
   "outputs": [],
   "source": [
    "ytrain_predict_lasso = best_grid_lasso.predict(X_train)\n",
    "ytest_predict_lasso = best_grid_lasso.predict(X_test)"
   ]
  },
  {
   "cell_type": "code",
   "execution_count": 203,
   "metadata": {},
   "outputs": [
    {
     "data": {
      "text/plain": [
       "0.7839738472105656"
      ]
     },
     "execution_count": 203,
     "metadata": {},
     "output_type": "execute_result"
    }
   ],
   "source": [
    "#Train Data performance metrics\n",
    "r2_score(y_train,ytrain_predict_lasso)"
   ]
  },
  {
   "cell_type": "code",
   "execution_count": 204,
   "metadata": {},
   "outputs": [],
   "source": [
    "mse_lasso1 = np.mean((y_train-ytrain_predict_lasso)**2)"
   ]
  },
  {
   "cell_type": "code",
   "execution_count": 205,
   "metadata": {},
   "outputs": [
    {
     "data": {
      "text/plain": [
       "0.21680419030824385"
      ]
     },
     "execution_count": 205,
     "metadata": {},
     "output_type": "execute_result"
    }
   ],
   "source": [
    "mse_lasso1"
   ]
  },
  {
   "cell_type": "code",
   "execution_count": 206,
   "metadata": {},
   "outputs": [
    {
     "data": {
      "text/plain": [
       "0.4656223687799415"
      ]
     },
     "execution_count": 206,
     "metadata": {},
     "output_type": "execute_result"
    }
   ],
   "source": [
    "math.sqrt(mse_lasso1)"
   ]
  },
  {
   "cell_type": "code",
   "execution_count": 207,
   "metadata": {},
   "outputs": [
    {
     "data": {
      "text/plain": [
       "0.7714759027085277"
      ]
     },
     "execution_count": 207,
     "metadata": {},
     "output_type": "execute_result"
    }
   ],
   "source": [
    "#Test Data performance metrics\n",
    "r2_score(y_test,ytest_predict_lasso)"
   ]
  },
  {
   "cell_type": "code",
   "execution_count": 208,
   "metadata": {},
   "outputs": [],
   "source": [
    "mse_lasso2 = np.mean((y_test-ytest_predict_lasso)**2)"
   ]
  },
  {
   "cell_type": "code",
   "execution_count": 209,
   "metadata": {},
   "outputs": [
    {
     "data": {
      "text/plain": [
       "0.22658376741178182"
      ]
     },
     "execution_count": 209,
     "metadata": {},
     "output_type": "execute_result"
    }
   ],
   "source": [
    "mse_lasso2"
   ]
  },
  {
   "cell_type": "code",
   "execution_count": 210,
   "metadata": {},
   "outputs": [
    {
     "data": {
      "text/plain": [
       "0.476008158976064"
      ]
     },
     "execution_count": 210,
     "metadata": {},
     "output_type": "execute_result"
    }
   ],
   "source": [
    "math.sqrt(mse_lasso2)"
   ]
  },
  {
   "cell_type": "code",
   "execution_count": 211,
   "metadata": {},
   "outputs": [
    {
     "data": {
      "text/plain": [
       "-11.635397696397257"
      ]
     },
     "execution_count": 211,
     "metadata": {},
     "output_type": "execute_result"
    }
   ],
   "source": [
    "LSS_MAPE = ((abs(y_train - ytrain_predict_lasso)*100)/y_train).mean()\n",
    "LSS_MAPE"
   ]
  },
  {
   "cell_type": "code",
   "execution_count": 212,
   "metadata": {},
   "outputs": [
    {
     "data": {
      "text/plain": [
       "77.50046300160912"
      ]
     },
     "execution_count": 212,
     "metadata": {},
     "output_type": "execute_result"
    }
   ],
   "source": [
    "LSS_MAPE = ((abs(y_test - ytest_predict_lasso)*100)/y_test).mean()\n",
    "LSS_MAPE"
   ]
  }
 ],
 "metadata": {
  "kernelspec": {
   "display_name": "Python 3 (ipykernel)",
   "language": "python",
   "name": "python3"
  },
  "language_info": {
   "codemirror_mode": {
    "name": "ipython",
    "version": 3
   },
   "file_extension": ".py",
   "mimetype": "text/x-python",
   "name": "python",
   "nbconvert_exporter": "python",
   "pygments_lexer": "ipython3",
   "version": "3.11.4"
  }
 },
 "nbformat": 4,
 "nbformat_minor": 4
}
